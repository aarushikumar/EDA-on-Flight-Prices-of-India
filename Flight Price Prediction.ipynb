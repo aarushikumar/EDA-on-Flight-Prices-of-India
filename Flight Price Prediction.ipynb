{
 "cells": [
  {
   "cell_type": "markdown",
   "id": "3f26ae2d",
   "metadata": {},
   "source": [
    "# Exploratory Data Analysis on Flight Prices of India"
   ]
  },
  {
   "cell_type": "markdown",
   "id": "7f5f17aa",
   "metadata": {},
   "source": [
    "# Introduction\n",
    "The objective of the study is to perform exploratory data analysis on the flight booking dataset obtained from “Ease My Trip” website in order to get meaningful information from it. 'Easemytrip' is an internet platform for booking flight tickets, and hence a platform that potential passengers use to buy tickets. A thorough study of the data will aid in the discovery of valuable insights that will be of enormous value to passengers."
   ]
  },
  {
   "cell_type": "markdown",
   "id": "94da2229",
   "metadata": {},
   "source": [
    "## Data Collection and Methodology\n",
    "Octoparse scraping tool was used to extract data from the website. A total of 10684 distinct flight booking options was extracted from the site. Data was collected from March 11th to June 31st, 2019. Data source was secondary data and was collected from Ease my trip website. Dataset contains information about flight booking options from the website Easemytrip for flight travel between India's top 6 metro cities. There are 10684 datapoints and 11 features in the cleaned dataset.
   ]
  },
  {
   "cell_type": "markdown",
   "id": "3ac10caa",
   "metadata": {},
   "source": [
    "## Features\n",
    "The various features of the cleaned dataset are explained below:\n",
    "1. Airline: The name of the airline company is stored in the airline column. It is a categorical feature having 6 different airlines.\n",
    "2. Flight: Flight stores information regarding the plane's flight code. It is a categorical feature.\n",
    "3. Source City: City from which the flight takes off. It is a categorical feature having 6 unique cities.\n",
    "4. Departure Time: This is a derived categorical feature obtained created by grouping time periods into bins. It stores information about the departure time and have 6 unique time labels.\n",
    "5. Stops: A categorical feature with 3 distinct values that stores the number of stops between the source and destination cities.\n",
    "6. Arrival Time: This is a derived categorical feature created by grouping time intervals into bins. It has six distinct time labels and keeps information about the arrival time.\n",
    "7. Destination City: City where the flight will land. It is a categorical feature having 6 unique cities.\n",
    "8. Class: A categorical feature that contains information on seat class; it has two distinct values: Business and Economy.\n",
    "9. Duration: A continuous feature that displays the overall amount of time it takes to travel between cities in hours.\n",
    "10. Days Left: This is a derived characteristic that is calculated by subtracting the trip date by the booking date.\n",
    "11. Price: Target variable stores information of the ticket price.\n"
   ]
  },
  {
   "cell_type": "markdown",
   "id": "ab9bb43a",
   "metadata": {},
   "source": [
    "# Importing necessary libraries"
   ]
  },
  {
   "cell_type": "code",
   "execution_count": 1,
   "id": "aef74041",
   "metadata": {},
   "outputs": [],
   "source": [
    "import pandas as pd\n",
    "import numpy as np\n",
    "import matplotlib.pyplot as plt\n",
    "import seaborn as sns"
   ]
  },
  {
   "cell_type": "code",
   "execution_count": 2,
   "id": "8d01fc30",
   "metadata": {},
   "outputs": [],
   "source": [
    "df = pd.read_excel(\"flight_price.xlsx\")"
   ]
  },
  {
   "cell_type": "code",
   "execution_count": 3,
   "id": "d1101cb4",
   "metadata": {},
   "outputs": [
    {
     "data": {
      "text/html": [
       "<div>\n",
       "<style scoped>\n",
       "    .dataframe tbody tr th:only-of-type {\n",
       "        vertical-align: middle;\n",
       "    }\n",
       "\n",
       "    .dataframe tbody tr th {\n",
       "        vertical-align: top;\n",
       "    }\n",
       "\n",
       "    .dataframe thead th {\n",
       "        text-align: right;\n",
       "    }\n",
       "</style>\n",
       "<table border=\"1\" class=\"dataframe\">\n",
       "  <thead>\n",
       "    <tr style=\"text-align: right;\">\n",
       "      <th></th>\n",
       "      <th>Airline</th>\n",
       "      <th>Date_of_Journey</th>\n",
       "      <th>Source</th>\n",
       "      <th>Destination</th>\n",
       "      <th>Route</th>\n",
       "      <th>Dep_Time</th>\n",
       "      <th>Arrival_Time</th>\n",
       "      <th>Duration</th>\n",
       "      <th>Total_Stops</th>\n",
       "      <th>Additional_Info</th>\n",
       "      <th>Price</th>\n",
       "    </tr>\n",
       "  </thead>\n",
       "  <tbody>\n",
       "    <tr>\n",
       "      <th>0</th>\n",
       "      <td>IndiGo</td>\n",
       "      <td>24/03/2019</td>\n",
       "      <td>Banglore</td>\n",
       "      <td>New Delhi</td>\n",
       "      <td>BLR → DEL</td>\n",
       "      <td>22:20</td>\n",
       "      <td>01:10 22 Mar</td>\n",
       "      <td>2h 50m</td>\n",
       "      <td>non-stop</td>\n",
       "      <td>No info</td>\n",
       "      <td>3897</td>\n",
       "    </tr>\n",
       "    <tr>\n",
       "      <th>1</th>\n",
       "      <td>Air India</td>\n",
       "      <td>1/05/2019</td>\n",
       "      <td>Kolkata</td>\n",
       "      <td>Banglore</td>\n",
       "      <td>CCU → IXR → BBI → BLR</td>\n",
       "      <td>05:50</td>\n",
       "      <td>13:15</td>\n",
       "      <td>7h 25m</td>\n",
       "      <td>2 stops</td>\n",
       "      <td>No info</td>\n",
       "      <td>7662</td>\n",
       "    </tr>\n",
       "    <tr>\n",
       "      <th>2</th>\n",
       "      <td>Jet Airways</td>\n",
       "      <td>9/06/2019</td>\n",
       "      <td>Delhi</td>\n",
       "      <td>Cochin</td>\n",
       "      <td>DEL → LKO → BOM → COK</td>\n",
       "      <td>09:25</td>\n",
       "      <td>04:25 10 Jun</td>\n",
       "      <td>19h</td>\n",
       "      <td>2 stops</td>\n",
       "      <td>No info</td>\n",
       "      <td>13882</td>\n",
       "    </tr>\n",
       "    <tr>\n",
       "      <th>3</th>\n",
       "      <td>IndiGo</td>\n",
       "      <td>12/05/2019</td>\n",
       "      <td>Kolkata</td>\n",
       "      <td>Banglore</td>\n",
       "      <td>CCU → NAG → BLR</td>\n",
       "      <td>18:05</td>\n",
       "      <td>23:30</td>\n",
       "      <td>5h 25m</td>\n",
       "      <td>1 stop</td>\n",
       "      <td>No info</td>\n",
       "      <td>6218</td>\n",
       "    </tr>\n",
       "    <tr>\n",
       "      <th>4</th>\n",
       "      <td>IndiGo</td>\n",
       "      <td>01/03/2019</td>\n",
       "      <td>Banglore</td>\n",
       "      <td>New Delhi</td>\n",
       "      <td>BLR → NAG → DEL</td>\n",
       "      <td>16:50</td>\n",
       "      <td>21:35</td>\n",
       "      <td>4h 45m</td>\n",
       "      <td>1 stop</td>\n",
       "      <td>No info</td>\n",
       "      <td>13302</td>\n",
       "    </tr>\n",
       "  </tbody>\n",
       "</table>\n",
       "</div>"
      ],
      "text/plain": [
       "       Airline Date_of_Journey    Source Destination                  Route  \\\n",
       "0       IndiGo      24/03/2019  Banglore   New Delhi              BLR → DEL   \n",
       "1    Air India       1/05/2019   Kolkata    Banglore  CCU → IXR → BBI → BLR   \n",
       "2  Jet Airways       9/06/2019     Delhi      Cochin  DEL → LKO → BOM → COK   \n",
       "3       IndiGo      12/05/2019   Kolkata    Banglore        CCU → NAG → BLR   \n",
       "4       IndiGo      01/03/2019  Banglore   New Delhi        BLR → NAG → DEL   \n",
       "\n",
       "  Dep_Time  Arrival_Time Duration Total_Stops Additional_Info  Price  \n",
       "0    22:20  01:10 22 Mar   2h 50m    non-stop         No info   3897  \n",
       "1    05:50         13:15   7h 25m     2 stops         No info   7662  \n",
       "2    09:25  04:25 10 Jun      19h     2 stops         No info  13882  \n",
       "3    18:05         23:30   5h 25m      1 stop         No info   6218  \n",
       "4    16:50         21:35   4h 45m      1 stop         No info  13302  "
      ]
     },
     "execution_count": 3,
     "metadata": {},
     "output_type": "execute_result"
    }
   ],
   "source": [
    "df.head()"
   ]
  },
  {
   "cell_type": "code",
   "execution_count": 4,
   "id": "32a1868c",
   "metadata": {},
   "outputs": [
    {
     "name": "stdout",
     "output_type": "stream",
     "text": [
      "<class 'pandas.core.frame.DataFrame'>\n",
      "RangeIndex: 10683 entries, 0 to 10682\n",
      "Data columns (total 11 columns):\n",
      " #   Column           Non-Null Count  Dtype \n",
      "---  ------           --------------  ----- \n",
      " 0   Airline          10683 non-null  object\n",
      " 1   Date_of_Journey  10683 non-null  object\n",
      " 2   Source           10683 non-null  object\n",
      " 3   Destination      10683 non-null  object\n",
      " 4   Route            10682 non-null  object\n",
      " 5   Dep_Time         10683 non-null  object\n",
      " 6   Arrival_Time     10683 non-null  object\n",
      " 7   Duration         10683 non-null  object\n",
      " 8   Total_Stops      10682 non-null  object\n",
      " 9   Additional_Info  10683 non-null  object\n",
      " 10  Price            10683 non-null  int64 \n",
      "dtypes: int64(1), object(10)\n",
      "memory usage: 918.2+ KB\n"
     ]
    }
   ],
   "source": [
    "df.info()"
   ]
  },
  {
   "cell_type": "markdown",
   "id": "99012332",
   "metadata": {},
   "source": [
    "# Data Cleaning"
   ]
  },
  {
   "cell_type": "markdown",
   "id": "b093a616",
   "metadata": {},
   "source": [
    "### Cleaning \"Date_of_Journey\" column"
   ]
  },
  {
   "cell_type": "code",
   "execution_count": 5,
   "id": "a6cdd010",
   "metadata": {},
   "outputs": [
    {
     "data": {
      "text/plain": [
       "0        24/03/2019\n",
       "1         1/05/2019\n",
       "2         9/06/2019\n",
       "3        12/05/2019\n",
       "4        01/03/2019\n",
       "            ...    \n",
       "10678     9/04/2019\n",
       "10679    27/04/2019\n",
       "10680    27/04/2019\n",
       "10681    01/03/2019\n",
       "10682     9/05/2019\n",
       "Name: Date_of_Journey, Length: 10683, dtype: object"
      ]
     },
     "execution_count": 5,
     "metadata": {},
     "output_type": "execute_result"
    }
   ],
   "source": [
    "df['Date_of_Journey']"
   ]
  },
  {
   "cell_type": "markdown",
   "id": "4077a37a",
   "metadata": {},
   "source": [
    "This is a Date column, but it is given as Object type. We will separate date, month and year into separate columns."
   ]
  },
  {
   "cell_type": "code",
   "execution_count": 6,
   "id": "f0470695",
   "metadata": {},
   "outputs": [
    {
     "data": {
      "text/plain": [
       "0        [24, 03, 2019]\n",
       "1         [1, 05, 2019]\n",
       "2         [9, 06, 2019]\n",
       "3        [12, 05, 2019]\n",
       "4        [01, 03, 2019]\n",
       "              ...      \n",
       "10678     [9, 04, 2019]\n",
       "10679    [27, 04, 2019]\n",
       "10680    [27, 04, 2019]\n",
       "10681    [01, 03, 2019]\n",
       "10682     [9, 05, 2019]\n",
       "Name: Date_of_Journey, Length: 10683, dtype: object"
      ]
     },
     "execution_count": 6,
     "metadata": {},
     "output_type": "execute_result"
    }
   ],
   "source": [
    "df['Date_of_Journey'].str.split('/')"
   ]
  },
  {
   "cell_type": "code",
   "execution_count": 7,
   "id": "a29f99b7",
   "metadata": {},
   "outputs": [],
   "source": [
    "df['Date']=df['Date_of_Journey'].str.split('/').str[0]"
   ]
  },
  {
   "cell_type": "code",
   "execution_count": 8,
   "id": "8db68fa9",
   "metadata": {},
   "outputs": [],
   "source": [
    "df['Month']=df['Date_of_Journey'].str.split('/').str[1]"
   ]
  },
  {
   "cell_type": "code",
   "execution_count": 9,
   "id": "6aca928a",
   "metadata": {},
   "outputs": [],
   "source": [
    "df['Year']=df['Date_of_Journey'].str.split('/').str[2]"
   ]
  },
  {
   "cell_type": "code",
   "execution_count": 10,
   "id": "2c5f35c0",
   "metadata": {},
   "outputs": [
    {
     "name": "stdout",
     "output_type": "stream",
     "text": [
      "<class 'pandas.core.frame.DataFrame'>\n",
      "RangeIndex: 10683 entries, 0 to 10682\n",
      "Data columns (total 14 columns):\n",
      " #   Column           Non-Null Count  Dtype \n",
      "---  ------           --------------  ----- \n",
      " 0   Airline          10683 non-null  object\n",
      " 1   Date_of_Journey  10683 non-null  object\n",
      " 2   Source           10683 non-null  object\n",
      " 3   Destination      10683 non-null  object\n",
      " 4   Route            10682 non-null  object\n",
      " 5   Dep_Time         10683 non-null  object\n",
      " 6   Arrival_Time     10683 non-null  object\n",
      " 7   Duration         10683 non-null  object\n",
      " 8   Total_Stops      10682 non-null  object\n",
      " 9   Additional_Info  10683 non-null  object\n",
      " 10  Price            10683 non-null  int64 \n",
      " 11  Date             10683 non-null  object\n",
      " 12  Month            10683 non-null  object\n",
      " 13  Year             10683 non-null  object\n",
      "dtypes: int64(1), object(13)\n",
      "memory usage: 1.1+ MB\n"
     ]
    }
   ],
   "source": [
    "df.info()"
   ]
  },
  {
   "cell_type": "code",
   "execution_count": 11,
   "id": "c58f5793",
   "metadata": {},
   "outputs": [],
   "source": [
    "df['Date']=df['Date'].astype(int)"
   ]
  },
  {
   "cell_type": "code",
   "execution_count": 12,
   "id": "7aca742d",
   "metadata": {},
   "outputs": [],
   "source": [
    "df['Month']=df['Month'].astype(int)"
   ]
  },
  {
   "cell_type": "code",
   "execution_count": 13,
   "id": "9ae5cf64",
   "metadata": {},
   "outputs": [],
   "source": [
    "df['Year']=df['Year'].astype(int)"
   ]
  },
  {
   "cell_type": "code",
   "execution_count": 14,
   "id": "3f2868c8",
   "metadata": {},
   "outputs": [
    {
     "name": "stdout",
     "output_type": "stream",
     "text": [
      "<class 'pandas.core.frame.DataFrame'>\n",
      "RangeIndex: 10683 entries, 0 to 10682\n",
      "Data columns (total 14 columns):\n",
      " #   Column           Non-Null Count  Dtype \n",
      "---  ------           --------------  ----- \n",
      " 0   Airline          10683 non-null  object\n",
      " 1   Date_of_Journey  10683 non-null  object\n",
      " 2   Source           10683 non-null  object\n",
      " 3   Destination      10683 non-null  object\n",
      " 4   Route            10682 non-null  object\n",
      " 5   Dep_Time         10683 non-null  object\n",
      " 6   Arrival_Time     10683 non-null  object\n",
      " 7   Duration         10683 non-null  object\n",
      " 8   Total_Stops      10682 non-null  object\n",
      " 9   Additional_Info  10683 non-null  object\n",
      " 10  Price            10683 non-null  int64 \n",
      " 11  Date             10683 non-null  int32 \n",
      " 12  Month            10683 non-null  int32 \n",
      " 13  Year             10683 non-null  int32 \n",
      "dtypes: int32(3), int64(1), object(10)\n",
      "memory usage: 1.0+ MB\n"
     ]
    }
   ],
   "source": [
    "df.info()"
   ]
  },
  {
   "cell_type": "code",
   "execution_count": 15,
   "id": "80bc68e3",
   "metadata": {},
   "outputs": [],
   "source": [
    "# Drop Date of Journey as it is not required anymore\n",
    "df.drop('Date_of_Journey',axis=1,inplace=True)"
   ]
  },
  {
   "cell_type": "code",
   "execution_count": 16,
   "id": "796cb411",
   "metadata": {
    "scrolled": true
   },
   "outputs": [
    {
     "data": {
      "text/html": [
       "<div>\n",
       "<style scoped>\n",
       "    .dataframe tbody tr th:only-of-type {\n",
       "        vertical-align: middle;\n",
       "    }\n",
       "\n",
       "    .dataframe tbody tr th {\n",
       "        vertical-align: top;\n",
       "    }\n",
       "\n",
       "    .dataframe thead th {\n",
       "        text-align: right;\n",
       "    }\n",
       "</style>\n",
       "<table border=\"1\" class=\"dataframe\">\n",
       "  <thead>\n",
       "    <tr style=\"text-align: right;\">\n",
       "      <th></th>\n",
       "      <th>Airline</th>\n",
       "      <th>Source</th>\n",
       "      <th>Destination</th>\n",
       "      <th>Route</th>\n",
       "      <th>Dep_Time</th>\n",
       "      <th>Arrival_Time</th>\n",
       "      <th>Duration</th>\n",
       "      <th>Total_Stops</th>\n",
       "      <th>Additional_Info</th>\n",
       "      <th>Price</th>\n",
       "      <th>Date</th>\n",
       "      <th>Month</th>\n",
       "      <th>Year</th>\n",
       "    </tr>\n",
       "  </thead>\n",
       "  <tbody>\n",
       "    <tr>\n",
       "      <th>0</th>\n",
       "      <td>IndiGo</td>\n",
       "      <td>Banglore</td>\n",
       "      <td>New Delhi</td>\n",
       "      <td>BLR → DEL</td>\n",
       "      <td>22:20</td>\n",
       "      <td>01:10 22 Mar</td>\n",
       "      <td>2h 50m</td>\n",
       "      <td>non-stop</td>\n",
       "      <td>No info</td>\n",
       "      <td>3897</td>\n",
       "      <td>24</td>\n",
       "      <td>3</td>\n",
       "      <td>2019</td>\n",
       "    </tr>\n",
       "    <tr>\n",
       "      <th>1</th>\n",
       "      <td>Air India</td>\n",
       "      <td>Kolkata</td>\n",
       "      <td>Banglore</td>\n",
       "      <td>CCU → IXR → BBI → BLR</td>\n",
       "      <td>05:50</td>\n",
       "      <td>13:15</td>\n",
       "      <td>7h 25m</td>\n",
       "      <td>2 stops</td>\n",
       "      <td>No info</td>\n",
       "      <td>7662</td>\n",
       "      <td>1</td>\n",
       "      <td>5</td>\n",
       "      <td>2019</td>\n",
       "    </tr>\n",
       "    <tr>\n",
       "      <th>2</th>\n",
       "      <td>Jet Airways</td>\n",
       "      <td>Delhi</td>\n",
       "      <td>Cochin</td>\n",
       "      <td>DEL → LKO → BOM → COK</td>\n",
       "      <td>09:25</td>\n",
       "      <td>04:25 10 Jun</td>\n",
       "      <td>19h</td>\n",
       "      <td>2 stops</td>\n",
       "      <td>No info</td>\n",
       "      <td>13882</td>\n",
       "      <td>9</td>\n",
       "      <td>6</td>\n",
       "      <td>2019</td>\n",
       "    </tr>\n",
       "    <tr>\n",
       "      <th>3</th>\n",
       "      <td>IndiGo</td>\n",
       "      <td>Kolkata</td>\n",
       "      <td>Banglore</td>\n",
       "      <td>CCU → NAG → BLR</td>\n",
       "      <td>18:05</td>\n",
       "      <td>23:30</td>\n",
       "      <td>5h 25m</td>\n",
       "      <td>1 stop</td>\n",
       "      <td>No info</td>\n",
       "      <td>6218</td>\n",
       "      <td>12</td>\n",
       "      <td>5</td>\n",
       "      <td>2019</td>\n",
       "    </tr>\n",
       "    <tr>\n",
       "      <th>4</th>\n",
       "      <td>IndiGo</td>\n",
       "      <td>Banglore</td>\n",
       "      <td>New Delhi</td>\n",
       "      <td>BLR → NAG → DEL</td>\n",
       "      <td>16:50</td>\n",
       "      <td>21:35</td>\n",
       "      <td>4h 45m</td>\n",
       "      <td>1 stop</td>\n",
       "      <td>No info</td>\n",
       "      <td>13302</td>\n",
       "      <td>1</td>\n",
       "      <td>3</td>\n",
       "      <td>2019</td>\n",
       "    </tr>\n",
       "  </tbody>\n",
       "</table>\n",
       "</div>"
      ],
      "text/plain": [
       "       Airline    Source Destination                  Route Dep_Time  \\\n",
       "0       IndiGo  Banglore   New Delhi              BLR → DEL    22:20   \n",
       "1    Air India   Kolkata    Banglore  CCU → IXR → BBI → BLR    05:50   \n",
       "2  Jet Airways     Delhi      Cochin  DEL → LKO → BOM → COK    09:25   \n",
       "3       IndiGo   Kolkata    Banglore        CCU → NAG → BLR    18:05   \n",
       "4       IndiGo  Banglore   New Delhi        BLR → NAG → DEL    16:50   \n",
       "\n",
       "   Arrival_Time Duration Total_Stops Additional_Info  Price  Date  Month  Year  \n",
       "0  01:10 22 Mar   2h 50m    non-stop         No info   3897    24      3  2019  \n",
       "1         13:15   7h 25m     2 stops         No info   7662     1      5  2019  \n",
       "2  04:25 10 Jun      19h     2 stops         No info  13882     9      6  2019  \n",
       "3         23:30   5h 25m      1 stop         No info   6218    12      5  2019  \n",
       "4         21:35   4h 45m      1 stop         No info  13302     1      3  2019  "
      ]
     },
     "execution_count": 16,
     "metadata": {},
     "output_type": "execute_result"
    }
   ],
   "source": [
    "df.head()"
   ]
  },
  {
   "cell_type": "markdown",
   "id": "2b0b8444",
   "metadata": {},
   "source": [
    "### Cleaning \"Arrival_Time\" column"
   ]
  },
  {
   "cell_type": "code",
   "execution_count": 17,
   "id": "c1b0860b",
   "metadata": {
    "scrolled": true
   },
   "outputs": [
    {
     "data": {
      "text/plain": [
       "array(['01:10 22 Mar', '13:15', '04:25 10 Jun', ..., '06:50 10 Mar',\n",
       "       '00:05 19 Mar', '21:20 13 Mar'], dtype=object)"
      ]
     },
     "execution_count": 17,
     "metadata": {},
     "output_type": "execute_result"
    }
   ],
   "source": [
    "df['Arrival_Time'].unique()"
   ]
  },
  {
   "cell_type": "markdown",
   "id": "d6fef1e9",
   "metadata": {},
   "source": [
    "Few values of this column contains both time and date. Since we already have columns of date and month, we will remove the date part from this column."
   ]
  },
  {
   "cell_type": "code",
   "execution_count": 18,
   "id": "f806d410",
   "metadata": {},
   "outputs": [
    {
     "data": {
      "text/plain": [
       "0        [01:10, 22, Mar]\n",
       "1                 [13:15]\n",
       "2        [04:25, 10, Jun]\n",
       "3                 [23:30]\n",
       "4                 [21:35]\n",
       "               ...       \n",
       "10678             [22:25]\n",
       "10679             [23:20]\n",
       "10680             [11:20]\n",
       "10681             [14:10]\n",
       "10682             [19:15]\n",
       "Name: Arrival_Time, Length: 10683, dtype: object"
      ]
     },
     "execution_count": 18,
     "metadata": {},
     "output_type": "execute_result"
    }
   ],
   "source": [
    "df['Arrival_Time'].str.split(' ')"
   ]
  },
  {
   "cell_type": "code",
   "execution_count": 19,
   "id": "a8e9245e",
   "metadata": {},
   "outputs": [],
   "source": [
    "df['Arrival_Time']=df['Arrival_Time'].str.split(' ').str[0]"
   ]
  },
  {
   "cell_type": "code",
   "execution_count": 20,
   "id": "6645457e",
   "metadata": {
    "scrolled": true
   },
   "outputs": [
    {
     "data": {
      "text/plain": [
       "0        01:10\n",
       "1        13:15\n",
       "2        04:25\n",
       "3        23:30\n",
       "4        21:35\n",
       "         ...  \n",
       "10678    22:25\n",
       "10679    23:20\n",
       "10680    11:20\n",
       "10681    14:10\n",
       "10682    19:15\n",
       "Name: Arrival_Time, Length: 10683, dtype: object"
      ]
     },
     "execution_count": 20,
     "metadata": {},
     "output_type": "execute_result"
    }
   ],
   "source": [
    "df['Arrival_Time']"
   ]
  },
  {
   "cell_type": "markdown",
   "id": "332f39ce",
   "metadata": {},
   "source": [
    "Now we will separate hours and minutes into separate columns."
   ]
  },
  {
   "cell_type": "code",
   "execution_count": 21,
   "id": "b437ca02",
   "metadata": {},
   "outputs": [],
   "source": [
    "df['Arrival_hr']=df['Arrival_Time'].str.split(':').str[0]\n",
    "df['Arrival_min']=df['Arrival_Time'].str.split(':').str[1]"
   ]
  },
  {
   "cell_type": "code",
   "execution_count": 22,
   "id": "15c66f86",
   "metadata": {
    "scrolled": true
   },
   "outputs": [
    {
     "data": {
      "text/html": [
       "<div>\n",
       "<style scoped>\n",
       "    .dataframe tbody tr th:only-of-type {\n",
       "        vertical-align: middle;\n",
       "    }\n",
       "\n",
       "    .dataframe tbody tr th {\n",
       "        vertical-align: top;\n",
       "    }\n",
       "\n",
       "    .dataframe thead th {\n",
       "        text-align: right;\n",
       "    }\n",
       "</style>\n",
       "<table border=\"1\" class=\"dataframe\">\n",
       "  <thead>\n",
       "    <tr style=\"text-align: right;\">\n",
       "      <th></th>\n",
       "      <th>Airline</th>\n",
       "      <th>Source</th>\n",
       "      <th>Destination</th>\n",
       "      <th>Route</th>\n",
       "      <th>Dep_Time</th>\n",
       "      <th>Arrival_Time</th>\n",
       "      <th>Duration</th>\n",
       "      <th>Total_Stops</th>\n",
       "      <th>Additional_Info</th>\n",
       "      <th>Price</th>\n",
       "      <th>Date</th>\n",
       "      <th>Month</th>\n",
       "      <th>Year</th>\n",
       "      <th>Arrival_hr</th>\n",
       "      <th>Arrival_min</th>\n",
       "    </tr>\n",
       "  </thead>\n",
       "  <tbody>\n",
       "    <tr>\n",
       "      <th>0</th>\n",
       "      <td>IndiGo</td>\n",
       "      <td>Banglore</td>\n",
       "      <td>New Delhi</td>\n",
       "      <td>BLR → DEL</td>\n",
       "      <td>22:20</td>\n",
       "      <td>01:10</td>\n",
       "      <td>2h 50m</td>\n",
       "      <td>non-stop</td>\n",
       "      <td>No info</td>\n",
       "      <td>3897</td>\n",
       "      <td>24</td>\n",
       "      <td>3</td>\n",
       "      <td>2019</td>\n",
       "      <td>01</td>\n",
       "      <td>10</td>\n",
       "    </tr>\n",
       "    <tr>\n",
       "      <th>1</th>\n",
       "      <td>Air India</td>\n",
       "      <td>Kolkata</td>\n",
       "      <td>Banglore</td>\n",
       "      <td>CCU → IXR → BBI → BLR</td>\n",
       "      <td>05:50</td>\n",
       "      <td>13:15</td>\n",
       "      <td>7h 25m</td>\n",
       "      <td>2 stops</td>\n",
       "      <td>No info</td>\n",
       "      <td>7662</td>\n",
       "      <td>1</td>\n",
       "      <td>5</td>\n",
       "      <td>2019</td>\n",
       "      <td>13</td>\n",
       "      <td>15</td>\n",
       "    </tr>\n",
       "    <tr>\n",
       "      <th>2</th>\n",
       "      <td>Jet Airways</td>\n",
       "      <td>Delhi</td>\n",
       "      <td>Cochin</td>\n",
       "      <td>DEL → LKO → BOM → COK</td>\n",
       "      <td>09:25</td>\n",
       "      <td>04:25</td>\n",
       "      <td>19h</td>\n",
       "      <td>2 stops</td>\n",
       "      <td>No info</td>\n",
       "      <td>13882</td>\n",
       "      <td>9</td>\n",
       "      <td>6</td>\n",
       "      <td>2019</td>\n",
       "      <td>04</td>\n",
       "      <td>25</td>\n",
       "    </tr>\n",
       "    <tr>\n",
       "      <th>3</th>\n",
       "      <td>IndiGo</td>\n",
       "      <td>Kolkata</td>\n",
       "      <td>Banglore</td>\n",
       "      <td>CCU → NAG → BLR</td>\n",
       "      <td>18:05</td>\n",
       "      <td>23:30</td>\n",
       "      <td>5h 25m</td>\n",
       "      <td>1 stop</td>\n",
       "      <td>No info</td>\n",
       "      <td>6218</td>\n",
       "      <td>12</td>\n",
       "      <td>5</td>\n",
       "      <td>2019</td>\n",
       "      <td>23</td>\n",
       "      <td>30</td>\n",
       "    </tr>\n",
       "    <tr>\n",
       "      <th>4</th>\n",
       "      <td>IndiGo</td>\n",
       "      <td>Banglore</td>\n",
       "      <td>New Delhi</td>\n",
       "      <td>BLR → NAG → DEL</td>\n",
       "      <td>16:50</td>\n",
       "      <td>21:35</td>\n",
       "      <td>4h 45m</td>\n",
       "      <td>1 stop</td>\n",
       "      <td>No info</td>\n",
       "      <td>13302</td>\n",
       "      <td>1</td>\n",
       "      <td>3</td>\n",
       "      <td>2019</td>\n",
       "      <td>21</td>\n",
       "      <td>35</td>\n",
       "    </tr>\n",
       "  </tbody>\n",
       "</table>\n",
       "</div>"
      ],
      "text/plain": [
       "       Airline    Source Destination                  Route Dep_Time  \\\n",
       "0       IndiGo  Banglore   New Delhi              BLR → DEL    22:20   \n",
       "1    Air India   Kolkata    Banglore  CCU → IXR → BBI → BLR    05:50   \n",
       "2  Jet Airways     Delhi      Cochin  DEL → LKO → BOM → COK    09:25   \n",
       "3       IndiGo   Kolkata    Banglore        CCU → NAG → BLR    18:05   \n",
       "4       IndiGo  Banglore   New Delhi        BLR → NAG → DEL    16:50   \n",
       "\n",
       "  Arrival_Time Duration Total_Stops Additional_Info  Price  Date  Month  Year  \\\n",
       "0        01:10   2h 50m    non-stop         No info   3897    24      3  2019   \n",
       "1        13:15   7h 25m     2 stops         No info   7662     1      5  2019   \n",
       "2        04:25      19h     2 stops         No info  13882     9      6  2019   \n",
       "3        23:30   5h 25m      1 stop         No info   6218    12      5  2019   \n",
       "4        21:35   4h 45m      1 stop         No info  13302     1      3  2019   \n",
       "\n",
       "  Arrival_hr Arrival_min  \n",
       "0         01          10  \n",
       "1         13          15  \n",
       "2         04          25  \n",
       "3         23          30  \n",
       "4         21          35  "
      ]
     },
     "execution_count": 22,
     "metadata": {},
     "output_type": "execute_result"
    }
   ],
   "source": [
    "df.head()"
   ]
  },
  {
   "cell_type": "code",
   "execution_count": 23,
   "id": "265213fc",
   "metadata": {},
   "outputs": [],
   "source": [
    "df['Arrival_hr']=df['Arrival_hr'].astype(int)\n",
    "df['Arrival_min']=df['Arrival_min'].astype(int)"
   ]
  },
  {
   "cell_type": "code",
   "execution_count": 24,
   "id": "009a9c5b",
   "metadata": {},
   "outputs": [
    {
     "name": "stdout",
     "output_type": "stream",
     "text": [
      "<class 'pandas.core.frame.DataFrame'>\n",
      "RangeIndex: 10683 entries, 0 to 10682\n",
      "Data columns (total 15 columns):\n",
      " #   Column           Non-Null Count  Dtype \n",
      "---  ------           --------------  ----- \n",
      " 0   Airline          10683 non-null  object\n",
      " 1   Source           10683 non-null  object\n",
      " 2   Destination      10683 non-null  object\n",
      " 3   Route            10682 non-null  object\n",
      " 4   Dep_Time         10683 non-null  object\n",
      " 5   Arrival_Time     10683 non-null  object\n",
      " 6   Duration         10683 non-null  object\n",
      " 7   Total_Stops      10682 non-null  object\n",
      " 8   Additional_Info  10683 non-null  object\n",
      " 9   Price            10683 non-null  int64 \n",
      " 10  Date             10683 non-null  int32 \n",
      " 11  Month            10683 non-null  int32 \n",
      " 12  Year             10683 non-null  int32 \n",
      " 13  Arrival_hr       10683 non-null  int32 \n",
      " 14  Arrival_min      10683 non-null  int32 \n",
      "dtypes: int32(5), int64(1), object(9)\n",
      "memory usage: 1.0+ MB\n"
     ]
    }
   ],
   "source": [
    "df.info()"
   ]
  },
  {
   "cell_type": "code",
   "execution_count": null,
   "id": "901e1251",
   "metadata": {},
   "outputs": [],
   "source": []
  },
  {
   "cell_type": "code",
   "execution_count": 25,
   "id": "7454d083",
   "metadata": {},
   "outputs": [],
   "source": [
    "# Drop Arrival_Time column\n",
    "df.drop(\"Arrival_Time\",axis=1,inplace=True)"
   ]
  },
  {
   "cell_type": "code",
   "execution_count": 26,
   "id": "aba1e0f1",
   "metadata": {
    "scrolled": false
   },
   "outputs": [
    {
     "data": {
      "text/html": [
       "<div>\n",
       "<style scoped>\n",
       "    .dataframe tbody tr th:only-of-type {\n",
       "        vertical-align: middle;\n",
       "    }\n",
       "\n",
       "    .dataframe tbody tr th {\n",
       "        vertical-align: top;\n",
       "    }\n",
       "\n",
       "    .dataframe thead th {\n",
       "        text-align: right;\n",
       "    }\n",
       "</style>\n",
       "<table border=\"1\" class=\"dataframe\">\n",
       "  <thead>\n",
       "    <tr style=\"text-align: right;\">\n",
       "      <th></th>\n",
       "      <th>Airline</th>\n",
       "      <th>Source</th>\n",
       "      <th>Destination</th>\n",
       "      <th>Route</th>\n",
       "      <th>Dep_Time</th>\n",
       "      <th>Duration</th>\n",
       "      <th>Total_Stops</th>\n",
       "      <th>Additional_Info</th>\n",
       "      <th>Price</th>\n",
       "      <th>Date</th>\n",
       "      <th>Month</th>\n",
       "      <th>Year</th>\n",
       "      <th>Arrival_hr</th>\n",
       "      <th>Arrival_min</th>\n",
       "    </tr>\n",
       "  </thead>\n",
       "  <tbody>\n",
       "    <tr>\n",
       "      <th>0</th>\n",
       "      <td>IndiGo</td>\n",
       "      <td>Banglore</td>\n",
       "      <td>New Delhi</td>\n",
       "      <td>BLR → DEL</td>\n",
       "      <td>22:20</td>\n",
       "      <td>2h 50m</td>\n",
       "      <td>non-stop</td>\n",
       "      <td>No info</td>\n",
       "      <td>3897</td>\n",
       "      <td>24</td>\n",
       "      <td>3</td>\n",
       "      <td>2019</td>\n",
       "      <td>1</td>\n",
       "      <td>10</td>\n",
       "    </tr>\n",
       "    <tr>\n",
       "      <th>1</th>\n",
       "      <td>Air India</td>\n",
       "      <td>Kolkata</td>\n",
       "      <td>Banglore</td>\n",
       "      <td>CCU → IXR → BBI → BLR</td>\n",
       "      <td>05:50</td>\n",
       "      <td>7h 25m</td>\n",
       "      <td>2 stops</td>\n",
       "      <td>No info</td>\n",
       "      <td>7662</td>\n",
       "      <td>1</td>\n",
       "      <td>5</td>\n",
       "      <td>2019</td>\n",
       "      <td>13</td>\n",
       "      <td>15</td>\n",
       "    </tr>\n",
       "    <tr>\n",
       "      <th>2</th>\n",
       "      <td>Jet Airways</td>\n",
       "      <td>Delhi</td>\n",
       "      <td>Cochin</td>\n",
       "      <td>DEL → LKO → BOM → COK</td>\n",
       "      <td>09:25</td>\n",
       "      <td>19h</td>\n",
       "      <td>2 stops</td>\n",
       "      <td>No info</td>\n",
       "      <td>13882</td>\n",
       "      <td>9</td>\n",
       "      <td>6</td>\n",
       "      <td>2019</td>\n",
       "      <td>4</td>\n",
       "      <td>25</td>\n",
       "    </tr>\n",
       "    <tr>\n",
       "      <th>3</th>\n",
       "      <td>IndiGo</td>\n",
       "      <td>Kolkata</td>\n",
       "      <td>Banglore</td>\n",
       "      <td>CCU → NAG → BLR</td>\n",
       "      <td>18:05</td>\n",
       "      <td>5h 25m</td>\n",
       "      <td>1 stop</td>\n",
       "      <td>No info</td>\n",
       "      <td>6218</td>\n",
       "      <td>12</td>\n",
       "      <td>5</td>\n",
       "      <td>2019</td>\n",
       "      <td>23</td>\n",
       "      <td>30</td>\n",
       "    </tr>\n",
       "    <tr>\n",
       "      <th>4</th>\n",
       "      <td>IndiGo</td>\n",
       "      <td>Banglore</td>\n",
       "      <td>New Delhi</td>\n",
       "      <td>BLR → NAG → DEL</td>\n",
       "      <td>16:50</td>\n",
       "      <td>4h 45m</td>\n",
       "      <td>1 stop</td>\n",
       "      <td>No info</td>\n",
       "      <td>13302</td>\n",
       "      <td>1</td>\n",
       "      <td>3</td>\n",
       "      <td>2019</td>\n",
       "      <td>21</td>\n",
       "      <td>35</td>\n",
       "    </tr>\n",
       "  </tbody>\n",
       "</table>\n",
       "</div>"
      ],
      "text/plain": [
       "       Airline    Source Destination                  Route Dep_Time Duration  \\\n",
       "0       IndiGo  Banglore   New Delhi              BLR → DEL    22:20   2h 50m   \n",
       "1    Air India   Kolkata    Banglore  CCU → IXR → BBI → BLR    05:50   7h 25m   \n",
       "2  Jet Airways     Delhi      Cochin  DEL → LKO → BOM → COK    09:25      19h   \n",
       "3       IndiGo   Kolkata    Banglore        CCU → NAG → BLR    18:05   5h 25m   \n",
       "4       IndiGo  Banglore   New Delhi        BLR → NAG → DEL    16:50   4h 45m   \n",
       "\n",
       "  Total_Stops Additional_Info  Price  Date  Month  Year  Arrival_hr  \\\n",
       "0    non-stop         No info   3897    24      3  2019           1   \n",
       "1     2 stops         No info   7662     1      5  2019          13   \n",
       "2     2 stops         No info  13882     9      6  2019           4   \n",
       "3      1 stop         No info   6218    12      5  2019          23   \n",
       "4      1 stop         No info  13302     1      3  2019          21   \n",
       "\n",
       "   Arrival_min  \n",
       "0           10  \n",
       "1           15  \n",
       "2           25  \n",
       "3           30  \n",
       "4           35  "
      ]
     },
     "execution_count": 26,
     "metadata": {},
     "output_type": "execute_result"
    }
   ],
   "source": [
    "df.head()"
   ]
  },
  {
   "cell_type": "markdown",
   "id": "bfbd61d4",
   "metadata": {},
   "source": [
    "### Cleaning \"Dep_Time\" column"
   ]
  },
  {
   "cell_type": "markdown",
   "id": "6a2f3d76",
   "metadata": {},
   "source": [
    "Similarly, we will separate hours and minutes from Dep_Time column"
   ]
  },
  {
   "cell_type": "code",
   "execution_count": 27,
   "id": "49a83e64",
   "metadata": {},
   "outputs": [],
   "source": [
    "df['Dep_hr']=df['Dep_Time'].str.split(':').str[0]\n",
    "df['Dep_min']=df['Dep_Time'].str.split(':').str[1]"
   ]
  },
  {
   "cell_type": "code",
   "execution_count": 28,
   "id": "ad7d7450",
   "metadata": {},
   "outputs": [],
   "source": [
    "df['Dep_hr']=df['Dep_hr'].astype(int)\n",
    "df['Dep_min']=df['Dep_min'].astype(int)"
   ]
  },
  {
   "cell_type": "code",
   "execution_count": 29,
   "id": "b16ba56d",
   "metadata": {},
   "outputs": [
    {
     "name": "stdout",
     "output_type": "stream",
     "text": [
      "<class 'pandas.core.frame.DataFrame'>\n",
      "RangeIndex: 10683 entries, 0 to 10682\n",
      "Data columns (total 16 columns):\n",
      " #   Column           Non-Null Count  Dtype \n",
      "---  ------           --------------  ----- \n",
      " 0   Airline          10683 non-null  object\n",
      " 1   Source           10683 non-null  object\n",
      " 2   Destination      10683 non-null  object\n",
      " 3   Route            10682 non-null  object\n",
      " 4   Dep_Time         10683 non-null  object\n",
      " 5   Duration         10683 non-null  object\n",
      " 6   Total_Stops      10682 non-null  object\n",
      " 7   Additional_Info  10683 non-null  object\n",
      " 8   Price            10683 non-null  int64 \n",
      " 9   Date             10683 non-null  int32 \n",
      " 10  Month            10683 non-null  int32 \n",
      " 11  Year             10683 non-null  int32 \n",
      " 12  Arrival_hr       10683 non-null  int32 \n",
      " 13  Arrival_min      10683 non-null  int32 \n",
      " 14  Dep_hr           10683 non-null  int32 \n",
      " 15  Dep_min          10683 non-null  int32 \n",
      "dtypes: int32(7), int64(1), object(8)\n",
      "memory usage: 1.0+ MB\n"
     ]
    }
   ],
   "source": [
    "df.info()"
   ]
  },
  {
   "cell_type": "code",
   "execution_count": 30,
   "id": "c2b0b9cc",
   "metadata": {},
   "outputs": [],
   "source": [
    "# Drop Dep_Time column\n",
    "df.drop(\"Dep_Time\",axis=1,inplace=True)"
   ]
  },
  {
   "cell_type": "code",
   "execution_count": 31,
   "id": "b260dc35",
   "metadata": {
    "scrolled": true
   },
   "outputs": [
    {
     "data": {
      "text/html": [
       "<div>\n",
       "<style scoped>\n",
       "    .dataframe tbody tr th:only-of-type {\n",
       "        vertical-align: middle;\n",
       "    }\n",
       "\n",
       "    .dataframe tbody tr th {\n",
       "        vertical-align: top;\n",
       "    }\n",
       "\n",
       "    .dataframe thead th {\n",
       "        text-align: right;\n",
       "    }\n",
       "</style>\n",
       "<table border=\"1\" class=\"dataframe\">\n",
       "  <thead>\n",
       "    <tr style=\"text-align: right;\">\n",
       "      <th></th>\n",
       "      <th>Airline</th>\n",
       "      <th>Source</th>\n",
       "      <th>Destination</th>\n",
       "      <th>Route</th>\n",
       "      <th>Duration</th>\n",
       "      <th>Total_Stops</th>\n",
       "      <th>Additional_Info</th>\n",
       "      <th>Price</th>\n",
       "      <th>Date</th>\n",
       "      <th>Month</th>\n",
       "      <th>Year</th>\n",
       "      <th>Arrival_hr</th>\n",
       "      <th>Arrival_min</th>\n",
       "      <th>Dep_hr</th>\n",
       "      <th>Dep_min</th>\n",
       "    </tr>\n",
       "  </thead>\n",
       "  <tbody>\n",
       "    <tr>\n",
       "      <th>0</th>\n",
       "      <td>IndiGo</td>\n",
       "      <td>Banglore</td>\n",
       "      <td>New Delhi</td>\n",
       "      <td>BLR → DEL</td>\n",
       "      <td>2h 50m</td>\n",
       "      <td>non-stop</td>\n",
       "      <td>No info</td>\n",
       "      <td>3897</td>\n",
       "      <td>24</td>\n",
       "      <td>3</td>\n",
       "      <td>2019</td>\n",
       "      <td>1</td>\n",
       "      <td>10</td>\n",
       "      <td>22</td>\n",
       "      <td>20</td>\n",
       "    </tr>\n",
       "    <tr>\n",
       "      <th>1</th>\n",
       "      <td>Air India</td>\n",
       "      <td>Kolkata</td>\n",
       "      <td>Banglore</td>\n",
       "      <td>CCU → IXR → BBI → BLR</td>\n",
       "      <td>7h 25m</td>\n",
       "      <td>2 stops</td>\n",
       "      <td>No info</td>\n",
       "      <td>7662</td>\n",
       "      <td>1</td>\n",
       "      <td>5</td>\n",
       "      <td>2019</td>\n",
       "      <td>13</td>\n",
       "      <td>15</td>\n",
       "      <td>5</td>\n",
       "      <td>50</td>\n",
       "    </tr>\n",
       "    <tr>\n",
       "      <th>2</th>\n",
       "      <td>Jet Airways</td>\n",
       "      <td>Delhi</td>\n",
       "      <td>Cochin</td>\n",
       "      <td>DEL → LKO → BOM → COK</td>\n",
       "      <td>19h</td>\n",
       "      <td>2 stops</td>\n",
       "      <td>No info</td>\n",
       "      <td>13882</td>\n",
       "      <td>9</td>\n",
       "      <td>6</td>\n",
       "      <td>2019</td>\n",
       "      <td>4</td>\n",
       "      <td>25</td>\n",
       "      <td>9</td>\n",
       "      <td>25</td>\n",
       "    </tr>\n",
       "    <tr>\n",
       "      <th>3</th>\n",
       "      <td>IndiGo</td>\n",
       "      <td>Kolkata</td>\n",
       "      <td>Banglore</td>\n",
       "      <td>CCU → NAG → BLR</td>\n",
       "      <td>5h 25m</td>\n",
       "      <td>1 stop</td>\n",
       "      <td>No info</td>\n",
       "      <td>6218</td>\n",
       "      <td>12</td>\n",
       "      <td>5</td>\n",
       "      <td>2019</td>\n",
       "      <td>23</td>\n",
       "      <td>30</td>\n",
       "      <td>18</td>\n",
       "      <td>5</td>\n",
       "    </tr>\n",
       "    <tr>\n",
       "      <th>4</th>\n",
       "      <td>IndiGo</td>\n",
       "      <td>Banglore</td>\n",
       "      <td>New Delhi</td>\n",
       "      <td>BLR → NAG → DEL</td>\n",
       "      <td>4h 45m</td>\n",
       "      <td>1 stop</td>\n",
       "      <td>No info</td>\n",
       "      <td>13302</td>\n",
       "      <td>1</td>\n",
       "      <td>3</td>\n",
       "      <td>2019</td>\n",
       "      <td>21</td>\n",
       "      <td>35</td>\n",
       "      <td>16</td>\n",
       "      <td>50</td>\n",
       "    </tr>\n",
       "  </tbody>\n",
       "</table>\n",
       "</div>"
      ],
      "text/plain": [
       "       Airline    Source Destination                  Route Duration  \\\n",
       "0       IndiGo  Banglore   New Delhi              BLR → DEL   2h 50m   \n",
       "1    Air India   Kolkata    Banglore  CCU → IXR → BBI → BLR   7h 25m   \n",
       "2  Jet Airways     Delhi      Cochin  DEL → LKO → BOM → COK      19h   \n",
       "3       IndiGo   Kolkata    Banglore        CCU → NAG → BLR   5h 25m   \n",
       "4       IndiGo  Banglore   New Delhi        BLR → NAG → DEL   4h 45m   \n",
       "\n",
       "  Total_Stops Additional_Info  Price  Date  Month  Year  Arrival_hr  \\\n",
       "0    non-stop         No info   3897    24      3  2019           1   \n",
       "1     2 stops         No info   7662     1      5  2019          13   \n",
       "2     2 stops         No info  13882     9      6  2019           4   \n",
       "3      1 stop         No info   6218    12      5  2019          23   \n",
       "4      1 stop         No info  13302     1      3  2019          21   \n",
       "\n",
       "   Arrival_min  Dep_hr  Dep_min  \n",
       "0           10      22       20  \n",
       "1           15       5       50  \n",
       "2           25       9       25  \n",
       "3           30      18        5  \n",
       "4           35      16       50  "
      ]
     },
     "execution_count": 31,
     "metadata": {},
     "output_type": "execute_result"
    }
   ],
   "source": [
    "df.head()"
   ]
  },
  {
   "cell_type": "markdown",
   "id": "8f4c432c",
   "metadata": {},
   "source": [
    "### Cleaning \"Total_Stops\" column"
   ]
  },
  {
   "cell_type": "code",
   "execution_count": 32,
   "id": "6c16b1b3",
   "metadata": {},
   "outputs": [
    {
     "data": {
      "text/plain": [
       "array(['non-stop', '2 stops', '1 stop', '3 stops', nan, '4 stops'],\n",
       "      dtype=object)"
      ]
     },
     "execution_count": 32,
     "metadata": {},
     "output_type": "execute_result"
    }
   ],
   "source": [
    "df['Total_Stops'].unique()"
   ]
  },
  {
   "cell_type": "code",
   "execution_count": 33,
   "id": "78336170",
   "metadata": {},
   "outputs": [
    {
     "data": {
      "text/plain": [
       "1"
      ]
     },
     "execution_count": 33,
     "metadata": {},
     "output_type": "execute_result"
    }
   ],
   "source": [
    "df['Total_Stops'].isnull().sum()"
   ]
  },
  {
   "cell_type": "markdown",
   "id": "77cc92a3",
   "metadata": {},
   "source": [
    "One missing value is present"
   ]
  },
  {
   "cell_type": "code",
   "execution_count": 34,
   "id": "cb34bf2a",
   "metadata": {},
   "outputs": [
    {
     "data": {
      "text/plain": [
       "0    1 stop\n",
       "Name: Total_Stops, dtype: object"
      ]
     },
     "execution_count": 34,
     "metadata": {},
     "output_type": "execute_result"
    }
   ],
   "source": [
    "# Replace the missing value with the mode of all values\n",
    "df['Total_Stops'].mode()"
   ]
  },
  {
   "cell_type": "code",
   "execution_count": 35,
   "id": "ccf9506e",
   "metadata": {},
   "outputs": [],
   "source": [
    "df['Total_Stops']=df['Total_Stops'].map({\n",
    "    'non-stop':0,\n",
    "    '2 stops':2,\n",
    "    '1 stop':1,\n",
    "    '3 stops':3,\n",
    "    np.nan:1,\n",
    "    '4 stops':4\n",
    "})"
   ]
  },
  {
   "cell_type": "code",
   "execution_count": 36,
   "id": "34bc8d81",
   "metadata": {},
   "outputs": [
    {
     "data": {
      "text/html": [
       "<div>\n",
       "<style scoped>\n",
       "    .dataframe tbody tr th:only-of-type {\n",
       "        vertical-align: middle;\n",
       "    }\n",
       "\n",
       "    .dataframe tbody tr th {\n",
       "        vertical-align: top;\n",
       "    }\n",
       "\n",
       "    .dataframe thead th {\n",
       "        text-align: right;\n",
       "    }\n",
       "</style>\n",
       "<table border=\"1\" class=\"dataframe\">\n",
       "  <thead>\n",
       "    <tr style=\"text-align: right;\">\n",
       "      <th></th>\n",
       "      <th>Airline</th>\n",
       "      <th>Source</th>\n",
       "      <th>Destination</th>\n",
       "      <th>Route</th>\n",
       "      <th>Duration</th>\n",
       "      <th>Total_Stops</th>\n",
       "      <th>Additional_Info</th>\n",
       "      <th>Price</th>\n",
       "      <th>Date</th>\n",
       "      <th>Month</th>\n",
       "      <th>Year</th>\n",
       "      <th>Arrival_hr</th>\n",
       "      <th>Arrival_min</th>\n",
       "      <th>Dep_hr</th>\n",
       "      <th>Dep_min</th>\n",
       "    </tr>\n",
       "  </thead>\n",
       "  <tbody>\n",
       "    <tr>\n",
       "      <th>0</th>\n",
       "      <td>IndiGo</td>\n",
       "      <td>Banglore</td>\n",
       "      <td>New Delhi</td>\n",
       "      <td>BLR → DEL</td>\n",
       "      <td>2h 50m</td>\n",
       "      <td>0</td>\n",
       "      <td>No info</td>\n",
       "      <td>3897</td>\n",
       "      <td>24</td>\n",
       "      <td>3</td>\n",
       "      <td>2019</td>\n",
       "      <td>1</td>\n",
       "      <td>10</td>\n",
       "      <td>22</td>\n",
       "      <td>20</td>\n",
       "    </tr>\n",
       "    <tr>\n",
       "      <th>1</th>\n",
       "      <td>Air India</td>\n",
       "      <td>Kolkata</td>\n",
       "      <td>Banglore</td>\n",
       "      <td>CCU → IXR → BBI → BLR</td>\n",
       "      <td>7h 25m</td>\n",
       "      <td>2</td>\n",
       "      <td>No info</td>\n",
       "      <td>7662</td>\n",
       "      <td>1</td>\n",
       "      <td>5</td>\n",
       "      <td>2019</td>\n",
       "      <td>13</td>\n",
       "      <td>15</td>\n",
       "      <td>5</td>\n",
       "      <td>50</td>\n",
       "    </tr>\n",
       "    <tr>\n",
       "      <th>2</th>\n",
       "      <td>Jet Airways</td>\n",
       "      <td>Delhi</td>\n",
       "      <td>Cochin</td>\n",
       "      <td>DEL → LKO → BOM → COK</td>\n",
       "      <td>19h</td>\n",
       "      <td>2</td>\n",
       "      <td>No info</td>\n",
       "      <td>13882</td>\n",
       "      <td>9</td>\n",
       "      <td>6</td>\n",
       "      <td>2019</td>\n",
       "      <td>4</td>\n",
       "      <td>25</td>\n",
       "      <td>9</td>\n",
       "      <td>25</td>\n",
       "    </tr>\n",
       "    <tr>\n",
       "      <th>3</th>\n",
       "      <td>IndiGo</td>\n",
       "      <td>Kolkata</td>\n",
       "      <td>Banglore</td>\n",
       "      <td>CCU → NAG → BLR</td>\n",
       "      <td>5h 25m</td>\n",
       "      <td>1</td>\n",
       "      <td>No info</td>\n",
       "      <td>6218</td>\n",
       "      <td>12</td>\n",
       "      <td>5</td>\n",
       "      <td>2019</td>\n",
       "      <td>23</td>\n",
       "      <td>30</td>\n",
       "      <td>18</td>\n",
       "      <td>5</td>\n",
       "    </tr>\n",
       "    <tr>\n",
       "      <th>4</th>\n",
       "      <td>IndiGo</td>\n",
       "      <td>Banglore</td>\n",
       "      <td>New Delhi</td>\n",
       "      <td>BLR → NAG → DEL</td>\n",
       "      <td>4h 45m</td>\n",
       "      <td>1</td>\n",
       "      <td>No info</td>\n",
       "      <td>13302</td>\n",
       "      <td>1</td>\n",
       "      <td>3</td>\n",
       "      <td>2019</td>\n",
       "      <td>21</td>\n",
       "      <td>35</td>\n",
       "      <td>16</td>\n",
       "      <td>50</td>\n",
       "    </tr>\n",
       "  </tbody>\n",
       "</table>\n",
       "</div>"
      ],
      "text/plain": [
       "       Airline    Source Destination                  Route Duration  \\\n",
       "0       IndiGo  Banglore   New Delhi              BLR → DEL   2h 50m   \n",
       "1    Air India   Kolkata    Banglore  CCU → IXR → BBI → BLR   7h 25m   \n",
       "2  Jet Airways     Delhi      Cochin  DEL → LKO → BOM → COK      19h   \n",
       "3       IndiGo   Kolkata    Banglore        CCU → NAG → BLR   5h 25m   \n",
       "4       IndiGo  Banglore   New Delhi        BLR → NAG → DEL   4h 45m   \n",
       "\n",
       "   Total_Stops Additional_Info  Price  Date  Month  Year  Arrival_hr  \\\n",
       "0            0         No info   3897    24      3  2019           1   \n",
       "1            2         No info   7662     1      5  2019          13   \n",
       "2            2         No info  13882     9      6  2019           4   \n",
       "3            1         No info   6218    12      5  2019          23   \n",
       "4            1         No info  13302     1      3  2019          21   \n",
       "\n",
       "   Arrival_min  Dep_hr  Dep_min  \n",
       "0           10      22       20  \n",
       "1           15       5       50  \n",
       "2           25       9       25  \n",
       "3           30      18        5  \n",
       "4           35      16       50  "
      ]
     },
     "execution_count": 36,
     "metadata": {},
     "output_type": "execute_result"
    }
   ],
   "source": [
    "df.head()"
   ]
  },
  {
   "cell_type": "code",
   "execution_count": 37,
   "id": "021cff8d",
   "metadata": {
    "scrolled": true
   },
   "outputs": [
    {
     "data": {
      "text/plain": [
       "0"
      ]
     },
     "execution_count": 37,
     "metadata": {},
     "output_type": "execute_result"
    }
   ],
   "source": [
    "df['Total_Stops'].isnull().sum()"
   ]
  },
  {
   "cell_type": "markdown",
   "id": "7dd098a3",
   "metadata": {},
   "source": [
    "### Dropping \"Route\" column as it is not so essential for our analysis"
   ]
  },
  {
   "cell_type": "code",
   "execution_count": 38,
   "id": "174c51ec",
   "metadata": {},
   "outputs": [],
   "source": [
    "df.drop('Route',axis=1,inplace=True)"
   ]
  },
  {
   "cell_type": "markdown",
   "id": "0da1de0a",
   "metadata": {},
   "source": [
    "### Cleaning \"Duration\" column"
   ]
  },
  {
   "cell_type": "markdown",
   "id": "33d43936",
   "metadata": {},
   "source": [
    "We shall separate the hours and minutes in separate columns"
   ]
  },
  {
   "cell_type": "code",
   "execution_count": 40,
   "id": "bfea2eec",
   "metadata": {},
   "outputs": [],
   "source": [
    "df['minutes']=df['Duration'].str.split(' ').str[1].str.split('m').str[0]"
   ]
  },
  {
   "cell_type": "code",
   "execution_count": 41,
   "id": "7b9df7d9",
   "metadata": {},
   "outputs": [],
   "source": [
    "df['hours']=df['Duration'].str.split('h').str[0]"
   ]
  },
  {
   "cell_type": "code",
   "execution_count": 42,
   "id": "3442d62e",
   "metadata": {
    "scrolled": false
   },
   "outputs": [
    {
     "data": {
      "text/plain": [
       "array(['2', '7', '19', '5', '4', '15', '21', '25', '13', '12', '26', '22',\n",
       "       '23', '20', '10', '6', '11', '8', '16', '3', '27', '1', '14', '9',\n",
       "       '18', '17', '24', '30', '28', '29', '37', '34', '38', '35', '36',\n",
       "       '47', '33', '32', '31', '42', '39', '5m', '41', '40'], dtype=object)"
      ]
     },
     "execution_count": 42,
     "metadata": {},
     "output_type": "execute_result"
    }
   ],
   "source": [
    "df['hours'].unique()"
   ]
  },
  {
   "cell_type": "markdown",
   "id": "2aaa27e8",
   "metadata": {},
   "source": [
    "Here, we can see that one record is given as \"5m\", i.e. 5 minutes, which is impossible for a flight journey. This is an error, hence we will remove the records that have such value."
   ]
  },
  {
   "cell_type": "code",
   "execution_count": 43,
   "id": "91e266c0",
   "metadata": {
    "scrolled": true
   },
   "outputs": [
    {
     "data": {
      "text/html": [
       "<div>\n",
       "<style scoped>\n",
       "    .dataframe tbody tr th:only-of-type {\n",
       "        vertical-align: middle;\n",
       "    }\n",
       "\n",
       "    .dataframe tbody tr th {\n",
       "        vertical-align: top;\n",
       "    }\n",
       "\n",
       "    .dataframe thead th {\n",
       "        text-align: right;\n",
       "    }\n",
       "</style>\n",
       "<table border=\"1\" class=\"dataframe\">\n",
       "  <thead>\n",
       "    <tr style=\"text-align: right;\">\n",
       "      <th></th>\n",
       "      <th>Airline</th>\n",
       "      <th>Source</th>\n",
       "      <th>Destination</th>\n",
       "      <th>Duration</th>\n",
       "      <th>Total_Stops</th>\n",
       "      <th>Additional_Info</th>\n",
       "      <th>Price</th>\n",
       "      <th>Date</th>\n",
       "      <th>Month</th>\n",
       "      <th>Year</th>\n",
       "      <th>Arrival_hr</th>\n",
       "      <th>Arrival_min</th>\n",
       "      <th>Dep_hr</th>\n",
       "      <th>Dep_min</th>\n",
       "      <th>minutes</th>\n",
       "      <th>hours</th>\n",
       "    </tr>\n",
       "  </thead>\n",
       "  <tbody>\n",
       "    <tr>\n",
       "      <th>6474</th>\n",
       "      <td>Air India</td>\n",
       "      <td>Mumbai</td>\n",
       "      <td>Hyderabad</td>\n",
       "      <td>5m</td>\n",
       "      <td>2</td>\n",
       "      <td>No info</td>\n",
       "      <td>17327</td>\n",
       "      <td>6</td>\n",
       "      <td>3</td>\n",
       "      <td>2019</td>\n",
       "      <td>16</td>\n",
       "      <td>55</td>\n",
       "      <td>16</td>\n",
       "      <td>50</td>\n",
       "      <td>NaN</td>\n",
       "      <td>5m</td>\n",
       "    </tr>\n",
       "  </tbody>\n",
       "</table>\n",
       "</div>"
      ],
      "text/plain": [
       "        Airline  Source Destination Duration  Total_Stops Additional_Info  \\\n",
       "6474  Air India  Mumbai   Hyderabad       5m            2         No info   \n",
       "\n",
       "      Price  Date  Month  Year  Arrival_hr  Arrival_min  Dep_hr  Dep_min  \\\n",
       "6474  17327     6      3  2019          16           55      16       50   \n",
       "\n",
       "     minutes hours  \n",
       "6474     NaN    5m  "
      ]
     },
     "execution_count": 43,
     "metadata": {},
     "output_type": "execute_result"
    }
   ],
   "source": [
    "df[df['hours']=='5m']"
   ]
  },
  {
   "cell_type": "code",
   "execution_count": 44,
   "id": "0ade6434",
   "metadata": {},
   "outputs": [],
   "source": [
    "df.drop(df.index[6474],inplace=True)"
   ]
  },
  {
   "cell_type": "code",
   "execution_count": 45,
   "id": "86260e7b",
   "metadata": {
    "scrolled": true
   },
   "outputs": [
    {
     "data": {
      "text/plain": [
       "array(['50', '25', nan, '45', '30', '5', '15', '35', '10', '20', '55',\n",
       "       '40'], dtype=object)"
      ]
     },
     "execution_count": 45,
     "metadata": {},
     "output_type": "execute_result"
    }
   ],
   "source": [
    "df['minutes'].unique()"
   ]
  },
  {
   "cell_type": "code",
   "execution_count": 46,
   "id": "34f7b73f",
   "metadata": {},
   "outputs": [],
   "source": [
    "df['minutes']=df['minutes'].replace(np.nan,0)"
   ]
  },
  {
   "cell_type": "code",
   "execution_count": 47,
   "id": "75ebbecb",
   "metadata": {},
   "outputs": [
    {
     "data": {
      "text/plain": [
       "array(['50', '25', 0, '45', '30', '5', '15', '35', '10', '20', '55', '40'],\n",
       "      dtype=object)"
      ]
     },
     "execution_count": 47,
     "metadata": {},
     "output_type": "execute_result"
    }
   ],
   "source": [
    "df['minutes'].unique()"
   ]
  },
  {
   "cell_type": "code",
   "execution_count": 48,
   "id": "50512d4d",
   "metadata": {
    "scrolled": false
   },
   "outputs": [
    {
     "data": {
      "text/html": [
       "<div>\n",
       "<style scoped>\n",
       "    .dataframe tbody tr th:only-of-type {\n",
       "        vertical-align: middle;\n",
       "    }\n",
       "\n",
       "    .dataframe tbody tr th {\n",
       "        vertical-align: top;\n",
       "    }\n",
       "\n",
       "    .dataframe thead th {\n",
       "        text-align: right;\n",
       "    }\n",
       "</style>\n",
       "<table border=\"1\" class=\"dataframe\">\n",
       "  <thead>\n",
       "    <tr style=\"text-align: right;\">\n",
       "      <th></th>\n",
       "      <th>Airline</th>\n",
       "      <th>Source</th>\n",
       "      <th>Destination</th>\n",
       "      <th>Duration</th>\n",
       "      <th>Total_Stops</th>\n",
       "      <th>Additional_Info</th>\n",
       "      <th>Price</th>\n",
       "      <th>Date</th>\n",
       "      <th>Month</th>\n",
       "      <th>Year</th>\n",
       "      <th>Arrival_hr</th>\n",
       "      <th>Arrival_min</th>\n",
       "      <th>Dep_hr</th>\n",
       "      <th>Dep_min</th>\n",
       "      <th>minutes</th>\n",
       "      <th>hours</th>\n",
       "    </tr>\n",
       "  </thead>\n",
       "  <tbody>\n",
       "    <tr>\n",
       "      <th>0</th>\n",
       "      <td>IndiGo</td>\n",
       "      <td>Banglore</td>\n",
       "      <td>New Delhi</td>\n",
       "      <td>2h 50m</td>\n",
       "      <td>0</td>\n",
       "      <td>No info</td>\n",
       "      <td>3897</td>\n",
       "      <td>24</td>\n",
       "      <td>3</td>\n",
       "      <td>2019</td>\n",
       "      <td>1</td>\n",
       "      <td>10</td>\n",
       "      <td>22</td>\n",
       "      <td>20</td>\n",
       "      <td>50</td>\n",
       "      <td>2</td>\n",
       "    </tr>\n",
       "    <tr>\n",
       "      <th>1</th>\n",
       "      <td>Air India</td>\n",
       "      <td>Kolkata</td>\n",
       "      <td>Banglore</td>\n",
       "      <td>7h 25m</td>\n",
       "      <td>2</td>\n",
       "      <td>No info</td>\n",
       "      <td>7662</td>\n",
       "      <td>1</td>\n",
       "      <td>5</td>\n",
       "      <td>2019</td>\n",
       "      <td>13</td>\n",
       "      <td>15</td>\n",
       "      <td>5</td>\n",
       "      <td>50</td>\n",
       "      <td>25</td>\n",
       "      <td>7</td>\n",
       "    </tr>\n",
       "    <tr>\n",
       "      <th>2</th>\n",
       "      <td>Jet Airways</td>\n",
       "      <td>Delhi</td>\n",
       "      <td>Cochin</td>\n",
       "      <td>19h</td>\n",
       "      <td>2</td>\n",
       "      <td>No info</td>\n",
       "      <td>13882</td>\n",
       "      <td>9</td>\n",
       "      <td>6</td>\n",
       "      <td>2019</td>\n",
       "      <td>4</td>\n",
       "      <td>25</td>\n",
       "      <td>9</td>\n",
       "      <td>25</td>\n",
       "      <td>0</td>\n",
       "      <td>19</td>\n",
       "    </tr>\n",
       "    <tr>\n",
       "      <th>3</th>\n",
       "      <td>IndiGo</td>\n",
       "      <td>Kolkata</td>\n",
       "      <td>Banglore</td>\n",
       "      <td>5h 25m</td>\n",
       "      <td>1</td>\n",
       "      <td>No info</td>\n",
       "      <td>6218</td>\n",
       "      <td>12</td>\n",
       "      <td>5</td>\n",
       "      <td>2019</td>\n",
       "      <td>23</td>\n",
       "      <td>30</td>\n",
       "      <td>18</td>\n",
       "      <td>5</td>\n",
       "      <td>25</td>\n",
       "      <td>5</td>\n",
       "    </tr>\n",
       "    <tr>\n",
       "      <th>4</th>\n",
       "      <td>IndiGo</td>\n",
       "      <td>Banglore</td>\n",
       "      <td>New Delhi</td>\n",
       "      <td>4h 45m</td>\n",
       "      <td>1</td>\n",
       "      <td>No info</td>\n",
       "      <td>13302</td>\n",
       "      <td>1</td>\n",
       "      <td>3</td>\n",
       "      <td>2019</td>\n",
       "      <td>21</td>\n",
       "      <td>35</td>\n",
       "      <td>16</td>\n",
       "      <td>50</td>\n",
       "      <td>45</td>\n",
       "      <td>4</td>\n",
       "    </tr>\n",
       "  </tbody>\n",
       "</table>\n",
       "</div>"
      ],
      "text/plain": [
       "       Airline    Source Destination Duration  Total_Stops Additional_Info  \\\n",
       "0       IndiGo  Banglore   New Delhi   2h 50m            0         No info   \n",
       "1    Air India   Kolkata    Banglore   7h 25m            2         No info   \n",
       "2  Jet Airways     Delhi      Cochin      19h            2         No info   \n",
       "3       IndiGo   Kolkata    Banglore   5h 25m            1         No info   \n",
       "4       IndiGo  Banglore   New Delhi   4h 45m            1         No info   \n",
       "\n",
       "   Price  Date  Month  Year  Arrival_hr  Arrival_min  Dep_hr  Dep_min minutes  \\\n",
       "0   3897    24      3  2019           1           10      22       20      50   \n",
       "1   7662     1      5  2019          13           15       5       50      25   \n",
       "2  13882     9      6  2019           4           25       9       25       0   \n",
       "3   6218    12      5  2019          23           30      18        5      25   \n",
       "4  13302     1      3  2019          21           35      16       50      45   \n",
       "\n",
       "  hours  \n",
       "0     2  \n",
       "1     7  \n",
       "2    19  \n",
       "3     5  \n",
       "4     4  "
      ]
     },
     "execution_count": 48,
     "metadata": {},
     "output_type": "execute_result"
    }
   ],
   "source": [
    "df.head()"
   ]
  },
  {
   "cell_type": "code",
   "execution_count": 49,
   "id": "63d066ae",
   "metadata": {},
   "outputs": [],
   "source": [
    "df['minutes']=df['minutes'].astype(int)\n",
    "df['hours']=df['hours'].astype(int)"
   ]
  },
  {
   "cell_type": "code",
   "execution_count": 50,
   "id": "3caae4bd",
   "metadata": {},
   "outputs": [],
   "source": [
    "df.drop('Duration',axis=1,inplace=True)"
   ]
  },
  {
   "cell_type": "code",
   "execution_count": 51,
   "id": "232411f6",
   "metadata": {
    "scrolled": true
   },
   "outputs": [
    {
     "name": "stdout",
     "output_type": "stream",
     "text": [
      "<class 'pandas.core.frame.DataFrame'>\n",
      "Int64Index: 10682 entries, 0 to 10682\n",
      "Data columns (total 15 columns):\n",
      " #   Column           Non-Null Count  Dtype \n",
      "---  ------           --------------  ----- \n",
      " 0   Airline          10682 non-null  object\n",
      " 1   Source           10682 non-null  object\n",
      " 2   Destination      10682 non-null  object\n",
      " 3   Total_Stops      10682 non-null  int64 \n",
      " 4   Additional_Info  10682 non-null  object\n",
      " 5   Price            10682 non-null  int64 \n",
      " 6   Date             10682 non-null  int32 \n",
      " 7   Month            10682 non-null  int32 \n",
      " 8   Year             10682 non-null  int32 \n",
      " 9   Arrival_hr       10682 non-null  int32 \n",
      " 10  Arrival_min      10682 non-null  int32 \n",
      " 11  Dep_hr           10682 non-null  int32 \n",
      " 12  Dep_min          10682 non-null  int32 \n",
      " 13  minutes          10682 non-null  int32 \n",
      " 14  hours            10682 non-null  int32 \n",
      "dtypes: int32(9), int64(2), object(4)\n",
      "memory usage: 959.7+ KB\n"
     ]
    }
   ],
   "source": [
    "df.info()"
   ]
  },
  {
   "cell_type": "code",
   "execution_count": 52,
   "id": "99ced123",
   "metadata": {},
   "outputs": [],
   "source": [
    "#df[\"Duration(in mins)\"] = np.sum(df['hours']*60,df['minutes'])\n",
    "df['hour to minute'] = df['hours'].apply(lambda x: x*60)"
   ]
  },
  {
   "cell_type": "code",
   "execution_count": 53,
   "id": "a2d509ed",
   "metadata": {},
   "outputs": [
    {
     "data": {
      "text/plain": [
       "0         120\n",
       "1         420\n",
       "2        1140\n",
       "3         300\n",
       "4         240\n",
       "         ... \n",
       "10678     120\n",
       "10679     120\n",
       "10680     180\n",
       "10681     120\n",
       "10682     480\n",
       "Name: hour to minute, Length: 10682, dtype: int64"
      ]
     },
     "execution_count": 53,
     "metadata": {},
     "output_type": "execute_result"
    }
   ],
   "source": [
    "df['hour to minute']"
   ]
  },
  {
   "cell_type": "code",
   "execution_count": 54,
   "id": "d537dd44",
   "metadata": {},
   "outputs": [],
   "source": [
    "df[\"Duration(in mins)\"] = df['hour to minute']+df['minutes']"
   ]
  },
  {
   "cell_type": "code",
   "execution_count": 55,
   "id": "11e8f5ea",
   "metadata": {
    "scrolled": true
   },
   "outputs": [
    {
     "data": {
      "text/html": [
       "<div>\n",
       "<style scoped>\n",
       "    .dataframe tbody tr th:only-of-type {\n",
       "        vertical-align: middle;\n",
       "    }\n",
       "\n",
       "    .dataframe tbody tr th {\n",
       "        vertical-align: top;\n",
       "    }\n",
       "\n",
       "    .dataframe thead th {\n",
       "        text-align: right;\n",
       "    }\n",
       "</style>\n",
       "<table border=\"1\" class=\"dataframe\">\n",
       "  <thead>\n",
       "    <tr style=\"text-align: right;\">\n",
       "      <th></th>\n",
       "      <th>Airline</th>\n",
       "      <th>Source</th>\n",
       "      <th>Destination</th>\n",
       "      <th>Total_Stops</th>\n",
       "      <th>Additional_Info</th>\n",
       "      <th>Price</th>\n",
       "      <th>Date</th>\n",
       "      <th>Month</th>\n",
       "      <th>Year</th>\n",
       "      <th>Arrival_hr</th>\n",
       "      <th>Arrival_min</th>\n",
       "      <th>Dep_hr</th>\n",
       "      <th>Dep_min</th>\n",
       "      <th>minutes</th>\n",
       "      <th>hours</th>\n",
       "      <th>hour to minute</th>\n",
       "      <th>Duration(in mins)</th>\n",
       "    </tr>\n",
       "  </thead>\n",
       "  <tbody>\n",
       "    <tr>\n",
       "      <th>0</th>\n",
       "      <td>IndiGo</td>\n",
       "      <td>Banglore</td>\n",
       "      <td>New Delhi</td>\n",
       "      <td>0</td>\n",
       "      <td>No info</td>\n",
       "      <td>3897</td>\n",
       "      <td>24</td>\n",
       "      <td>3</td>\n",
       "      <td>2019</td>\n",
       "      <td>1</td>\n",
       "      <td>10</td>\n",
       "      <td>22</td>\n",
       "      <td>20</td>\n",
       "      <td>50</td>\n",
       "      <td>2</td>\n",
       "      <td>120</td>\n",
       "      <td>170</td>\n",
       "    </tr>\n",
       "    <tr>\n",
       "      <th>1</th>\n",
       "      <td>Air India</td>\n",
       "      <td>Kolkata</td>\n",
       "      <td>Banglore</td>\n",
       "      <td>2</td>\n",
       "      <td>No info</td>\n",
       "      <td>7662</td>\n",
       "      <td>1</td>\n",
       "      <td>5</td>\n",
       "      <td>2019</td>\n",
       "      <td>13</td>\n",
       "      <td>15</td>\n",
       "      <td>5</td>\n",
       "      <td>50</td>\n",
       "      <td>25</td>\n",
       "      <td>7</td>\n",
       "      <td>420</td>\n",
       "      <td>445</td>\n",
       "    </tr>\n",
       "    <tr>\n",
       "      <th>2</th>\n",
       "      <td>Jet Airways</td>\n",
       "      <td>Delhi</td>\n",
       "      <td>Cochin</td>\n",
       "      <td>2</td>\n",
       "      <td>No info</td>\n",
       "      <td>13882</td>\n",
       "      <td>9</td>\n",
       "      <td>6</td>\n",
       "      <td>2019</td>\n",
       "      <td>4</td>\n",
       "      <td>25</td>\n",
       "      <td>9</td>\n",
       "      <td>25</td>\n",
       "      <td>0</td>\n",
       "      <td>19</td>\n",
       "      <td>1140</td>\n",
       "      <td>1140</td>\n",
       "    </tr>\n",
       "    <tr>\n",
       "      <th>3</th>\n",
       "      <td>IndiGo</td>\n",
       "      <td>Kolkata</td>\n",
       "      <td>Banglore</td>\n",
       "      <td>1</td>\n",
       "      <td>No info</td>\n",
       "      <td>6218</td>\n",
       "      <td>12</td>\n",
       "      <td>5</td>\n",
       "      <td>2019</td>\n",
       "      <td>23</td>\n",
       "      <td>30</td>\n",
       "      <td>18</td>\n",
       "      <td>5</td>\n",
       "      <td>25</td>\n",
       "      <td>5</td>\n",
       "      <td>300</td>\n",
       "      <td>325</td>\n",
       "    </tr>\n",
       "    <tr>\n",
       "      <th>4</th>\n",
       "      <td>IndiGo</td>\n",
       "      <td>Banglore</td>\n",
       "      <td>New Delhi</td>\n",
       "      <td>1</td>\n",
       "      <td>No info</td>\n",
       "      <td>13302</td>\n",
       "      <td>1</td>\n",
       "      <td>3</td>\n",
       "      <td>2019</td>\n",
       "      <td>21</td>\n",
       "      <td>35</td>\n",
       "      <td>16</td>\n",
       "      <td>50</td>\n",
       "      <td>45</td>\n",
       "      <td>4</td>\n",
       "      <td>240</td>\n",
       "      <td>285</td>\n",
       "    </tr>\n",
       "  </tbody>\n",
       "</table>\n",
       "</div>"
      ],
      "text/plain": [
       "       Airline    Source Destination  Total_Stops Additional_Info  Price  \\\n",
       "0       IndiGo  Banglore   New Delhi            0         No info   3897   \n",
       "1    Air India   Kolkata    Banglore            2         No info   7662   \n",
       "2  Jet Airways     Delhi      Cochin            2         No info  13882   \n",
       "3       IndiGo   Kolkata    Banglore            1         No info   6218   \n",
       "4       IndiGo  Banglore   New Delhi            1         No info  13302   \n",
       "\n",
       "   Date  Month  Year  Arrival_hr  Arrival_min  Dep_hr  Dep_min  minutes  \\\n",
       "0    24      3  2019           1           10      22       20       50   \n",
       "1     1      5  2019          13           15       5       50       25   \n",
       "2     9      6  2019           4           25       9       25        0   \n",
       "3    12      5  2019          23           30      18        5       25   \n",
       "4     1      3  2019          21           35      16       50       45   \n",
       "\n",
       "   hours  hour to minute  Duration(in mins)  \n",
       "0      2             120                170  \n",
       "1      7             420                445  \n",
       "2     19            1140               1140  \n",
       "3      5             300                325  \n",
       "4      4             240                285  "
      ]
     },
     "execution_count": 55,
     "metadata": {},
     "output_type": "execute_result"
    }
   ],
   "source": [
    "df.head()"
   ]
  },
  {
   "cell_type": "code",
   "execution_count": 56,
   "id": "f3ba6dc4",
   "metadata": {},
   "outputs": [],
   "source": [
    "df.drop(['minutes','hours','hour to minute'],axis=1,inplace=True)"
   ]
  },
  {
   "cell_type": "code",
   "execution_count": 57,
   "id": "dadfcc0e",
   "metadata": {
    "scrolled": true
   },
   "outputs": [
    {
     "data": {
      "text/html": [
       "<div>\n",
       "<style scoped>\n",
       "    .dataframe tbody tr th:only-of-type {\n",
       "        vertical-align: middle;\n",
       "    }\n",
       "\n",
       "    .dataframe tbody tr th {\n",
       "        vertical-align: top;\n",
       "    }\n",
       "\n",
       "    .dataframe thead th {\n",
       "        text-align: right;\n",
       "    }\n",
       "</style>\n",
       "<table border=\"1\" class=\"dataframe\">\n",
       "  <thead>\n",
       "    <tr style=\"text-align: right;\">\n",
       "      <th></th>\n",
       "      <th>Airline</th>\n",
       "      <th>Source</th>\n",
       "      <th>Destination</th>\n",
       "      <th>Total_Stops</th>\n",
       "      <th>Additional_Info</th>\n",
       "      <th>Price</th>\n",
       "      <th>Date</th>\n",
       "      <th>Month</th>\n",
       "      <th>Year</th>\n",
       "      <th>Arrival_hr</th>\n",
       "      <th>Arrival_min</th>\n",
       "      <th>Dep_hr</th>\n",
       "      <th>Dep_min</th>\n",
       "      <th>Duration(in mins)</th>\n",
       "    </tr>\n",
       "  </thead>\n",
       "  <tbody>\n",
       "    <tr>\n",
       "      <th>0</th>\n",
       "      <td>IndiGo</td>\n",
       "      <td>Banglore</td>\n",
       "      <td>New Delhi</td>\n",
       "      <td>0</td>\n",
       "      <td>No info</td>\n",
       "      <td>3897</td>\n",
       "      <td>24</td>\n",
       "      <td>3</td>\n",
       "      <td>2019</td>\n",
       "      <td>1</td>\n",
       "      <td>10</td>\n",
       "      <td>22</td>\n",
       "      <td>20</td>\n",
       "      <td>170</td>\n",
       "    </tr>\n",
       "    <tr>\n",
       "      <th>1</th>\n",
       "      <td>Air India</td>\n",
       "      <td>Kolkata</td>\n",
       "      <td>Banglore</td>\n",
       "      <td>2</td>\n",
       "      <td>No info</td>\n",
       "      <td>7662</td>\n",
       "      <td>1</td>\n",
       "      <td>5</td>\n",
       "      <td>2019</td>\n",
       "      <td>13</td>\n",
       "      <td>15</td>\n",
       "      <td>5</td>\n",
       "      <td>50</td>\n",
       "      <td>445</td>\n",
       "    </tr>\n",
       "    <tr>\n",
       "      <th>2</th>\n",
       "      <td>Jet Airways</td>\n",
       "      <td>Delhi</td>\n",
       "      <td>Cochin</td>\n",
       "      <td>2</td>\n",
       "      <td>No info</td>\n",
       "      <td>13882</td>\n",
       "      <td>9</td>\n",
       "      <td>6</td>\n",
       "      <td>2019</td>\n",
       "      <td>4</td>\n",
       "      <td>25</td>\n",
       "      <td>9</td>\n",
       "      <td>25</td>\n",
       "      <td>1140</td>\n",
       "    </tr>\n",
       "    <tr>\n",
       "      <th>3</th>\n",
       "      <td>IndiGo</td>\n",
       "      <td>Kolkata</td>\n",
       "      <td>Banglore</td>\n",
       "      <td>1</td>\n",
       "      <td>No info</td>\n",
       "      <td>6218</td>\n",
       "      <td>12</td>\n",
       "      <td>5</td>\n",
       "      <td>2019</td>\n",
       "      <td>23</td>\n",
       "      <td>30</td>\n",
       "      <td>18</td>\n",
       "      <td>5</td>\n",
       "      <td>325</td>\n",
       "    </tr>\n",
       "    <tr>\n",
       "      <th>4</th>\n",
       "      <td>IndiGo</td>\n",
       "      <td>Banglore</td>\n",
       "      <td>New Delhi</td>\n",
       "      <td>1</td>\n",
       "      <td>No info</td>\n",
       "      <td>13302</td>\n",
       "      <td>1</td>\n",
       "      <td>3</td>\n",
       "      <td>2019</td>\n",
       "      <td>21</td>\n",
       "      <td>35</td>\n",
       "      <td>16</td>\n",
       "      <td>50</td>\n",
       "      <td>285</td>\n",
       "    </tr>\n",
       "  </tbody>\n",
       "</table>\n",
       "</div>"
      ],
      "text/plain": [
       "       Airline    Source Destination  Total_Stops Additional_Info  Price  \\\n",
       "0       IndiGo  Banglore   New Delhi            0         No info   3897   \n",
       "1    Air India   Kolkata    Banglore            2         No info   7662   \n",
       "2  Jet Airways     Delhi      Cochin            2         No info  13882   \n",
       "3       IndiGo   Kolkata    Banglore            1         No info   6218   \n",
       "4       IndiGo  Banglore   New Delhi            1         No info  13302   \n",
       "\n",
       "   Date  Month  Year  Arrival_hr  Arrival_min  Dep_hr  Dep_min  \\\n",
       "0    24      3  2019           1           10      22       20   \n",
       "1     1      5  2019          13           15       5       50   \n",
       "2     9      6  2019           4           25       9       25   \n",
       "3    12      5  2019          23           30      18        5   \n",
       "4     1      3  2019          21           35      16       50   \n",
       "\n",
       "   Duration(in mins)  \n",
       "0                170  \n",
       "1                445  \n",
       "2               1140  \n",
       "3                325  \n",
       "4                285  "
      ]
     },
     "execution_count": 57,
     "metadata": {},
     "output_type": "execute_result"
    }
   ],
   "source": [
    "df.head()"
   ]
  },
  {
   "cell_type": "code",
   "execution_count": 58,
   "id": "3a5a6d0d",
   "metadata": {},
   "outputs": [
    {
     "name": "stdout",
     "output_type": "stream",
     "text": [
      "<class 'pandas.core.frame.DataFrame'>\n",
      "Int64Index: 10682 entries, 0 to 10682\n",
      "Data columns (total 14 columns):\n",
      " #   Column             Non-Null Count  Dtype \n",
      "---  ------             --------------  ----- \n",
      " 0   Airline            10682 non-null  object\n",
      " 1   Source             10682 non-null  object\n",
      " 2   Destination        10682 non-null  object\n",
      " 3   Total_Stops        10682 non-null  int64 \n",
      " 4   Additional_Info    10682 non-null  object\n",
      " 5   Price              10682 non-null  int64 \n",
      " 6   Date               10682 non-null  int32 \n",
      " 7   Month              10682 non-null  int32 \n",
      " 8   Year               10682 non-null  int32 \n",
      " 9   Arrival_hr         10682 non-null  int32 \n",
      " 10  Arrival_min        10682 non-null  int32 \n",
      " 11  Dep_hr             10682 non-null  int32 \n",
      " 12  Dep_min            10682 non-null  int32 \n",
      " 13  Duration(in mins)  10682 non-null  int64 \n",
      "dtypes: int32(7), int64(3), object(4)\n",
      "memory usage: 959.7+ KB\n"
     ]
    }
   ],
   "source": [
    "df.info()"
   ]
  },
  {
   "cell_type": "markdown",
   "id": "15fdfe86",
   "metadata": {},
   "source": [
    "### Checking other columns"
   ]
  },
  {
   "cell_type": "code",
   "execution_count": 59,
   "id": "c8ac4365",
   "metadata": {},
   "outputs": [
    {
     "data": {
      "text/plain": [
       "array(['IndiGo', 'Air India', 'Jet Airways', 'SpiceJet',\n",
       "       'Multiple carriers', 'GoAir', 'Vistara', 'Air Asia',\n",
       "       'Vistara Premium economy', 'Jet Airways Business',\n",
       "       'Multiple carriers Premium economy', 'Trujet'], dtype=object)"
      ]
     },
     "execution_count": 59,
     "metadata": {},
     "output_type": "execute_result"
    }
   ],
   "source": [
    "df['Airline'].unique()"
   ]
  },
  {
   "cell_type": "code",
   "execution_count": 60,
   "id": "91973a58",
   "metadata": {},
   "outputs": [
    {
     "data": {
      "text/plain": [
       "array(['Banglore', 'Kolkata', 'Delhi', 'Chennai', 'Mumbai'], dtype=object)"
      ]
     },
     "execution_count": 60,
     "metadata": {},
     "output_type": "execute_result"
    }
   ],
   "source": [
    "df['Source'].unique()"
   ]
  },
  {
   "cell_type": "code",
   "execution_count": 61,
   "id": "21b53457",
   "metadata": {
    "scrolled": true
   },
   "outputs": [
    {
     "data": {
      "text/plain": [
       "array(['No info', 'In-flight meal not included',\n",
       "       'No check-in baggage included', '1 Short layover', 'No Info',\n",
       "       '1 Long layover', 'Change airports', 'Business class',\n",
       "       'Red-eye flight', '2 Long layover'], dtype=object)"
      ]
     },
     "execution_count": 61,
     "metadata": {},
     "output_type": "execute_result"
    }
   ],
   "source": [
    "df['Additional_Info'].unique()"
   ]
  },
  {
   "cell_type": "markdown",
   "id": "01b69b9a",
   "metadata": {},
   "source": [
    "# Basic information about the dataset"
   ]
  },
  {
   "cell_type": "code",
   "execution_count": 62,
   "id": "499083e3",
   "metadata": {
    "scrolled": true
   },
   "outputs": [
    {
     "data": {
      "text/html": [
       "<div>\n",
       "<style scoped>\n",
       "    .dataframe tbody tr th:only-of-type {\n",
       "        vertical-align: middle;\n",
       "    }\n",
       "\n",
       "    .dataframe tbody tr th {\n",
       "        vertical-align: top;\n",
       "    }\n",
       "\n",
       "    .dataframe thead th {\n",
       "        text-align: right;\n",
       "    }\n",
       "</style>\n",
       "<table border=\"1\" class=\"dataframe\">\n",
       "  <thead>\n",
       "    <tr style=\"text-align: right;\">\n",
       "      <th></th>\n",
       "      <th>Total_Stops</th>\n",
       "      <th>Price</th>\n",
       "      <th>Date</th>\n",
       "      <th>Month</th>\n",
       "      <th>Year</th>\n",
       "      <th>Arrival_hr</th>\n",
       "      <th>Arrival_min</th>\n",
       "      <th>Dep_hr</th>\n",
       "      <th>Dep_min</th>\n",
       "      <th>Duration(in mins)</th>\n",
       "    </tr>\n",
       "  </thead>\n",
       "  <tbody>\n",
       "    <tr>\n",
       "      <th>count</th>\n",
       "      <td>10682.000000</td>\n",
       "      <td>10682.000000</td>\n",
       "      <td>10682.000000</td>\n",
       "      <td>10682.000000</td>\n",
       "      <td>10682.0</td>\n",
       "      <td>10682.000000</td>\n",
       "      <td>10682.000000</td>\n",
       "      <td>10682.000000</td>\n",
       "      <td>10682.000000</td>\n",
       "      <td>10682.000000</td>\n",
       "    </tr>\n",
       "    <tr>\n",
       "      <th>mean</th>\n",
       "      <td>0.824097</td>\n",
       "      <td>9086.292735</td>\n",
       "      <td>13.509081</td>\n",
       "      <td>4.708762</td>\n",
       "      <td>2019.0</td>\n",
       "      <td>13.348530</td>\n",
       "      <td>24.687793</td>\n",
       "      <td>12.490358</td>\n",
       "      <td>24.408819</td>\n",
       "      <td>643.152968</td>\n",
       "    </tr>\n",
       "    <tr>\n",
       "      <th>std</th>\n",
       "      <td>0.675135</td>\n",
       "      <td>4610.885695</td>\n",
       "      <td>8.479363</td>\n",
       "      <td>1.164294</td>\n",
       "      <td>0.0</td>\n",
       "      <td>6.859398</td>\n",
       "      <td>16.504203</td>\n",
       "      <td>5.748819</td>\n",
       "      <td>18.767225</td>\n",
       "      <td>507.848241</td>\n",
       "    </tr>\n",
       "    <tr>\n",
       "      <th>min</th>\n",
       "      <td>0.000000</td>\n",
       "      <td>1759.000000</td>\n",
       "      <td>1.000000</td>\n",
       "      <td>3.000000</td>\n",
       "      <td>2019.0</td>\n",
       "      <td>0.000000</td>\n",
       "      <td>0.000000</td>\n",
       "      <td>0.000000</td>\n",
       "      <td>0.000000</td>\n",
       "      <td>75.000000</td>\n",
       "    </tr>\n",
       "    <tr>\n",
       "      <th>25%</th>\n",
       "      <td>0.000000</td>\n",
       "      <td>5277.000000</td>\n",
       "      <td>6.000000</td>\n",
       "      <td>3.000000</td>\n",
       "      <td>2019.0</td>\n",
       "      <td>8.000000</td>\n",
       "      <td>10.000000</td>\n",
       "      <td>8.000000</td>\n",
       "      <td>5.000000</td>\n",
       "      <td>170.000000</td>\n",
       "    </tr>\n",
       "    <tr>\n",
       "      <th>50%</th>\n",
       "      <td>1.000000</td>\n",
       "      <td>8372.000000</td>\n",
       "      <td>12.000000</td>\n",
       "      <td>5.000000</td>\n",
       "      <td>2019.0</td>\n",
       "      <td>14.000000</td>\n",
       "      <td>25.000000</td>\n",
       "      <td>11.000000</td>\n",
       "      <td>25.000000</td>\n",
       "      <td>520.000000</td>\n",
       "    </tr>\n",
       "    <tr>\n",
       "      <th>75%</th>\n",
       "      <td>1.000000</td>\n",
       "      <td>12373.000000</td>\n",
       "      <td>21.000000</td>\n",
       "      <td>6.000000</td>\n",
       "      <td>2019.0</td>\n",
       "      <td>19.000000</td>\n",
       "      <td>35.000000</td>\n",
       "      <td>18.000000</td>\n",
       "      <td>40.000000</td>\n",
       "      <td>930.000000</td>\n",
       "    </tr>\n",
       "    <tr>\n",
       "      <th>max</th>\n",
       "      <td>4.000000</td>\n",
       "      <td>79512.000000</td>\n",
       "      <td>27.000000</td>\n",
       "      <td>6.000000</td>\n",
       "      <td>2019.0</td>\n",
       "      <td>23.000000</td>\n",
       "      <td>55.000000</td>\n",
       "      <td>23.000000</td>\n",
       "      <td>55.000000</td>\n",
       "      <td>2860.000000</td>\n",
       "    </tr>\n",
       "  </tbody>\n",
       "</table>\n",
       "</div>"
      ],
      "text/plain": [
       "        Total_Stops         Price          Date         Month     Year  \\\n",
       "count  10682.000000  10682.000000  10682.000000  10682.000000  10682.0   \n",
       "mean       0.824097   9086.292735     13.509081      4.708762   2019.0   \n",
       "std        0.675135   4610.885695      8.479363      1.164294      0.0   \n",
       "min        0.000000   1759.000000      1.000000      3.000000   2019.0   \n",
       "25%        0.000000   5277.000000      6.000000      3.000000   2019.0   \n",
       "50%        1.000000   8372.000000     12.000000      5.000000   2019.0   \n",
       "75%        1.000000  12373.000000     21.000000      6.000000   2019.0   \n",
       "max        4.000000  79512.000000     27.000000      6.000000   2019.0   \n",
       "\n",
       "         Arrival_hr   Arrival_min        Dep_hr       Dep_min  \\\n",
       "count  10682.000000  10682.000000  10682.000000  10682.000000   \n",
       "mean      13.348530     24.687793     12.490358     24.408819   \n",
       "std        6.859398     16.504203      5.748819     18.767225   \n",
       "min        0.000000      0.000000      0.000000      0.000000   \n",
       "25%        8.000000     10.000000      8.000000      5.000000   \n",
       "50%       14.000000     25.000000     11.000000     25.000000   \n",
       "75%       19.000000     35.000000     18.000000     40.000000   \n",
       "max       23.000000     55.000000     23.000000     55.000000   \n",
       "\n",
       "       Duration(in mins)  \n",
       "count       10682.000000  \n",
       "mean          643.152968  \n",
       "std           507.848241  \n",
       "min            75.000000  \n",
       "25%           170.000000  \n",
       "50%           520.000000  \n",
       "75%           930.000000  \n",
       "max          2860.000000  "
      ]
     },
     "execution_count": 62,
     "metadata": {},
     "output_type": "execute_result"
    }
   ],
   "source": [
    "df.describe()"
   ]
  },
  {
   "cell_type": "markdown",
   "id": "e8c710e6",
   "metadata": {},
   "source": [
    "# Exploratory Data Analysis"
   ]
  },
  {
   "cell_type": "markdown",
   "id": "f52857e1",
   "metadata": {},
   "source": [
    "## Effect of Price based on Airlines"
   ]
  },
  {
   "cell_type": "code",
   "execution_count": 63,
   "id": "050b2c38",
   "metadata": {
    "scrolled": false
   },
   "outputs": [
    {
     "data": {
      "image/png": "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\n",
      "text/plain": [
       "<Figure size 640x480 with 1 Axes>"
      ]
     },
     "metadata": {},
     "output_type": "display_data"
    }
   ],
   "source": [
    "plt.bar(df['Airline'],df['Price'])\n",
    "plt.xlabel(\"Airlines\")\n",
    "plt.ylabel(\"Price (in ₹)\")\n",
    "plt.title(\"Effect of Price based on Airlines\")\n",
    "plt.xticks(rotation=\"vertical\")\n",
    "\n",
    "plt.show()"
   ]
  },
  {
   "cell_type": "markdown",
   "id": "34a5fde4",
   "metadata": {},
   "source": [
    "#### Price of Jet Airways Business is significantly higher compared to other airlines. Since this is a Business Class airline, we can say that Price significatly depends on the type of Airline (Business or Economy)."
   ]
  },
  {
   "cell_type": "markdown",
   "id": "4bedcd52",
   "metadata": {},
   "source": [
    "## Effect of Price based on Source (City)"
   ]
  },
  {
   "cell_type": "code",
   "execution_count": 64,
   "id": "09bd1001",
   "metadata": {},
   "outputs": [
    {
     "data": {
      "image/png": "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\n",
      "text/plain": [
       "<Figure size 640x480 with 1 Axes>"
      ]
     },
     "metadata": {},
     "output_type": "display_data"
    }
   ],
   "source": [
    "sns.barplot(data=df,x='Source',y='Price')\n",
    "\n",
    "plt.xlabel(\"Source\")\n",
    "plt.ylabel(\"Price (in ₹)\")\n",
    "plt.title(\"Effect of Price based on Source\")\n",
    "\n",
    "plt.show()\n"
   ]
  },
  {
   "cell_type": "markdown",
   "id": "a21b1813",
   "metadata": {},
   "source": [
    "## Effect of Price based on Destination"
   ]
  },
  {
   "cell_type": "code",
   "execution_count": 65,
   "id": "b66897bc",
   "metadata": {},
   "outputs": [
    {
     "data": {
      "image/png": "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\n",
      "text/plain": [
       "<Figure size 640x480 with 1 Axes>"
      ]
     },
     "metadata": {},
     "output_type": "display_data"
    }
   ],
   "source": [
    "sns.barplot(data=df,x='Destination',y='Price')\n",
    "\n",
    "plt.xlabel(\"Destination\")\n",
    "plt.ylabel(\"Price (in ₹)\")\n",
    "plt.title(\"Effect of Price based on Destination\")\n",
    "\n",
    "plt.show()\n"
   ]
  },
  {
   "cell_type": "markdown",
   "id": "73f98d0e",
   "metadata": {},
   "source": [
    "#### The flight prices from Delhi are significantly higher compared to other cities. This may happen because Delhi is the capital of India. So flight prices depend on the source of flight."
   ]
  },
  {
   "cell_type": "markdown",
   "id": "8dcc5a03",
   "metadata": {},
   "source": [
    "## Effect of Price based on Total Stops"
   ]
  },
  {
   "cell_type": "code",
   "execution_count": 67,
   "id": "3a152abc",
   "metadata": {},
   "outputs": [
    {
     "data": {
      "image/png": "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\n",
      "text/plain": [
       "<Figure size 640x480 with 1 Axes>"
      ]
     },
     "metadata": {},
     "output_type": "display_data"
    }
   ],
   "source": [
    "sns.barplot(data=df,x='Total_Stops',y='Price')\n",
    "\n",
    "plt.xlabel(\"Total_Stops\")\n",
    "plt.ylabel(\"Price (in ₹)\")\n",
    "plt.title(\"Effect of Price based on Total_Stops\")\n",
    "\n",
    "plt.show()\n"
   ]
  },
  {
   "cell_type": "markdown",
   "id": "01304a33",
   "metadata": {},
   "source": [
    "#### Flight prices are highly correlated to the number of stops in the route of journey. More the number of stops, higher is the price."
   ]
  },
  {
   "cell_type": "code",
   "execution_count": 68,
   "id": "89f0f22b",
   "metadata": {
    "scrolled": false
   },
   "outputs": [
    {
     "data": {
      "text/plain": [
       "<AxesSubplot: >"
      ]
     },
     "execution_count": 68,
     "metadata": {},
     "output_type": "execute_result"
    },
    {
     "data": {
      "image/png": "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\n",
      "text/plain": [
       "<Figure size 2000x1000 with 2 Axes>"
      ]
     },
     "metadata": {},
     "output_type": "display_data"
    }
   ],
   "source": [
    "# Correlation\n",
    "plt.figure(figsize=(20,10))\n",
    "sns.heatmap(df.corr(),annot=True)"
   ]
  },
  {
   "cell_type": "markdown",
   "id": "f13198e0",
   "metadata": {},
   "source": [
    "## Effect of Price based on Additional Info provided"
   ]
  },
  {
   "cell_type": "code",
   "execution_count": 69,
   "id": "fbed2dda",
   "metadata": {},
   "outputs": [
    {
     "data": {
      "image/png": "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\n",
      "text/plain": [
       "<Figure size 640x480 with 1 Axes>"
      ]
     },
     "metadata": {},
     "output_type": "display_data"
    }
   ],
   "source": [
    "sns.barplot(data=df,x='Additional_Info',y='Price')\n",
    "\n",
    "plt.xlabel(\"Additional_Info\")\n",
    "plt.ylabel(\"Price (in ₹)\")\n",
    "plt.title(\"Effect of Price based on Additional_Info\")\n",
    "plt.xticks(rotation=\"vertical\")\n",
    "plt.show()\n"
   ]
  },
  {
   "cell_type": "markdown",
   "id": "2cbfc618",
   "metadata": {},
   "source": [
    "#### Flight price of Business Class is the highest."
   ]
  },
  {
   "cell_type": "markdown",
   "id": "0dc2f3df",
   "metadata": {},
   "source": [
    "## Effect of Price based on Arrival Time "
   ]
  },
  {
   "cell_type": "code",
   "execution_count": 70,
   "id": "2035e142",
   "metadata": {},
   "outputs": [
    {
     "data": {
      "image/png": "iVBORw0KGgoAAAANSUhEUgAAA2QAAAK9CAYAAABLrq+bAAAAOXRFWHRTb2Z0d2FyZQBNYXRwbG90bGliIHZlcnNpb24zLjYuMCwgaHR0cHM6Ly9tYXRwbG90bGliLm9yZy89olMNAAAACXBIWXMAAA9hAAAPYQGoP6dpAABp5ElEQVR4nO3dfXxP9f/H8efHro1txi4sNgu5ColicpllYxVRkSUXK99qZJSkIlG5KDESKaHim4viKwqLUJmraaEk+i6EXYRttrkYO78/fPf5+bRhq+1zxh732+1z6/M5533O63VmPn2ezjnvj8UwDEMAAAAAALurYHYDAAAAAFBeEcgAAAAAwCQEMgAAAAAwCYEMAAAAAExCIAMAAAAAkxDIAAAAAMAkBDIAAAAAMAmBDAAAAABMQiADAAAAAJMQyACghGVlZenxxx+Xv7+/LBaLYmJiJEkpKSl68MEHVbVqVVksFk2bNs3UPovjSsdUGn7//XdZLBbNnz+/1GoUxmKxaPDgwXat+U/Nnz9fFotFv//+u9mt2E2HDh3UoUOHUtv/3/n927hxoywWi5YtW1ZqfQG4cRHIAKAI8j/4XumxdetW69g33nhD8+fP11NPPaWPP/5Yffv2lSQNGzZMa9eu1ahRo/Txxx8rPDy8xPt84403tGLFilLZb2HHVJhatWrZ/Gx8fX3Vtm1bLV++vMT7Qtn18MMPy2KxaOTIkWa3AgBlmqPZDQDA9WTcuHEKDg4usLxOnTrW5xs2bFCrVq30yiuv2IzZsGGDunXrpueee67U+nvjjTf04IMPqnv37iW63ysd05XcdtttevbZZyVJx44d03vvvacePXpo1qxZevLJJ6+6bVBQkM6cOSMnJ6d/3DfMkZmZqS+++EK1atXSv//9b02cOFEWi6VE9r1u3boS2Q8AlBUEMgAohi5duqhFixZXHZOamqqGDRsWutzLy6uUOitdVzqmK7npppv06KOPWl8/9thjqlOnjqZOnXrFQHbhwgXl5eXJ2dlZrq6u/7hnmOezzz7TxYsX9eGHH+ruu+/W5s2b1b59+2tul52dLXd390LX5eTkqGLFinJ2di7pdk2Xf2wAyicuWQSAEpJ/H0lSUpJWr15tvWQv/3JHwzA0c+ZM6/J86enpiomJUc2aNeXi4qI6depo0qRJysvLs9l/Xl6eYmNj1bhxY7m6usrHx0fh4eHauXOnpEv3QGVnZ2vBggXWGv37979qz6mpqYqKipKfn59cXV3VtGlTLViw4JrHVNx7lvz9/dWgQQMlJSVJ+v/7dN566y1NmzZNtWvXlouLi37++ecr3sPzyy+/6OGHH5aPj4/c3NxUr149vfTSSzZjjh49qoEDB8rPz08uLi5q1KiRPvzww2L1unDhQtWrV0+urq5q3ry5Nm/ebLP+0KFDevrpp1WvXj25ubmpatWqeuihhwr8THJzc/Xqq6+qbt26cnV1VdWqVdWmTRvFxcUVOK4HH3xQ3t7ecnV1VYsWLbRy5coCff3000+6++675ebmpho1aui1114r8DtyNRs2bFDbtm3l7u4uLy8vdevWTfv27bMZM3bsWFksFh08eFD9+/eXl5eXPD09NWDAAOXk5BS51sKFC3XPPfeoY8eOatCggRYuXFhgTP7fi02bNunpp5+Wr6+vatSoIenSfWK33nqrEhIS1K5dO1WsWFEvvviidV3+PWQpKSlydHTUq6++WmD/+/fvl8Vi0TvvvCNJOnnypJ577jk1btxYlSpVkoeHh7p06aIff/yxyMd1LXl5eXr99ddVo0YNubq6qlOnTjp48KDNmKsdG4DyiTNkAFAMGRkZ+vPPP22WWSwWVa1aVQ0aNNDHH3+sYcOGqUaNGtZL9po1a2a97+qee+7RY489Zt02JydH7du319GjR/Wvf/1LgYGB2rJli0aNGqXjx4/bTPwRFRWl+fPnq0uXLnr88cd14cIFffvtt9q6datatGihjz/+WI8//rjuvPNODRo0SJJUu3btKx7LmTNn1KFDBx08eFCDBw9WcHCwli5dqv79+ys9PV1Dhw694jH5+PgU6+eWm5urI0eOqGrVqjbL582bp7Nnz2rQoEFycXGRt7d3oSFj9+7datu2rZycnDRo0CDVqlVLv/32m7744gu9/vrrki59OG/VqpV1cg4fHx999dVXioqKUmZmZpEmItm0aZMWL16sZ555Ri4uLnr33XcVHh6u7du369Zbb5Uk7dixQ1u2bFHv3r1Vo0YN/f7775o1a5Y6dOign3/+2XqmY+zYsZowYYL1zyQzM1M7d+7Url27dM8990i6FLLuuusu3XTTTXrhhRfk7u6uJUuWqHv37vrss8/0wAMPSJKSk5PVsWNHXbhwwTpuzpw5cnNzK9LP/+uvv1aXLl108803a+zYsTpz5oxmzJihu+66S7t27VKtWrVsxj/88MMKDg7WhAkTtGvXLn3wwQfy9fXVpEmTrlnr2LFj+uabb6zB/pFHHtHUqVP1zjvvFHp26+mnn5aPj4/GjBmj7Oxs6/ITJ06oS5cu6t27tx599FH5+fkV2NbPz0/t27fXkiVLClxOu3jxYjk4OOihhx6SJP33v//VihUr9NBDDyk4OFgpKSl677331L59e/38888KCAi45rFdy8SJE1WhQgU999xzysjI0OTJkxUZGalt27bZjCvKsQEoRwwAwDXNmzfPkFTow8XFxWZsUFCQERERUWAfkozo6GibZePHjzfc3d2NX3/91Wb5Cy+8YDg4OBiHDx82DMMwNmzYYEgynnnmmQL7zcvLsz53d3c3+vXrV6RjmjZtmiHJ+OSTT6zLzp8/b4SEhBiVKlUyMjMzr3lMhQkKCjI6d+5spKWlGWlpacaPP/5o9O7d25BkDBkyxDAMw0hKSjIkGR4eHkZqaqrN9vnr5s2bZ13Wrl07o3LlysahQ4eueOxRUVFG9erVjT///NNmTO/evQ1PT08jJyfnqn3n/3nu3LnTuuzQoUOGq6ur8cADD1iXFbaf+Ph4Q5Lx0UcfWZc1bdr0mj+zTp06GY0bNzbOnj1rc0ytW7c26tata10WExNjSDK2bdtmXZaammp4enoakoykpKSr1rntttsMX19f48SJE9ZlP/74o1GhQgXjsccesy575ZVXDEnGwIEDbbZ/4IEHjKpVq161Rr633nrLcHNzs/7+/Prrr4YkY/ny5Tbj8v9OtWnTxrhw4YLNuvbt2xuSjNmzZxfYf/v27Y327dtbX7/33nuGJGPPnj024xo2bGjcfffd1tdnz541Ll68aDMmKSnJcHFxMcaNG2ez7K+/f9fyzTffGJKMBg0aGOfOnbMuj42NLdDb1Y4NQPnEJYsAUAwzZ85UXFyczeOrr7762/tbunSp2rZtqypVqujPP/+0PkJDQ3Xx4kXr5XKfffaZLBZLoZNq/N3JEr788kv5+/vrkUcesS5zcnLSM888o6ysLG3atOnvHZQuTbzg4+MjHx8fNW3aVEuXLlXfvn0LnGHp2bPnNc+2paWlafPmzRo4cKACAwNt1uUfu2EY+uyzz3TffffJMAybn2VYWJgyMjK0a9eua/YdEhKi5s2bW18HBgaqW7duWrt2rS5evChJNmelcnNzdeLECdWpU0deXl42Nby8vPTTTz/pwIEDhdY6efKkNmzYoIcfflinT5+29nvixAmFhYXpwIEDOnr0qKRLf1atWrXSnXfead3ex8dHkZGR1zym48ePKzExUf3795e3t7d1eZMmTXTPPffoyy+/LLDNX+/za9u2rU6cOKHMzMxr1lu4cKEiIiJUuXJlSVLdunXVvHnzQi9blKQnnnhCDg4OBZa7uLhowIAB16zXo0cPOTo6avHixdZle/fu1c8//6xevXrZ7K9ChUsfey5evKgTJ06oUqVKqlevXpF+N4piwIABNmcB27ZtK+nS2bnLFfXYAJQPXLIIAMVw5513XnNSj+I4cOCAdu/efcVQkpqaKkn67bffFBAQYPOB+p86dOiQ6tata/2Qmq9BgwbW9X9Xy5Yt9dprr8lisahixYpq0KBBoROaFDZj5V/lf5jNv2SwMGlpaUpPT9ecOXM0Z86cQsfk/yyvpm7dugWW3XLLLcrJyVFaWpr8/f115swZTZgwQfPmzdPRo0dlGIZ1bEZGhvX5uHHj1K1bN91yyy269dZbFR4err59+6pJkyaSpIMHD8owDI0ePVqjR4++Ys833XSTDh06pJYtWxZYX69evWseU/6fY2FjGzRooLVr1xaYTOOvwbdKlSqSpFOnTsnDw+OKtfbt26cffvhBjz32mM29Ux06dNDMmTOVmZlZYPsr/Q7cdNNNRZrAo1q1aurUqZOWLFmi8ePHS7p0uaKjo6N69OhhHZd/D+a7776rpKQka8CWVOBS2r/raj+3yxX12ACUDwQyADBRXl6e7rnnHj3//POFrr/lllvs3FHJqFatmkJDQ685rqj3QF1L/n1njz76qPr161fomPwg9E8NGTJE8+bNU0xMjEJCQuTp6SmLxaLevXvb3P/Wrl07/fbbb/rPf/6jdevW6YMPPtDUqVM1e/ZsPf7449axzz33nMLCwgqtdfnXKdhTYWesJNmEz8J88sknki59596wYcMKrP/ss88KnBm60u9AcX43evfurQEDBigxMVG33XablixZok6dOqlatWrWMW+88YZGjx6tgQMHavz48fL29laFChUUExNTrMlRrqaoP7eS+r0HcGMgkAGAiWrXrq2srKxrhpfatWtr7dq1Onny5FXPkhXn8sWgoCDt3r1beXl5NmfJfvnlF+v6suDmm2+WdOkytCvx8fFR5cqVdfHixSIFwSsp7PLCX3/9VRUrVrSexVy2bJn69eunKVOmWMecPXtW6enpBbb19vbWgAEDNGDAAGVlZaldu3YaO3asHn/8cetxOTk5XbPnoKCgQnvbv3//NY8p/8+xsLG//PKLqlWrdsWp5ovDMAwtWrRIHTt21NNPP11g/fjx47Vw4cJSuVSve/fu+te//mW9bPHXX3/VqFGjbMYsW7ZMHTt21Ny5c22Wp6en2wQ3ALA37iEDABM9/PDDio+P19q1awusS09P14ULFyRdutfKMIxCp/e+/F/f3d3dCw0GhenatauSk5Nt7r25cOGCZsyYoUqVKhXpe6PswcfHR+3atdOHH36ow4cP26zLP3YHBwf17NlTn332WaHBLS0trUi14uPjbe4nOnLkiP7zn/+oc+fO1rMfDg4OBc54zJgxw+YSOOnSTHqXq1SpkurUqaNz585Jknx9fdWhQwe99957On78+FV77tq1q7Zu3art27fbrL/SfVmXq169um677TYtWLDA5ndj7969Wrdunbp27XrNfRTF999/r99//10DBgzQgw8+WODRq1cvffPNNzp27FiJ1Lucl5eXwsLCtGTJEn366adydnYu8OXohf25LV261HqfHgCYhTNkAFAMX331lfUM0uVat25tPeNRHCNGjNDKlSt17733qn///mrevLmys7O1Z88eLVu2TL///ruqVaumjh07qm/fvpo+fboOHDig8PBw5eXl6dtvv1XHjh01ePBgSVLz5s319ddf6+2331ZAQICCg4MLvfdIkgYNGqT33ntP/fv3V0JCgmrVqqVly5bp+++/17Rp06yTMpQF06dPV5s2bXT77bdr0KBBCg4O1u+//67Vq1crMTFR0qUpx7/55hu1bNlSTzzxhBo2bKiTJ09q165d+vrrr3Xy5Mlr1rn11lsVFhZmM+29JJsgfO+99+rjjz+Wp6enGjZsqPj4eH399dcF7kNq2LChOnTooObNm8vb21s7d+7UsmXLrH9W0qVJYtq0aaPGjRvriSee0M0336yUlBTFx8frjz/+sH5H1vPPP6+PP/5Y4eHhGjp0qHXa+/yznNfy5ptvqkuXLgoJCVFUVJR12ntPT0+NHTv2mtsXxcKFC+Xg4KCIiIhC199///166aWX9Omnn2r48OElUvNyvXr10qOPPqp3331XYWFhBe5ZvPfeezVu3DgNGDBArVu31p49e7Rw4cK/9fcWAEoSgQwAimHMmDGFLp83b97f+mBXsWJFbdq0SW+88YaWLl2qjz76SB4eHrrlllv06quvytPT06ZGkyZNNHfuXI0YMUKenp5q0aKFWrdubR3z9ttva9CgQXr55Zd15swZ9evX74qBzM3NTRs3btQLL7ygBQsWKDMzU/Xq1dO8efOu+YXS9ta0aVNt3bpVo0eP1qxZs3T27FkFBQXp4Ycfto7x8/PT9u3bNW7cOH3++ed69913VbVqVTVq1KhI358lSe3bt1dISIheffVVHT58WA0bNtT8+fNt7j+LjY2Vg4ODFi5cqLNnz+quu+7S119/XeA+sGeeeUYrV67UunXrdO7cOQUFBem1117TiBEjrGMaNmyonTt36tVXX9X8+fN14sQJ+fr6qlmzZja/a9WrV9c333yjIUOGaOLEiapataqefPJJBQQEKCoq6prHFRoaqjVr1uiVV17RmDFj5OTkpPbt22vSpElFmljlWnJzc7V06VK1bt36ipfU3nrrrQoODtYnn3xSKoHs/vvvl5ubm06fPm0zu2K+F198UdnZ2Vq0aJEWL16s22+/XatXr9YLL7xQ4r0AQHFYjGvdoQsAAAAAKBXcQwYAAAAAJuGSRQAAgEKcP3/+mvceenp6Mo09gH+EQAYAAFCILVu2qGPHjlcdUxbvuQRwfeEeMgAAgEKcOnVKCQkJVx3TqFEjVa9e3U4dAbgREcgAAAAAwCRM6gEAAAAAJuEeshKSl5enY8eOqXLlyrJYLGa3AwAAAMAkhmHo9OnTCggIUIUKVz8HRiArIceOHVPNmjXNbgMAAABAGXHkyBHVqFHjqmMIZCWkcuXKki790D08PEzuBgAAAIBZMjMzVbNmTWtGuBoCWQnJv0zRw8ODQAYAAACgSLcyMakHAAAAAJiEQAYAAAAAJiGQAQAAAIBJCGQAAAAAYBICGQAAAACYhEAGAAAAACYhkAEAAACASQhkAAAAAGASAhkAAAAAmIRABgAAAAAmIZABAAAAgEkIZAAAAABgEgIZAAAAAJiEQAYAAAAAJiGQAQAAAIBJCGQAAAAAYBICGQAAAACYhEAGAAAAACYhkAEAAACASQhkAAAAAGASAhkAAAAAmIRABgAAAAAmIZABAAAAgEkIZAAAAABgEkezGwBQNgwdOlRpaWmSJB8fH8XGxprcEQAAwI2PQAZAkpSWlqaUlBSz2wAAAChXuGQRAAAAAExCIAMAAAAAkxDIAAAAAMAkBDIAAAAAMAmBDAAAAABMQiADAAAAAJMQyAAAAADAJAQyAAAAADAJgQwAAAAATEIgAwAAAACTEMgAAAAAwCQEMgAAAAAwCYEMAAAAAExCIAMAAAAAkxDIAAAAAMAkBDIAAAAAMAmBDAAAAABMQiADAAAAAJMQyAAAAADAJAQyAAAAADAJgQwAAAAATEIgAwAAAACTEMgAAAAAwCQEMgAAAAAwCYEMAAAAAExCIAMAAAAAkxDIAAAAAMAkBDIAAAAAMAmBDAAAAABMQiADAAAAAJOYGsg2b96s++67TwEBAbJYLFqxYkWBMfv27dP9998vT09Pubu764477tDhw4et68+ePavo6GhVrVpVlSpVUs+ePZWSkmKzj8OHDysiIkIVK1aUr6+vRowYoQsXLtiM2bhxo26//Xa5uLioTp06mj9/fmkcMgAAAABYmRrIsrOz1bRpU82cObPQ9b/99pvatGmj+vXra+PGjdq9e7dGjx4tV1dX65hhw4bpiy++0NKlS7Vp0yYdO3ZMPXr0sK6/ePGiIiIidP78eW3ZskULFizQ/PnzNWbMGOuYpKQkRUREqGPHjkpMTFRMTIwef/xxrV27tvQOHgAAAEC5ZzEMwzC7CUmyWCxavny5unfvbl3Wu3dvOTk56eOPPy50m4yMDPn4+GjRokV68MEHJUm//PKLGjRooPj4eLVq1UpfffWV7r33Xh07dkx+fn6SpNmzZ2vkyJFKS0uTs7OzRo4cqdWrV2vv3r02tdPT07VmzZoi9Z+ZmSlPT09lZGTIw8Pjb/4UAPP06dPHenbZz89PixYtMrkjAACA61NxskGZvYcsLy9Pq1ev1i233KKwsDD5+vqqZcuWNpc1JiQkKDc3V6GhodZl9evXV2BgoOLj4yVJ8fHxaty4sTWMSVJYWJgyMzP1008/Wcdcvo/8Mfn7KMy5c+eUmZlp8wAAAACA4iizgSw1NVVZWVmaOHGiwsPDtW7dOj3wwAPq0aOHNm3aJElKTk6Ws7OzvLy8bLb18/NTcnKydczlYSx/ff66q43JzMzUmTNnCu1vwoQJ8vT0tD5q1qz5j48ZAAAAQPlSZgNZXl6eJKlbt24aNmyYbrvtNr3wwgu69957NXv2bJO7k0aNGqWMjAzr48iRI2a3BAAAAOA6U2YDWbVq1eTo6KiGDRvaLG/QoIF1lkV/f3+dP39e6enpNmNSUlLk7+9vHfPXWRfzX19rjIeHh9zc3Artz8XFRR4eHjYPAAAAACiOMhvInJ2ddccdd2j//v02y3/99VcFBQVJkpo3by4nJyetX7/eun7//v06fPiwQkJCJEkhISHas2ePUlNTrWPi4uLk4eFhDXshISE2+8gfk78PAAAAACgNjmYWz8rK0sGDB62vk5KSlJiYKG9vbwUGBmrEiBHq1auX2rVrp44dO2rNmjX64osvtHHjRkmSp6enoqKiNHz4cHl7e8vDw0NDhgxRSEiIWrVqJUnq3LmzGjZsqL59+2ry5MlKTk7Wyy+/rOjoaLm4uEiSnnzySb3zzjt6/vnnNXDgQG3YsEFLlizR6tWr7f4zAQAAAFB+mBrIdu7cqY4dO1pfDx8+XJLUr18/zZ8/Xw888IBmz56tCRMm6JlnnlG9evX02WefqU2bNtZtpk6dqgoVKqhnz546d+6cwsLC9O6771rXOzg4aNWqVXrqqacUEhIid3d39evXT+PGjbOOCQ4O1urVqzVs2DDFxsaqRo0a+uCDDxQWFmaHnwIAAACA8qrMfA/Z9Y7vIcP1ju8hAwAAKBk3xPeQAQAAAMCNjkAGAAAAACYhkAEAAACASQhkAAAAAGASAhkAAAAAmIRABgAAAAAmIZABAAAAgEkIZAAAAABgEgIZAAAAAJiEQAYAAAAAJiGQAQAAAIBJCGQAAAAAYBICGQAAAACYhEAGAAAAACYhkAEAAACASRzNbgBA6Vk8L7zIY7Ozci97nlKsbXsNWFOsvgAAAHAJZ8gAAAAAwCQEMgAAAAAwCYEMAAAAAExCIAMAAAAAkxDIAAAAAMAkBDIAAAAAMAmBDAAAAABMQiADAAAAAJMQyAAAAADAJAQyAAAAADAJgQwAAAAATEIgAwAAAACTEMgAAAAAwCQEMgAAAAAwCYEMAAAAAExCIAMAAAAAkxDIAAAAAMAkBDIAAAAAMAmBDAAAAABMQiADAAAAAJMQyAAAAADAJAQyAAAAADAJgQwAAAAATEIgAwAAAACTEMgAAAAAwCQEMgAAAAAwCYEMAAAAAExCIAMAAAAAkxDIAAAAAMAkBDIAAAAAMAmBDAAAAABMQiADAAAAAJMQyAAAAADAJAQyAAAAADAJgQwAAAAATEIgAwAAAACTEMgAAAAAwCQEMgAAAAAwCYEMAAAAAExCIAMAAAAAkxDIAAAAAMAkBDIAAAAAMImpgWzz5s267777FBAQIIvFohUrVlxx7JNPPimLxaJp06bZLD958qQiIyPl4eEhLy8vRUVFKSsry2bM7t271bZtW7m6uqpmzZqaPHlygf0vXbpU9evXl6urqxo3bqwvv/yyJA4RAAAAAK7I1ECWnZ2tpk2baubMmVcdt3z5cm3dulUBAQEF1kVGRuqnn35SXFycVq1apc2bN2vQoEHW9ZmZmercubOCgoKUkJCgN998U2PHjtWcOXOsY7Zs2aJHHnlEUVFR+uGHH9S9e3d1795de/fuLbmDBQAAAIC/cDSzeJcuXdSlS5erjjl69KiGDBmitWvXKiIiwmbdvn37tGbNGu3YsUMtWrSQJM2YMUNdu3bVW2+9pYCAAC1cuFDnz5/Xhx9+KGdnZzVq1EiJiYl6++23rcEtNjZW4eHhGjFihCRp/PjxiouL0zvvvKPZs2eXwpEDAAAAQBm/hywvL099+/bViBEj1KhRowLr4+Pj5eXlZQ1jkhQaGqoKFSpo27Zt1jHt2rWTs7OzdUxYWJj279+vU6dOWceEhoba7DssLEzx8fFX7O3cuXPKzMy0eQDXM/eKFlVylyq5X3oOAACA0mfqGbJrmTRpkhwdHfXMM88Uuj45OVm+vr42yxwdHeXt7a3k5GTrmODgYJsxfn5+1nVVqlRRcnKyddnlY/L3UZgJEybo1VdfLfYxAWVVt7Ay/XYAAABwQyqzZ8gSEhIUGxur+fPny2Ipe/9aP2rUKGVkZFgfR44cMbslAAAAANeZMhvIvv32W6WmpiowMFCOjo5ydHTUoUOH9Oyzz6pWrVqSJH9/f6Wmptpsd+HCBZ08eVL+/v7WMSkpKTZj8l9fa0z++sK4uLjIw8PD5gEAAAAAxVFmA1nfvn21e/duJSYmWh8BAQEaMWKE1q5dK0kKCQlRenq6EhISrNtt2LBBeXl5atmypXXM5s2blZubax0TFxenevXqqUqVKtYx69evt6kfFxenkJCQ0j5MAAAAAOWYqTeNZGVl6eDBg9bXSUlJSkxMlLe3twIDA1W1alWb8U5OTvL391e9evUkSQ0aNFB4eLieeOIJzZ49W7m5uRo8eLB69+5tnSK/T58+evXVVxUVFaWRI0dq7969io2N1dSpU637HTp0qNq3b68pU6YoIiJCn376qXbu3GkzNT4AAAAAlDRTz5Dt3LlTzZo1U7NmzSRJw4cPV7NmzTRmzJgi72PhwoWqX7++OnXqpK5du6pNmzY2QcrT01Pr1q1TUlKSmjdvrmeffVZjxoyx+a6y1q1ba9GiRZozZ46aNm2qZcuWacWKFbr11ltL7mABAAAA4C8shmEYZjdxI8jMzJSnp6cyMjK4nwxlxuJ54Xap02vAGrvUAQAAuB4UJxuU2XvIAAAAAOBGRyADAAAAAJMQyAAAAADAJAQyAAAAADAJgQwAAAAATEIgAwAAAACTEMgAAAAAwCQEMgAAAAAwCYEMAAAAAExCIAMAAAAAkxDIAAAAAMAkBDIAAAAAMAmBDAAAAABMQiADAAAAAJMQyAAAAADAJAQyAAAAADAJgQwAAAAATEIgAwAAAACTEMgAAAAAwCQEMgAAAAAwCYEMAAAAAExCIAMAAAAAkxDIAAAAAMAkBDIAAAAAMAmBDAAAAABMQiADAAAAAJMQyAAAAADAJAQyAAAAADAJgQwAAAAATEIgAwAAAACTEMgAAAAAwCQEMgAAAAAwCYEMAAAAAExCIAMAAAAAkxDIAAAAAMAkBDIAAAAAMAmBDAAAAABMQiADAAAAAJMQyAAAAADAJAQyAAAAADAJgQwAAAAATEIgAwAAAACTEMgAAAAAwCQEMgAAAAAwCYEMAAAAAExCIAMAAAAAkxDIAAAAAMAkBDIAAAAAMAmBDAAAAABMQiADAAAAAJMQyAAAAADAJAQyAAAAADAJgQwAAAAATEIgAwAAAACTEMgAAAAAwCQEMgAAAAAwCYEMAAAAAExCIAMAAAAAk5gayDZv3qz77rtPAQEBslgsWrFihXVdbm6uRo4cqcaNG8vd3V0BAQF67LHHdOzYMZt9nDx5UpGRkfLw8JCXl5eioqKUlZVlM2b37t1q27atXF1dVbNmTU2ePLlAL0uXLlX9+vXl6uqqxo0b68svvyyVYwYAAACAfKYGsuzsbDVt2lQzZ84ssC4nJ0e7du3S6NGjtWvXLn3++efav3+/7r//fptxkZGR+umnnxQXF6dVq1Zp8+bNGjRokHV9ZmamOnfurKCgICUkJOjNN9/U2LFjNWfOHOuYLVu26JFHHlFUVJR++OEHde/eXd27d9fevXtL7+ABAAAAlHsWwzAMs5uQJIvFouXLl6t79+5XHLNjxw7deeedOnTokAIDA7Vv3z41bNhQO3bsUIsWLSRJa9asUdeuXfXHH38oICBAs2bN0ksvvaTk5GQ5OztLkl544QWtWLFCv/zyiySpV69eys7O1qpVq6y1WrVqpdtuu02zZ88uUv+ZmZny9PRURkaGPDw8/uZPAShZi+eF26VOrwFr7FIHAADgelCcbHBd3UOWkZEhi8UiLy8vSVJ8fLy8vLysYUySQkNDVaFCBW3bts06pl27dtYwJklhYWHav3+/Tp06ZR0TGhpqUyssLEzx8fFX7OXcuXPKzMy0eQAAAABAcVw3gezs2bMaOXKkHnnkEWvKTE5Olq+vr804R0dHeXt7Kzk52TrGz8/PZkz+62uNyV9fmAkTJsjT09P6qFmz5j87QAAAAADlznURyHJzc/Xwww/LMAzNmjXL7HYkSaNGjVJGRob1ceTIEbNbAgAAAHCdcTS7gWvJD2OHDh3Shg0bbK7B9Pf3V2pqqs34Cxcu6OTJk/L397eOSUlJsRmT//paY/LXF8bFxUUuLi5//8AAAAAAlHtl+gxZfhg7cOCAvv76a1WtWtVmfUhIiNLT05WQkGBdtmHDBuXl5ally5bWMZs3b1Zubq51TFxcnOrVq6cqVapYx6xfv95m33FxcQoJCSmtQwMAAAAAcwNZVlaWEhMTlZiYKElKSkpSYmKiDh8+rNzcXD344IPauXOnFi5cqIsXLyo5OVnJyck6f/68JKlBgwYKDw/XE088oe3bt+v777/X4MGD1bt3bwUEBEiS+vTpI2dnZ0VFRemnn37S4sWLFRsbq+HDh1v7GDp0qNasWaMpU6bol19+0dixY7Vz504NHjzY7j8TAAAAAOWHqdPeb9y4UR07diywvF+/fho7dqyCg4ML3e6bb75Rhw4dJF36YujBgwfriy++UIUKFdSzZ09Nnz5dlSpVso7fvXu3oqOjtWPHDlWrVk1DhgzRyJEjbfa5dOlSvfzyy/r9999Vt25dTZ48WV27di3ysTDtPcoipr0HAACwv+JkgzLzPWTXOwIZ/qmhQ4cqLS1NkuTj46PY2Nh/vE8CGQAAgP0VJxuU+Uk9gPIiLS2twOQyAAAAuLGV6Uk9AAAAAOBGRiADAAAAAJMQyAAAAADAJAQyAAAAADAJgQwAAAAATEIgAwAAAACTEMgAAAAAwCQEMgAAAAAwCYEMAAAAAExCIAMAAAAAkzia3QBwI1s7t2uRx57JOnfZ85RibRsW9WWx+gIAAEDZwBkyAAAAADAJgQwAAAAATEIgAwAAAACTEMgAAAAAwCQEMgAAAAAwCYEMAAAAAExCIAMAAAAAkxDIAAAAAMAkfDE0AAAA8D9Dhw5VWlqaJMnHx0exsbEmd4QbHYEMAAAA+J+0tDSlpKSY3QbKEQIZUEZUrmiRZFz2HAAAADc6AhlQRkTe42x2CwAAALAzJvUAAAAAAJMQyAAAAADAJAQyAAAAADAJ95ABAACgzGDaeZQ3BDIAAACUGUw7j/KGQAYAAIAb2o55qUUeey7ros3z4mx7xwDfYvUFSNxDBgAAAACmIZABAAAAgEkIZAAAAABgEgIZAAAAAJiEQAYAAAAAJiGQAQAAAIBJmPYeAAAA+B/PilULfQ6UFgIZAAAA8D9PhY01uwWUM1yyCAAAAAAmIZABAAAAgEkIZAAAAABgEgIZAAAAAJiEST0AAABQqr5a/GeRx57JzrN5Xpxtu/SqVqy+gLKAM2QAAAAAYBICGQAAAACYhEAGAAAAACYhkAEAAACASQhkAAAAAGASAhkAAAAAmIRABgAAAAAmIZABAAAAgEkIZAAAAABgEgIZAAAAAJiEQAYAAAAAJiGQAQAAAIBJHM1uAAAAAMhX2d270OfAjYpABgAAgDLjkW7jzG4BsCsuWQQAAAAAkxDIAAAAAMAkpgayzZs367777lNAQIAsFotWrFhhs94wDI0ZM0bVq1eXm5ubQkNDdeDAAZsxJ0+eVGRkpDw8POTl5aWoqChlZWXZjNm9e7fatm0rV1dX1axZU5MnTy7Qy9KlS1W/fn25urqqcePG+vLLL0v8eMuyoUOHqk+fPurTp4+GDh1qdjsAAABAuWBqIMvOzlbTpk01c+bMQtdPnjxZ06dP1+zZs7Vt2za5u7srLCxMZ8+etY6JjIzUTz/9pLi4OK1atUqbN2/WoEGDrOszMzPVuXNnBQUFKSEhQW+++abGjh2rOXPmWMds2bJFjzzyiKKiovTDDz+oe/fu6t69u/bu3Vt6B1/GpKWlKSUlRSkpKUpLSzO7HQAAAKBcMHVSjy5duqhLly6FrjMMQ9OmTdPLL7+sbt26SZI++ugj+fn5acWKFerdu7f27dunNWvWaMeOHWrRooUkacaMGerataveeustBQQEaOHChTp//rw+/PBDOTs7q1GjRkpMTNTbb79tDW6xsbEKDw/XiBEjJEnjx49XXFyc3nnnHc2ePbvQ/s6dO6dz585ZX2dmZpbYzwUAAABA+VBm7yFLSkpScnKyQkNDrcs8PT3VsmVLxcfHS5Li4+Pl5eVlDWOSFBoaqgoVKmjbtm3WMe3atZOzs7N1TFhYmPbv369Tp05Zx1xeJ39Mfp3CTJgwQZ6entZHzZo1//lBAwDKNS4fB4Dyp8wGsuTkZEmSn5+fzXI/Pz/ruuTkZPn6+tqsd3R0lLe3t82YwvZxeY0rjclfX5hRo0YpIyPD+jhy5EhxDxEAABtcPg4A5Q/fQ/Y3ubi4yMXFxew2AAAAAFzHihXI8vLytGnTJn377bc6dOiQcnJy5OPjo2bNmik0NLREL9vz9/eXJKWkpKh69erW5SkpKbrtttusY1JTU222u3Dhgk6ePGnd3t/fXykpKTZj8l9fa0z+egAAAAAoDUW6ZPHMmTN67bXXVLNmTXXt2lVfffWV0tPT5eDgoIMHD+qVV15RcHCwunbtqq1bt5ZIY8HBwfL399f69eutyzIzM7Vt2zaFhIRIkkJCQpSenq6EhATrmA0bNigvL08tW7a0jtm8ebNyc3OtY+Li4lSvXj1VqVLFOubyOvlj8usAAAAAQGko0hmyW265RSEhIXr//fd1zz33yMnJqcCYQ4cOadGiRerdu7deeuklPfHEE9fcb1ZWlg4ePGh9nZSUpMTERHl7eyswMFAxMTF67bXXVLduXQUHB2v06NEKCAhQ9+7dJUkNGjRQeHi4nnjiCc2ePVu5ubkaPHiwevfurYCAAElSnz599OqrryoqKkojR47U3r17FRsbq6lTp1rrDh06VO3bt9eUKVMUERGhTz/9VDt37rSZGh8AAAAASlqRAtm6devUoEGDq44JCgrSqFGj9Nxzz+nw4cNFKr5z50517NjR+nr48OGSpH79+mn+/Pl6/vnnlZ2drUGDBik9PV1t2rTRmjVr5Orqat1m4cKFGjx4sDp16qQKFSqoZ8+emj59unW9p6en1q1bp+joaDVv3lzVqlXTmDFjbL6rrHXr1lq0aJFefvllvfjii6pbt65WrFihW2+9tUjHAQAAAAB/R5EC2bXC2OWcnJxUu3btIo3t0KGDDMO44nqLxaJx48Zp3LhxVxzj7e2tRYsWXbVOkyZN9O233151zEMPPaSHHnro6g0DAIAb2tChQ60zXPr4+Cg2NtbkjgDc6Io87f1LL71k898rycvL+2cdAQAAmISvHgBgb0UOZMuXL7f5718dPXpUMTExNpcCAgAAoOj4cnCg/ClyIMvLy9OUKVN05MgRPfjgg1qyZIkk6cSJE3r66adVu3Zt/ec//1HXrl1LrVkAAIAbGWfogPKnyN9DduLECY0ePVoODg46duyY+vTpoz179uijjz6Sq6ur3n//ffXp00cODg6l2S8AANeVe5ctLPLYsznZ1uepOdnF2nbVg5HF6gsAUDYU64uh161bp0GDBmnLli365JNP9Nhjj6l379766KOP5OhYrF3BDlJmvVnksRdPZ9g8L862fk+NKFZfAAAAAC4pcory8PBQmzZtrLMi9urVS/369dOzzz5LGAOAGwCzywEAYH9FTlLOzs42r52cnFShQgVVrly5xJsCANhf/r0rAADAfoo8qcdrr71m819J+vDDD1W9evWS7woAAAAAyoEinyHr2bOnzX8lqW/fviXfEQAAAACUE0U+QwYAAAAAKFnMxgEAAAAA/2PvSa4IZAAAAADwP/ae5IpLFgEAAADAJH/rDFleXp4OHjyo1NRU5eXl2axr165diTQGAAAAADe6YgeyrVu3qk+fPjp06JD1S6LzWSwWXbx4scSaAwCgPLG4Vyz0OQDgxlXsQPbkk0+qRYsWWr16tapXry6LxVIafQEAUO64PHCv2S0AAOys2IHswIEDWrZsmerUqVMa/QAAAABAuVHsST1atmypgwcPlkYvAAAAAFCuFPsM2ZAhQ/Tss88qOTlZjRs3lpOTk836Jk2alFhzAAAA17tnlh8p8tiTORdsnhdn2+kP1CxWXwDKhmIHsp49e0qSBg4caF1msVhkGAaTelzHvN1cC30OAAAAoPQUO5AlJSWVRh8w2diOrcxuAUAp6Lri2SKPPZdz0vo8Jedksbb9svuUYvUFAAAuKXYgCwoKKo0+AAAAAKDcKVIgW7lypbp06SInJyetXLnyqmPvv//+EmkMAAAAAG50RQpk3bt3V3Jysnx9fdW9e/crjuMeMgAAAAAouiIFsry8vEKfAwAAAAD+vmLfQwYAAADgxjV06FClpaVJknx8fBQbG2tyRze2In0x9KefflrkHR45ckTff//9324IAAAAgHnS0tKUkpKilJQUazBD6SlSIJs1a5YaNGigyZMna9++fQXWZ2Rk6Msvv1SfPn10++2368SJEyXeKAAAAADcaIp0yeKmTZu0cuVKzZgxQ6NGjZK7u7v8/Pzk6uqqU6dOKTk5WdWqVVP//v21d+9e+fn5lXbfAAAAAHDdK/I9ZPfff7/uv/9+/fnnn/ruu+906NAhnTlzRtWqVVOzZs3UrFkzVahQpBNuAAAAdvPgZ7uKPDYj57z1eVrO+WJtu6zn7cXqC4D9pL7zVZHHXjx9xuZ5cbb1HdylWH1Jf2NSj2rVql116nsAAAAAQNFwSgsAAAAATEIgAwAAAACTEMgAAAAAwCR8MTQAQJJkqeQs47LnAOzPqZJ3oc8B3Lj+diA7f/68kpKSVLt2bTk6kusA4Hrn/GBds1sAyr3gni+Z3QJMNnToUOuXMfv4+Cg2NtbkjlDain3JYk5OjqKiolSxYkU1atRIhw8fliQNGTJEEydOLPEGAQAAgPIiLS1NKSkpSklJsQYz3NiKHchGjRqlH3/8URs3bpSrq6t1eWhoqBYvXlyizQEAAADAjazY1xquWLFCixcvVqtWrWSxWKzLGzVqpN9++61EmwMAAADwzyVP+aXIYy9m5to8L+q2/s/WL3Zf+BtnyNLS0uTr61tgeXZ2tk1AAwAAAABcXbEDWYsWLbR69Wrr6/wQ9sEHHygkJKTkOgMAAACAG1yxL1l844031KVLF/3888+6cOGCYmNj9fPPP2vLli3atGlTafQIACgHmFkMAFAeFfsMWZs2bZSYmKgLFy6ocePGWrdunXx9fRUfH6/mzZuXRo8AgHKAmcUAAOXR3/oCsdq1a+v9998v6V4AAAAAoFwpdiD78ssv5eDgoLCwMJvla9euVV5enrp06VJizQFAecIlewAAmK+qa+VCn5eWYgeyF154odAvgDYMQy+88AKBDAD+pvxL9gAAgHnGtn/ErvWKfQ/ZgQMH1LBhwwLL69evr4MHD5ZIUwAAAABQHhQ7kHl6euq///1vgeUHDx6Uu7t7iTQFAAAAAOVBsQNZt27dFBMTo99++8267ODBg3r22Wd1//33l2hzAAAAAHAjK/Y9ZJMnT1Z4eLjq16+vGjVqSJL++OMPtW3bVm+99VaJNwgA9sCEGgAAwAzFDmSenp7asmWL4uLi9OOPP8rNzU1NmjRRu3btSqM/ALALJtQAAOASb1evQp+jdPyt7yGzWCzq3LmzOnfuXNL9AAAAADDRKyHPmt1CuVKkQDZ9+nQNGjRIrq6umj59+lXHPvPMMyXSGAAAAHAj+H1acpHHXsi8aPO8ONvWivEvVl8oG4oUyKZOnarIyEi5urpq6tSpVxxnsVgIZAAAAABQREUKZElJSYU+BwDgRsLkLgAAeyvWtPe5ubmqXbu29u3bV1r9AABgmvzJXVJSUqzBDACA0lSsQObk5KSzZ8+WVi8AAAAAUK4Ue5bF6OhoTZo0SR988IEcHf/WJI0AgHIiYvmbRR57NifD+jwlJ6NY265+YESx+kLhuGRTsrh7Wv+12uLuaWovAMqHYp0hk6QdO3bo888/V2BgoMLCwtSjRw+bR0m6ePGiRo8ereDgYLm5ual27doaP368DMOwjjEMQ2PGjFH16tXl5uam0NBQHThwwGY/J0+eVGRkpDw8POTl5aWoqChlZWXZjNm9e7fatm0rV1dX1axZU5MnTy7RYwEAoKzjkk3Jo0e0PPu+KM++L8qjR7TZ7QAoB4p9isvLy0s9e/YsjV4KmDRpkmbNmqUFCxaoUaNG2rlzpwYMGCBPT0/rbI6TJ0/W9OnTtWDBAgUHB2v06NEKCwvTzz//LFdXV0lSZGSkjh8/rri4OOXm5mrAgAEaNGiQFi1aJEnKzMxU586dFRoaqtmzZ2vPnj0aOHCgvLy8NGjQILscKwAAAIDyp9iBbN68eaXRR6G2bNmibt26KSIiQpJUq1Yt/fvf/9b27dslXTo7Nm3aNL388svq1q2bJOmjjz6Sn5+fVqxYod69e2vfvn1as2aNduzYoRYtWkiSZsyYoa5du+qtt95SQECAFi5cqPPnz+vDDz+Us7OzGjVqpMTERL399ttXDGTnzp3TuXPnrK8zMzNL80cB4Do1YHl4kcf+mZN72fOUYm0774E1xeoLAACUDUW+ZDEvL0+TJk3SXXfdpTvuuEMvvPCCzpw5U5q9qXXr1lq/fr1+/fVXSdKPP/6o7777Tl26dJF0aQr+5ORkhYaGWrfx9PRUy5YtFR8fL0mKj4+Xl5eXNYxJUmhoqCpUqKBt27ZZx7Rr107Ozs7WMWFhYdq/f79OnTpVaG8TJkyQp6en9VGzZs2SPXgAAAAAN7wiB7LXX39dL774oipVqqSbbrpJsbGxio4u3WurX3jhBfXu3Vv169eXk5OTmjVrppiYGEVGRkqSkpMvfXO5n5+fzXZ+fn7WdcnJyfL19bVZ7+joKG9vb5sxhe3j8hp/NWrUKGVkZFgfR44c+YdHCwAAAKC8KfIlix999JHeffdd/etf/5Ikff3114qIiNAHH3ygChWKPTdIkSxZskQLFy7UokWLrJcRxsTEKCAgQP369SuVmkXl4uIiFxcXU3sAAAAAcH0rciA7fPiwunbtan0dGhoqi8WiY8eOqUaNGqXS3IgRI6xnySSpcePGOnTokCZMmKB+/frJ399fkpSSkqLq1atbt0tJSdFtt90mSfL391dqaqrNfi9cuKCTJ09at/f391dKSorNmPzX+WMAAAAAoKQV+dTWhQsXrLMW5nNyclJubu4VtvjncnJyCpx9c3BwUF5eniQpODhY/v7+Wr9+vXV9Zmamtm3bppCQEElSSEiI0tPTlZCQYB2zYcMG5eXlqWXLltYxmzdvtjmWuLg41atXT1WqVCm14wMAAABQvhX5DJlhGOrfv7/NZXpnz57Vk08+KXd3d+uyzz//vMSau++++/T6668rMDBQjRo10g8//KC3335bAwcOlCRZLBbFxMTotddeU926da3T3gcEBKh79+6SpAYNGig8PFxPPPGEZs+erdzcXA0ePFi9e/dWQECAJKlPnz569dVXFRUVpZEjR2rv3r2KjY3V1KlTS+xYAAAAAFxbefuS+iIHssLu2Xr00UdLtJm/mjFjhkaPHq2nn35aqampCggI0L/+9S+NGTPGOub5559Xdna2Bg0apPT0dLVp00Zr1qyxOZu3cOFCDR48WJ06dVKFChXUs2dPTZ8+3bre09NT69atU3R0tJo3b65q1appzJgxfAcZcAN4fXFYkcZlZF+47HlKkbeTpJd6rS12XwAAFKaKq3ehz8uT/C+pLy+KHMjs+f1j+SpXrqxp06Zp2rRpVxxjsVg0btw4jRs37opjvL29rV8CfSVNmjTRt99++3dbBQAAAP6xUW1eMbsF2FnpTI8IAAAAALgmAhkAAAAAmKTIlywCAFCaLJVcZVz2HACA8oBABgAoE1x6tjK7BQAA7I5ABgBlhGMli/S/c0SXngMAgBsdgQwAygi/nrwlAwBQ3jCpBwAAAACYhH+OBQDgBnbfshVFHnsmJ8f6PDUnp1jbfvFg96I3BaDcSYmNL/LYi5nnbJ4XZ1u/oSHF6qss4AwZAAAAAJiEQAYAAAAAJiGQAQAAAIBJCGQAAAAAYBIm9QAA3NAiPptT5LFnc05bn6fknC7Wtqt7DipWXwAASJwhAwAAAADTcIYMACS5uBf+HAAAoDQRyABAUvNuvB0CAAD74xMIAAAAgDLD282j0Oc3KgIZAAAAgDJjbJvyNUkSk3oAAAAAgEkIZAAAAABgEi5ZBAAAZcbQoUOVlpYmSfLx8VFsbKzJHQFA6SKQAQCAMiMtLU0pKSlmtwEAdsMliwAAAABgEgIZAAAAAJiEQAYAAAAAJuEeMgAAIEmyuFcq9DkAoPQQyAAAgCTJ9YEHzW4BAModLlkEAAAAAJMQyAAAAADAJAQyAAAAADAJgQwAAAAATEIgAwAAAACTEMgAAAAAwCQEMgAAAAAwCd9DBgDA/1jcK8q47DkAAKWNQAYAwP+49OhkdgsAgHKGSxYBAAAAwCQEMgAAAAAwCYEMAAAAAExCIAMAAAAAkzCpBwAAKFXdl60v8tisnLPW56k5Z4u87YoHmZAFwPWJM2QAAAAAYBICGQAAAACYhEAGAAAAACYhkAEAAACASZjUA0CZMHToUKWlpUmSfHx8FBsba3JHAAAApY9ABqBMSEtLU0pKitltAAAA2BWXLAIAAACASQhkAAAAAGASAhkAAAAAmIRABgAAAAAmIZABAAAAgEmYZbEMYLpvAAAAoHwikJUBTPcNAAAAlE9csggAAAAAJiGQAQAAAIBJuGQRAAAAkrivHTADgQwAAJQZFdwrK++y57Av7msH7K/MX7J49OhRPfroo6patarc3NzUuHFj7dy507reMAyNGTNG1atXl5ubm0JDQ3XgwAGbfZw8eVKRkZHy8PCQl5eXoqKilJWVZTNm9+7datu2rVxdXVWzZk1NnjzZLscHAAD+X8UHHlOlR6NV6dFoVXzgMbPbAYBSV6YD2alTp3TXXXfJyclJX331lX7++WdNmTJFVapUsY6ZPHmypk+frtmzZ2vbtm1yd3dXWFiYzp49ax0TGRmpn376SXFxcVq1apU2b96sQYMGWddnZmaqc+fOCgoKUkJCgt58802NHTtWc+bMsevxAgAAAChfyvQli5MmTVLNmjU1b94867Lg4GDrc8MwNG3aNL388svq1q2bJOmjjz6Sn5+fVqxYod69e2vfvn1as2aNduzYoRYtWkiSZsyYoa5du+qtt95SQECAFi5cqPPnz+vDDz+Us7OzGjVqpMTERL399ts2we1y586d07lz56yvMzMzS+NHAAAAAOAGVqbPkK1cuVItWrTQQw89JF9fXzVr1kzvv/++dX1SUpKSk5MVGhpqXebp6amWLVsqPj5ekhQfHy8vLy9rGJOk0NBQVahQQdu2bbOOadeunZydna1jwsLCtH//fp06darQ3iZMmCBPT0/ro2bNmiV67AAAAABufGU6kP33v//VrFmzVLduXa1du1ZPPfWUnnnmGS1YsECSlJycLEny8/Oz2c7Pz8+6Ljk5Wb6+vjbrHR0d5e3tbTOmsH1cXuOvRo0apYyMDOvjyJEj//BoAQAAAJQ3ZfqSxby8PLVo0UJvvPGGJKlZs2bau3evZs+erX79+pnam4uLi1xcXEztAQAAAMD1rUyfIatevboaNmxos6xBgwY6fPiwJMnf31+SCkzPmpKSYl3n7++v1NRUm/UXLlzQyZMnbcYUto/LawAAAABASSvTgeyuu+7S/v37bZb9+uuvCgoKknRpgg9/f3+tX7/euj4zM1Pbtm1TSEiIJCkkJETp6elKSEiwjtmwYYPy8vLUsmVL65jNmzcrNzfXOiYuLk716tWzmdERAAAAAEpSmQ5kw4YN09atW/XGG2/o4MGDWrRokebMmaPo6GhJksViUUxMjF577TWtXLlSe/bs0WOPPaaAgAB1795d0qUzauHh4XriiSe0fft2ff/99xo8eLB69+6tgIAASVKfPn3k7OysqKgo/fTTT1q8eLFiY2M1fPhwsw4dAAAAQDlQpu8hu+OOO7R8+XKNGjVK48aNU3BwsKZNm6bIyEjrmOeff17Z2dkaNGiQ0tPT1aZNG61Zs0aurq7WMQsXLtTgwYPVqVMnVahQQT179tT06dOt6z09PbVu3TpFR0erefPmqlatmsaMGXPFKe8BAAAAoCSU6UAmSffee6/uvffeK663WCwaN26cxo0bd8Ux3t7eWrRo0VXrNGnSRN9+++3f7hNAQe99HFbksaezLlz2PKVY2/6r79pi9QUA5ckHn6dee9D/ZOVctHlenG0f7+F77UEACijTlywCAAAAwI2MQAYAAAAAJiGQAQAAAIBJCGQAAAAAYBICGQAAAACYpMzPsng9S5v1SZHGXTydbfO8qNtJks9Tjxa7LwAAAABlA2fIAAAAAMAknCFDmTB06FClpaVJknx8fBQbG2tyRwAAAEDpI5ChTEhLS1NKSorZbQAAAAB2RSADAACAJMmtUtVCnwMoPQQyAAAASJLu6THW7BaAcodJPQAAAADAJJwhA8SkIgAAADAHgQwQk4oAAADAHFyyCAAAAAAmIZABAAAAgEkIZAAAAABgEgIZAAAAAJiEQAYAAAAAJiGQAQAAAIBJmPYeQJlQ0b3w5wAAADcyAhmAMuHurrwdAQCA8odPQCg1h6c/WOSxFzIzLnueVqxtA59ZVqy+AAAAgLKCe8gAAAAAwCScISsDqrpVLPQ5AAAAgBsbgawMeLVjhNktAAAAADABlywCAAAAgEkIZAAAAABgEgIZAAAAAJiEe8hww9rx3n1FHnvu9JnLnqcWa9s7/vVFsfoCAAAA8nGGDAAAAABMQiADAAAAAJMQyAAAAADAJAQyAAAAADAJk3qgTPB2syj/3wcuPQcAAABufAQylAkvtvUwuwUAAADA7rhkEQAAAABMQiADAAAAAJMQyAAAAADAJAQyAAAAADAJgQwAAAAATEIgAwAAAACTEMgAAAAAwCQEMgAAAAAwCYEMAAAAAEziaHYDQFngWdFS6HMAAACgNBHIAElP3e1qdgsAAAAoh7hkEQAAAABMQiADAAAAAJMQyAAAAADAJAQyAAAAADAJgQwAAAAATEIgAwAAAACTEMgAAAAAwCQEMgAAAAAwCYEMAAAAAExCIAMAAAAAkxDIAAAAAMAk11UgmzhxoiwWi2JiYqzLzp49q+joaFWtWlWVKlVSz549lZKSYrPd4cOHFRERoYoVK8rX11cjRozQhQsXbMZs3LhRt99+u1xcXFSnTh3Nnz/fDkcEAAAAoDy7bgLZjh079N5776lJkyY2y4cNG6YvvvhCS5cu1aZNm3Ts2DH16NHDuv7ixYuKiIjQ+fPntWXLFi1YsEDz58/XmDFjrGOSkpIUERGhjh07KjExUTExMXr88ce1du1aux0fAAAAgPLnughkWVlZioyM1Pvvv68qVapYl2dkZGju3Ll6++23dffdd6t58+aaN2+etmzZoq1bt0qS1q1bp59//lmffPKJbrvtNnXp0kXjx4/XzJkzdf78eUnS7NmzFRwcrClTpqhBgwYaPHiwHnzwQU2dOvWKPZ07d06ZmZk2DwAAAAAojusikEVHRysiIkKhoaE2yxMSEpSbm2uzvH79+goMDFR8fLwkKT4+Xo0bN5afn591TFhYmDIzM/XTTz9Zx/x132FhYdZ9FGbChAny9PS0PmrWrPmPjxMAAABA+VLmA9mnn36qXbt2acKECQXWJScny9nZWV5eXjbL/fz8lJycbB1zeRjLX5+/7mpjMjMzdebMmUL7GjVqlDIyMqyPI0eO/K3jAwAAAFB+OZrdwNUcOXJEQ4cOVVxcnFxdXc1ux4aLi4tcXFzMbgMAAADAdaxMnyFLSEhQamqqbr/9djk6OsrR0VGbNm3S9OnT5ejoKD8/P50/f17p6ek226WkpMjf31+S5O/vX2DWxfzX1xrj4eEhNze3Ujo6AAAAAOVdmQ5knTp10p49e5SYmGh9tGjRQpGRkdbnTk5OWr9+vXWb/fv36/DhwwoJCZEkhYSEaM+ePUpNTbWOiYuLk4eHhxo2bGgdc/k+8sfk7wMAAAAASkOZvmSxcuXKuvXWW22Wubu7q2rVqtblUVFRGj58uLy9veXh4aEhQ4YoJCRErVq1kiR17txZDRs2VN++fTV58mQlJyfr5ZdfVnR0tPWSwyeffFLvvPOOnn/+eQ0cOFAbNmzQkiVLtHr1avseMAAAAIBypUwHsqKYOnWqKlSooJ49e+rcuXMKCwvTu+++a13v4OCgVatW6amnnlJISIjc3d3Vr18/jRs3zjomODhYq1ev1rBhwxQbG6saNWrogw8+UFhYmBmHBAAAAKCcuO4C2caNG21eu7q6aubMmZo5c+YVtwkKCtKXX3551f126NBBP/zwQ0m0CAAAAABFUqbvIQMAAACAGxmBDAAAAABMQiADAAAAAJMQyAAAAADAJAQyAAAAADAJgQwAAAAATEIgAwAAAACTEMgAAAAAwCQEMgAAAAAwCYEMAAAAAExCIAMAAAAAkxDIAAAAAMAkBDIAAAAAMAmBDAAAAABMQiADAAAAAJMQyAAAAADAJAQyAAAAADAJgQwAAAAATEIgAwAAAACTEMgAAAAAwCQEMgAAAAAwCYEMAAAAAExCIAMAAAAAkxDIAAAAAMAkBDIAAAAAMAmBDAAAAABMQiADAAAAAJMQyAAAAADAJAQyAAAAADAJgQwAAAAATEIgAwAAAACTEMgAAAAAwCQEMgAAAAAwCYEMAAAAAExCIAMAAAAAkxDIAAAAAMAkBDIAAAAAMAmBDAAAAABMQiADAAAAAJMQyAAAAADAJAQyAAAAADAJgQwAAAAATEIgAwAAAACTEMgAAAAAwCQEMgAAAAAwCYEMAAAAAExCIAMAAAAAkxDIAAAAAMAkBDIAAAAAMAmBDAAAAABMQiADAAAAAJMQyAAAAADAJAQyAAAAADAJgQwAAAAATEIgAwAAAACTEMgAAAAAwCQEMgAAAAAwCYEMAAAAAExS5gPZhAkTdMcdd6hy5cry9fVV9+7dtX//fpsxZ8+eVXR0tKpWrapKlSqpZ8+eSklJsRlz+PBhRUREqGLFivL19dWIESN04cIFmzEbN27U7bffLhcXF9WpU0fz588v7cMDAAAAUI6V+UC2adMmRUdHa+vWrYqLi1Nubq46d+6s7Oxs65hhw4bpiy++0NKlS7Vp0yYdO3ZMPXr0sK6/ePGiIiIidP78eW3ZskULFizQ/PnzNWbMGOuYpKQkRUREqGPHjkpMTFRMTIwef/xxrV271q7HCwAAAKD8cDS7gWtZs2aNzev58+fL19dXCQkJateunTIyMjR37lwtWrRId999tyRp3rx5atCggbZu3apWrVpp3bp1+vnnn/X111/Lz89Pt912m8aPH6+RI0dq7NixcnZ21uzZsxUcHKwpU6ZIkho0aKDvvvtOU6dOVVhYmN2PGwAAAMCNr8yfIfurjIwMSZK3t7ckKSEhQbm5uQoNDbWOqV+/vgIDAxUfHy9Jio+PV+PGjeXn52cdExYWpszMTP3000/WMZfvI39M/j7+6ty5c8rMzLR5AAAAAEBxXFeBLC8vTzExMbrrrrt06623SpKSk5Pl7OwsLy8vm7F+fn5KTk62jrk8jOWvz193tTGZmZk6c+ZMgV4mTJggT09P66NmzZolcowAAAAAyo/rKpBFR0dr7969+vTTT81uRaNGjVJGRob1ceTIEbNbAgAAAHCdKfP3kOUbPHiwVq1apc2bN6tGjRrW5f7+/jp//rzS09NtzpKlpKTI39/fOmb79u02+8ufhfHyMX+dmTElJUUeHh5yc3Mr0I+Li4tcXFxK5NgAAAAAlE9l/gyZYRgaPHiwli9frg0bNig4ONhmffPmzeXk5KT169dbl+3fv1+HDx9WSEiIJCkkJER79uxRamqqdUxcXJw8PDzUsGFD65jL95E/Jn8fAAAAAFDSyvwZsujoaC1atEj/+c9/VLlyZes9X56ennJzc5Onp6eioqI0fPhweXt7y8PDQ0OGDFFISIhatWolSercubMaNmyovn37avLkyUpOTtbLL7+s6Oho61muJ598Uu+8846ef/55DRw4UBs2bNCSJUu0evVq044dAAAAwI2tzJ8hmzVrljIyMtShQwdVr17d+li8eLF1zNSpU3XvvfeqZ8+eateunfz9/fX5559b1zs4OGjVqlVycHBQSEiIHn30UT322GMaN26cdUxwcLBWr16tuLg4NW3aVFOmTNEHH3zAlPcAAAAASk2ZP0NmGMY1x7i6umrmzJmaOXPmFccEBQXpyy+/vOp+OnTooB9++KHYPQIAAADA31Hmz5ABAAAAwI2KQAYAAAAAJiGQAQAAAIBJCGQAAAAAYBICGQAAAACYhEAGAAAAACYhkAEAAACASQhkAAAAAGASAhkAAAAAmIRABgAAAAAmIZABAAAAgEkIZAAAAABgEgIZAAAAAJiEQAYAAAAAJiGQAQAAAIBJCGQAAAAAYBICGQAAAACYhEAGAAAAACYhkAEAAACASQhkAAAAAGASAhkAAAAAmIRABgAAAAAmIZABAAAAgEkIZAAAAABgEgIZAAAAAJiEQAYAAAAAJiGQAQAAAIBJCGQAAAAAYBICGQAAAACYhEAGAAAAACYhkAEAAACASQhkAAAAAGASAhkAAAAAmIRABgAAAAAmIZABAAAAgEkIZAAAAABgEgIZAAAAAJiEQAYAAAAAJiGQAQAAAIBJCGQAAAAAYBICGQAAAACYhEAGAAAAACYhkAEAAACASQhkAAAAAGASAhkAAAAAmIRABgAAAAAmIZABAAAAgEkIZAAAAABgEgIZAAAAAJiEQAYAAAAAJiGQAQAAAIBJCGQAAAAAYBICGQAAAACYhEAGAAAAACYhkAEAAACASQhkAAAAAGASAhkAAAAAmIRABgAAAAAmIZD9xcyZM1WrVi25urqqZcuW2r59u9ktAQAAALhBEcgus3jxYg0fPlyvvPKKdu3apaZNmyosLEypqalmtwYAAADgBkQgu8zbb7+tJ554QgMGDFDDhg01e/ZsVaxYUR9++KHZrQEAAAC4ATma3UBZcf78eSUkJGjUqFHWZRUqVFBoaKji4+MLjD937pzOnTtnfZ2RkSFJyszMtC47feZMKXZ8ictl9f7q9JmzpV5fktyu0MPps7l2qZ95hfpZZ8ytL0nZJveQc+aCqfXPmFxfks7mlH4PV6t/3g71r9ZDbs65Qpfbr7593oeu9meQm1P678VX6yE3J6dc17/UQ7bJ9bNKvf7Vejifc9rU+mfsVt/1iuty7NaDc6HLs86Y+zM4fdZe9Stecd3ps6X/96Di1T6Xni399wHpKp9Lz9jnvdD1f/Xz/z4ahnHNbSxGUUaVA8eOHdNNN92kLVu2KCQkxLr8+eef16ZNm7Rt2zab8WPHjtWrr75q7zYBAAAAXCeOHDmiGjVqXHUMZ8j+plGjRmn48OHW13l5eTp58qSqVq0qi8VS7P1lZmaqZs2aOnLkiDw8PEqy1eumh/Jevyz0QH1+B8p7/bLQQ3mvXxZ6oD6/A+W9flno4XqvbxiGTp8+rYCAgGuOJZD9T7Vq1eTg4KCUlBSb5SkpKfL39y8w3sXFRS4uLjbLvLy8/nEfHh4epv3FKys9lPf6ZaEH6vM7UN7rl4Ueynv9stAD9fkdKO/1y0IP13N9T0/PIo1jUo//cXZ2VvPmzbV+/Xrrsry8PK1fv97mEkYAAAAAKCmcIbvM8OHD1a9fP7Vo0UJ33nmnpk2bpuzsbA0YMMDs1gAAAADcgAhkl+nVq5fS0tI0ZswYJScn67bbbtOaNWvk5+dX6rVdXFz0yiuvFLgM0p7M7qG81y8LPVCf34HyXr8s9FDe65eFHqjP70B5r18WeihP9ZllEQAAAABMwj1kAAAAAGASAhkAAAAAmIRABgAAAAAmIZABAAAAgEkIZGXEzJkzVatWLbm6uqply5bavn273Wpv3rxZ9913nwICAmSxWLRixQq71ZakCRMm6I477lDlypXl6+ur7t27a//+/XarP2vWLDVp0sT6xX8hISH66quv7Fb/ryZOnCiLxaKYmBi71Rw7dqwsFovNo379+narL0lHjx7Vo48+qqpVq8rNzU2NGzfWzp077VK7Vq1aBY7fYrEoOjraLvUvXryo0aNHKzg4WG5ubqpdu7bGjx8ve865dPr0acXExCgoKEhubm5q3bq1duzYUWr1rvW+YxiGxowZo+rVq8vNzU2hoaE6cOCA3ep//vnn6ty5s6pWrSqLxaLExMQSq12UHnJzczVy5Eg1btxY7u7uCggI0GOPPaZjx47Zpb506X2hfv36cnd3V5UqVRQaGqpt27bZrf7lnnzySVksFk2bNq3E6helh/79+xd4XwgPD7dbfUnat2+f7r//fnl6esrd3V133HGHDh8+bJf6hb0vWiwWvfnmm3apn5WVpcGDB6tGjRpyc3NTw4YNNXv27BKpXdQeUlJS1L9/fwUEBKhixYoKDw8v0feionwGOnv2rKKjo1W1alVVqlRJPXv2VEpKit3qz5kzRx06dJCHh4csFovS09NLpHZR6p88eVJDhgxRvXr15ObmpsDAQD3zzDPKyMiwS31J+te//qXatWvLzc1NPj4+6tatm3755ZcSqZ+PQFYGLF68WMOHD9crr7yiXbt2qWnTpgoLC1Nqaqpd6mdnZ6tp06aaOXOmXer91aZNmxQdHa2tW7cqLi5Oubm56ty5s7Kzs+1Sv0aNGpo4caISEhK0c+dO3X333erWrZt++uknu9S/3I4dO/Tee++pSZMmdq/dqFEjHT9+3Pr47rvv7Fb71KlTuuuuu+Tk5KSvvvpKP//8s6ZMmaIqVarYpf6OHTtsjj0uLk6S9NBDD9ml/qRJkzRr1iy988472rdvnyZNmqTJkydrxowZdqkvSY8//rji4uL08ccfa8+ePercubNCQ0N19OjRUql3rfedyZMna/r06Zo9e7a2bdsmd3d3hYWF6ezZs3apn52drTZt2mjSpEklUq+4PeTk5GjXrl0aPXq0du3apc8//1z79+/X/fffb5f6knTLLbfonXfe0Z49e/Tdd9+pVq1a6ty5s9LS0uxSP9/y5cu1detWBQQElEjd4vYQHh5u8/7w73//2271f/vtN7Vp00b169fXxo0btXv3bo0ePVqurq52qX/5cR8/flwffvihLBaLevbsaZf6w4cP15o1a/TJJ59o3759iomJ0eDBg7Vy5coSqX+tHgzDUPfu3fXf//5X//nPf/TDDz8oKChIoaGhJfYZpSifgYYNG6YvvvhCS5cu1aZNm3Ts2DH16NHDbvVzcnIUHh6uF198sURqFqf+sWPHdOzYMb311lvau3ev5s+frzVr1igqKsou9SWpefPmmjdvnvbt26e1a9fKMAx17txZFy9eLJEeJEkGTHfnnXca0dHR1tcXL140AgICjAkTJti9F0nG8uXL7V73cqmpqYYkY9OmTab1UKVKFeODDz6wa83Tp08bdevWNeLi4oz27dsbQ4cOtVvtV155xWjatKnd6v3VyJEjjTZt2phW/6+GDh1q1K5d28jLy7NLvYiICGPgwIE2y3r06GFERkbapX5OTo7h4OBgrFq1ymb57bffbrz00kulXv+v7zt5eXmGv7+/8eabb1qXpaenGy4uLsa///3vUq9/uaSkJEOS8cMPP5R43aL2kG/79u2GJOPQoUOm1M/IyDAkGV9//bXd6v/xxx/GTTfdZOzdu9cICgoypk6dWuK1r9ZDv379jG7dupVazWvV79Wrl/Hoo4+aVv+vunXrZtx99912q9+oUSNj3LhxNstK833prz3s37/fkGTs3bvXuuzixYuGj4+P8f7775dKD3/9DJSenm44OTkZS5cutY7Zt2+fIcmIj48v9fqX++abbwxJxqlTp0q8blHq51uyZInh7Oxs5ObmmlL/xx9/NCQZBw8eLLG6nCEz2fnz55WQkKDQ0FDrsgoVKig0NFTx8fEmdmae/NPQ3t7edq998eJFffrpp8rOzlZISIhda0dHRysiIsLmd8GeDhw4oICAAN18882KjIwssUtiimLlypVq0aKFHnroIfn6+qpZs2Z6//337Vb/cufPn9cnn3yigQMHymKx2KVm69attX79ev3666+SpB9//FHfffedunTpYpf6Fy5c0MWLFwv8q7ubm5tdz5TmS0pKUnJyss3fBU9PT7Vs2bLcvi9Kl94bLRaLvLy87F77/PnzmjNnjjw9PdW0aVO71MzLy1Pfvn01YsQINWrUyC41C7Nx40b5+vqqXr16euqpp3TixAm71M3Ly9Pq1at1yy23KCwsTL6+vmrZsqXdbyvIl5KSotWrV5fYmYmiaN26tVauXKmjR4/KMAx98803+vXXX9W5c2e71D937pwk2bw3VqhQQS4uLqX23vjXz0AJCQnKzc21eT+sX7++AgMDS+X90MzPYEWtn5GRIQ8PDzk6Otq9fnZ2tubNm6fg4GDVrFmzxOoSyEz2559/6uLFi/Lz87NZ7ufnp+TkZJO6Mk9eXp5iYmJ011136dZbb7Vb3T179qhSpUpycXHRk08+qeXLl6thw4Z2q//pp59q165dmjBhgt1qXq5ly5bWywBmzZqlpKQktW3bVqdPn7ZL/f/+97+aNWuW6tatq7Vr1+qpp57SM888owULFtil/uVWrFih9PR09e/f3241X3jhBfXu3Vv169eXk5OTmjVrppiYGEVGRtqlfuXKlRUSEqLx48fr2LFjunjxoj755BPFx8fr+PHjdunhcvnvfbwv/r+zZ89q5MiReuSRR+Th4WG3uqtWrVKlSpXk6uqqqVOnKi4uTtWqVbNL7UmTJsnR0VHPPPOMXeoVJjw8XB999JHWr1+vSZMmadOmTerSpUvJXqp0BampqcrKytLEiRMVHh6udevW6YEHHlCPHj20adOmUq//VwsWLFDlypVL7FK5opgxY4YaNmyoGjVqyNnZWeHh4Zo5c6batWtnl/r5wWfUqFE6deqUzp8/r0mTJumPP/4olffGwj4DJScny9nZucA/xJTG+6FZn8GKU//PP//U+PHjNWjQILvWf/fdd1WpUiVVqlRJX331leLi4uTs7FxitUs+WgL/QHR0tPbu3Wv3f5WvV6+eEhMTlZGRoWXLlqlfv37atGmTXULZkSNHNHToUMXFxZXYfQHFdfmZmCZNmqhly5YKCgrSkiVL7PKvoXl5eWrRooXeeOMNSVKzZs20d+9ezZ49W/369Sv1+pebO3euunTpUir3q1zJkiVLtHDhQi1atEiNGjVSYmKiYmJiFBAQYLfj//jjjzVw4EDddNNNcnBw0O23365HHnlECQkJdqmPK8vNzdXDDz8swzA0a9Ysu9bu2LGjEhMT9eeff+r999/Xww8/rG3btsnX17dU6yYkJCg2Nla7du2y25nqwvTu3dv6vHHjxmrSpIlq166tjRs3qlOnTqVaOy8vT5LUrVs3DRs2TJJ02223acuWLZo9e7bat29fqvX/6sMPP1RkZKRd/z81Y8YMbd26VStXrlRQUJA2b96s6OhoBQQE2OVqEicnJ33++eeKioqSt7e3HBwcFBoaqi5dupTKpEtmfQa6XupnZmYqIiJCDRs21NixY+1aPzIyUvfcc4+OHz+ut956Sw8//LC+//77Evv7wBkyk1WrVk0ODg4FZstJSUmRv7+/SV2ZY/DgwVq1apW++eYb1ahRw661nZ2dVadOHTVv3lwTJkxQ06ZNFRsba5faCQkJSk1N1e233y5HR0c5Ojpq06ZNmj59uhwdHe3yL7F/5eXlpVtuuUUHDx60S73q1asXCL8NGjSw62WTknTo0CF9/fXXevzxx+1ad8SIEdazZI0bN1bfvn01bNgwu54xrV27tjZt2qSsrCwdOXJE27dvV25urm6++Wa79ZAv/72P98X/D2OHDh1SXFycXc+OSZK7u7vq1KmjVq1aae7cuXJ0dNTcuXNLve63336r1NRUBQYGWt8XDx06pGeffVa1atUq9fpXcvPNN6tatWp2eW+sVq2aHB0dy8R747fffqv9+/fb9b3xzJkzevHFF/X222/rvvvuU5MmTTR48GD16tVLb731lt36aN68uRITE5Wenq7jx49rzZo1OnHiRIm/N17pM5C/v7/Onz9fYGbDkn4/NPMzWFHqnz59WuHh4apcubKWL18uJycnu9b39PRU3bp11a5dOy1btky//PKLli9fXmL1CWQmc3Z2VvPmzbV+/Xrrsry8PK1fv97u9zCZxTAMDR48WMuXL9eGDRsUHBxsdkvKy8uzXjte2jp16qQ9e/YoMTHR+mjRooUiIyOVmJgoBwcHu/RxuaysLP3222+qXr26XerdddddBaaZ/fXXXxUUFGSX+vnmzZsnX19fRURE2LVuTk6OKlSwfTt2cHCw/gu5Pbm7u6t69eo6deqU1q5dq27dutm9h+DgYPn7+9u8L2ZmZmrbtm3l5n1R+v8wduDAAX399deqWrWq2S3Z7b2xb9++2r17t837YkBAgEaMGKG1a9eWev0r+eOPP3TixAm7vDc6OzvrjjvuKBPvjXPnzlXz5s3tdv+gdOn3Pzc3t8y8N3p6esrHx0cHDhzQzp07S+y98VqfgZo3by4nJyeb98P9+/fr8OHDJfJ+aPZnsKLUz8zMVOfOneXs7KyVK1eW6Fnav3P8hmHIMIwSfS/kksUyYPjw4erXr59atGihO++8U9OmTVN2drYGDBhgl/pZWVk2/9qXlJSkxMREeXt7KzAwsNTrR0dHa9GiRfrPf/6jypUrW6+J9vT0lJubW6nXHzVqlLp06aLAwECdPn1aixYt0saNG+32P/3KlSsXuFbZ3d1dVatWtds13M8995zuu+8+BQUF6dixY3rllVfk4OCgRx55xC71hw0bptatW+uNN97Qww8/rO3bt2vOnDmaM2eOXepLlz5ozps3T/369SuVG4Wv5r777tPrr7+uwMBANWrUSD/88IPefvttDRw40G495E/lW69ePR08eFAjRoxQ/fr1S+196FrvOzExMXrttddUt25dBQcHa/To0QoICFD37t3tUv/kyZM6fPiw9Xu/8j8U+/v7l9i/Sl+th+rVq+vBBx/Url27tGrVKl28eNH63ujt7V0i9y5crX7VqlX1+uuv6/7771f16tX1559/aubMmTp69GiJfR3Etf4M/hpAnZyc5O/vr3r16pVI/Wv14O3trVdffVU9e/aUv7+/fvvtNz3//POqU6eOwsLCSr1+YGCgRowYoV69eqldu3bq2LGj1qxZoy+++EIbN260S33p0ofhpUuXasqUKSVSszj127dvrxEjRsjNzU1BQUHatGmTPvroI7399tt262Hp0qXy8fFRYGCg9uzZo6FDh6p79+4lNrHItT4DeXp6KioqSsOHD5e3t7c8PDw0ZMgQhYSEqFWrVqVeX7p0H1tycrL157Rnzx5VrlxZgYGB/3jyj2vVzw9jOTk5+uSTT5SZmanMzExJko+Pzz/+R+tr1f/vf/+rxYsXq3PnzvLx8dEff/yhiRMnys3NTV27dv1HtW2U2HyN+EdmzJhhBAYGGs7Ozsadd95pbN261W6186cx/eujX79+dqlfWG1Jxrx58+xSf+DAgUZQUJDh7Oxs+Pj4GJ06dTLWrVtnl9pXYu9p73v16mVUr17dcHZ2Nm666SajV69eJTqda1F88cUXxq233mq4uLgY9evXN+bMmWPX+mvXrjUkGfv377drXcMwjMzMTGPo0KFGYGCg4erqatx8883GSy+9ZJw7d85uPSxevNi4+eabDWdnZ8Pf39+Ijo420tPTS63etd538vLyjNGjRxt+fn6Gi4uL0alTpxL9s7lW/Xnz5hW6/pVXXrFLD/nT7Rf2+Oabb0q9/pkzZ4wHHnjACAgIMJydnY3q1asb999/v7F9+/YSqX2t+oUpjWnvr9ZDTk6O0blzZ8PHx8dwcnIygoKCjCeeeMJITk62S/18c+fONerUqWO4uroaTZs2NVasWGHX+u+9957h5uZWKu8H16p//Phxo3///kZAQIDh6upq1KtXz5gyZUqJfiXJtXqIjY01atSoYTg5ORmBgYHGyy+/XKLvzUX5DHTmzBnj6aefNqpUqWJUrFjReOCBB4zjx4/brf4rr7xSap/TrlX/Sn8+koykpKRSr3/06FGjS5cuhq+vr+Hk5GTUqFHD6NOnj/HLL7/849qXs/yvGQAAAACAnXEPGQAAAACYhEAGAAAAACYhkAEAAACASQhkAAAAAGASAhkAAAAAmIRABgAAAAAmIZABAAAAgEkIZAAAAABgEgIZAABXYbFYtGLFihLb38aNG2WxWJSenn7NsfPnz5eXl1eJ1QYAlD0EMgDADSk+Pl4ODg6KiIj4R/s5fvy4unTpUkJdAQBgi0AGALghzZ07V0OGDNHmzZt17NixK44zDEMXLlwosPz8+fOSJH9/f7m4uJRanyUtv28AwPWBQAYAuOFkZWVp8eLFeuqppxQREaH58+db1+VfMvjVV1+pefPmcnFx0XfffacOHTpo8ODBiomJUbVq1RQWFibJ9pLF1q1ba+TIkTa10tLS5OTkpM2bN0uSPv74Y7Vo0UKVK1eWv7+/+vTpo9TU1H90PGvXrlWDBg1UqVIlhYeH6/jx49Z1/fv3V/fu3fX6668rICBA9erV+0e1AAD2RSADANxwlixZovr166tevXp69NFH9eGHH8owDJsxL7zwgiZOnKh9+/apSZMmkqQFCxbI2dlZ33//vWbPnl1gv5GRkfr0009t9rV48WIFBASobdu2kqTc3FyNHz9eP/74o1asWKHff/9d/fv3/9vHkpOTo7feeksff/yxNm/erMOHD+u5556zGbN+/Xrt379fcXFxWrVq1d+uBQCwP0ezGwAAoKTNnTtXjz76qCQpPDxcGRkZ2rRpkzp06GAdM27cON1zzz0229WtW1eTJ0++4n4ffvhhxcTE6LvvvrMGsEWLFumRRx6RxWKRJA0cONA6/uabb9b06dN1xx13KCsrS5UqVSr2seTm5mr27NmqXbu2JGnw4MEaN26czRh3d3d98MEHcnZ2Lvb+AQDm4gwZAOCGsn//fm3fvl2PPPKIJMnR0VG9evXS3Llzbca1aNGiwLbNmze/6r59fHzUuXNnLVy4UJKUlJSk+Ph4RUZGWsckJCTovvvuU2BgoCpXrqz27dtLkg4fPvy3jqdixYrWMCZJ1atXL3AJZOPGjQljAHCdIpABAG4oc+fO1YULFxQQECBHR0c5Ojpq1qxZ+uyzz5SRkWEd5+7uXmDbwpb9VWRkpJYtW6bc3FwtWrRIjRs3VuPGjSVJ2dnZCgsLk4eHhxYuXKgdO3Zo+fLlkv7+ZBtOTk42ry0WS4HLL4vSNwCgbCKQAQBuGBcuXNBHH32kKVOmKDEx0fr48ccfFRAQoH//+9//uEa3bt109uxZrVmzRosWLbI5O/bLL7/oxIkTmjhxotq2bav69ev/4wk9AAA3Nu4hAwDcMFatWqVTp04pKipKnp6eNut69uypuXPn6s033/xHNdzd3dW9e3eNHj1a+/bts14aKUmBgYFydnbWjBkz9OSTT2rv3r0aP378P6oHALixcYYMAHDDmDt3rkJDQwuEMelSINu5c6d27979j+tERkbqxx9/VNu2bRUYGGhd7uPjo/nz52vp0qVq2LChJk6cqLfeeusf1wMA3Lgsxl8vRAcAAAAA2AVnyAAAAADAJAQyAABM0qVLF1WqVKnQxxtvvGF2ewAAO+CSRQAATHL06FGdOXOm0HXe3t7y9va2c0cAAHsjkAEAAACASbhkEQAAAABMQiADAAAAAJMQyAAAAADAJAQyAAAAADAJgQwAAAAATEIgAwAAAACTEMgAAAAAwCT/BxZTbHLWyLwqAAAAAElFTkSuQmCC\n",
      "text/plain": [
       "<Figure size 1000x800 with 1 Axes>"
      ]
     },
     "metadata": {},
     "output_type": "display_data"
    }
   ],
   "source": [
    "plt.figure(figsize=(10,8))\n",
    "sns.barplot(data=df,x='Arrival_hr',y='Price')\n",
    "\n",
    "plt.xlabel(\"Arrival_hr\")\n",
    "plt.ylabel(\"Price (in ₹)\")\n",
    "plt.title(\"Effect of Price based on Arrival_hr\")\n",
    "#plt.xticks(rotation=\"vertical\")\n",
    "plt.show()\n"
   ]
  },
  {
   "cell_type": "markdown",
   "id": "b1c1a71f",
   "metadata": {},
   "source": [
    "#### Flights arriving at 5AM have the highest prices compared to other hours of the day."
   ]
  },
  {
   "cell_type": "markdown",
   "id": "fc092012",
   "metadata": {},
   "source": [
    "## Effect of Price based on Departure Time"
   ]
  },
  {
   "cell_type": "code",
   "execution_count": 71,
   "id": "4eb80df4",
   "metadata": {},
   "outputs": [
    {
     "data": {
      "image/png": "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\n",
      "text/plain": [
       "<Figure size 1000x800 with 1 Axes>"
      ]
     },
     "metadata": {},
     "output_type": "display_data"
    }
   ],
   "source": [
    "plt.figure(figsize=(10,8))\n",
    "sns.barplot(data=df,x='Dep_hr',y='Price')\n",
    "\n",
    "plt.xlabel(\"Departure Hour\")\n",
    "plt.ylabel(\"Price (in ₹)\")\n",
    "plt.title(\"Effect of Price based on Departure Hour\")\n",
    "#plt.xticks(rotation=\"vertical\")\n",
    "plt.show()"
   ]
  },
  {
   "cell_type": "markdown",
   "id": "05c2e88f",
   "metadata": {},
   "source": [
    "#### Flights of depature at 3AM have the highest price compared to other hours of the day. Flights of depature at 1AM have a significantly low price compared to other hours of the day."
   ]
  },
  {
   "cell_type": "markdown",
   "id": "5b840b57",
   "metadata": {},
   "source": [
    "## Effect of Price based on the Duration of the Flight"
   ]
  },
  {
   "cell_type": "code",
   "execution_count": 76,
   "id": "d0227c07",
   "metadata": {},
   "outputs": [],
   "source": [
    "df['Duration(in mins)']=pd.cut(df['Duration(in mins)'],bins=5)"
   ]
  },
  {
   "cell_type": "code",
   "execution_count": 77,
   "id": "5b8e9e4b",
   "metadata": {
    "scrolled": false
   },
   "outputs": [
    {
     "data": {
      "image/png": "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\n",
      "text/plain": [
       "<Figure size 1000x800 with 1 Axes>"
      ]
     },
     "metadata": {},
     "output_type": "display_data"
    }
   ],
   "source": [
    "plt.figure(figsize=(10,8))\n",
    "sns.barplot(data=df,x=\"Duration(in mins)\",y='Price')\n",
    "\n",
    "plt.xlabel('Duration(in mins)')\n",
    "plt.ylabel(\"Price (in ₹)\")\n",
    "plt.title(\"Effect of Price based on Duration(in mins)\")\n",
    "#plt.xticks(rotation=\"vertical\")\n",
    "plt.show()"
   ]
  },
  {
   "cell_type": "markdown",
   "id": "6ba9363f",
   "metadata": {},
   "source": [
    "#### Flight prices highly depend on the duration of the flight. More the duration, higher is the flight price."
   ]
  },
  {
   "cell_type": "markdown",
   "id": "bcc0185e",
   "metadata": {},
   "source": [
    "## Effect of Price based on the Month"
   ]
  },
  {
   "cell_type": "code",
   "execution_count": 83,
   "id": "37b467a4",
   "metadata": {},
   "outputs": [
    {
     "data": {
      "image/png": "iVBORw0KGgoAAAANSUhEUgAAA2QAAAK9CAYAAABLrq+bAAAAOXRFWHRTb2Z0d2FyZQBNYXRwbG90bGliIHZlcnNpb24zLjYuMCwgaHR0cHM6Ly9tYXRwbG90bGliLm9yZy89olMNAAAACXBIWXMAAA9hAAAPYQGoP6dpAABKmUlEQVR4nO3debxd873/8ffJeCIkITIIESlKQgxNDDGrkIQqbXoVMYfcujGEqkpbYw01T1WKElUupTWUGoKiJYhozBQ1FRmIJBJkOvv3h5v9c5rIoEm+kTyfj8d5OGet7977s87J8cgra++1ayqVSiUAAAAsdg1KDwAAALCsEmQAAACFCDIAAIBCBBkAAEAhggwAAKAQQQYAAFCIIAMAAChEkAEAABQiyAAAAAoRZAALyeTJk3PwwQenffv2qampyeDBg5MkY8aMyfe+9720bt06NTU1ueCCC4rOuSC+6JgWhTfeeCM1NTUZOnToInuMOampqclhhx22WB/zPzV06NDU1NTkjTfeKD3KXD344IOpqanJzTffXHqUJcJ2222X9ddfv/QYwBJGkAHMxay/+H7Rx2OPPVZde/rpp2fo0KE59NBDc+2112bfffdNkhx11FG55557MmTIkFx77bXp06fPQp/z9NNPz6233rpI7ndOxzQna6yxRr3vTdu2bbP11lvnlltuWehzsWS5/vrri/5Dw6yYr6mpyamnnjrHNf37909NTU2WX375RTrLu+++m5NOOimjRo1apI8DLD0alR4A4KvglFNOSefOnWfbvtZaa1U/f+CBB7L55pvnxBNPrLfmgQceyG677ZZjjjlmkc13+umn53vf+1523333hXq/X3RMX2SjjTbKD3/4wySf/cX017/+db773e/m0ksvzQ9+8IO53rZTp0755JNP0rhx4/94bhav66+/Ps8999wiPYM6P2pra/O///u/+dnPflZv+5QpU3LbbbeltrZ2kc/w7rvv5uSTT84aa6yRjTbaaJE/HvDVJ8gA5kPfvn3To0ePua4ZO3ZsunbtOsftrVq1WkSTLVpfdExfZNVVV80+++xT/Xq//fbLWmutlfPPP/8Lg2zGjBmpq6tLkyZNFstfmFl67bzzzvnjH/+Yp59+OhtuuGF1+2233ZZp06alT58+eeCBBwpOCDA7T1kE+A/Nep3M66+/njvvvLP61KlZT3esVCq55JJLqttnmTBhQgYPHpyOHTumadOmWWuttXLmmWemrq6u3v3X1dXlwgsvTLdu3VJbW5s2bdqkT58+efLJJ5N89hqoKVOm5Jprrqk+xgEHHDDXmceOHZsBAwakXbt2qa2tzYYbbphrrrlmnse0oK9Zat++fbp06ZLXX389yf9/atk555yTCy64IGuuuWaaNm2aF1544QtfQ/bSSy9ljz32SJs2bdKsWbOss846+elPf1pvzTvvvJODDjoo7dq1S9OmTbPeeuvlqquuWqBZr7vuuqyzzjqpra1N9+7d8/DDD9fb/+abb+Z//ud/ss4666RZs2Zp3bp1/uu//mu278n06dNz8sknZ+21105tbW1at26drbbaKsOGDZvtuL73ve9lpZVWSm1tbXr06JHbb799trmef/75fPOb30yzZs2y2mqr5dRTT53tz8jcPPDAA9l6663TvHnztGrVKrvttltefPHFemtOOumk1NTU5NVXX80BBxyQVq1apWXLljnwwAPz8ccfz/X+t9tuu9x555158803q39O1lhjjXpr6urqctppp2W11VZLbW1tdthhh7z66quz3dfjjz+ePn36pGXLllluueWy7bbb5pFHHpnvY+3Zs2c6d+6c66+/vt726667Ln369MlKK600x9v96le/ynrrrZemTZumQ4cOGTRoUCZMmDDbca6//vp54YUXsv3222e55ZbLqquumrPOOqu65sEHH8wmm2ySJDnwwAPr/b/g8+Z2H8CyxxkygPkwceLEvP/++/W21dTUpHXr1unSpUuuvfbaHHXUUVlttdWqT9nbeOONq6+72nHHHbPffvtVb/vxxx9n2223zTvvvJP//u//zuqrr55HH300Q4YMyXvvvVfv9TgDBgzI0KFD07dv3xx88MGZMWNG/vrXv+axxx5Ljx49cu211+bggw/OpptumoEDByZJ1lxzzS88lk8++STbbbddXn311Rx22GHp3LlzbrrpphxwwAGZMGFCjjzyyC88pjZt2izQ92369Ol5++2307p163rbr7766nz66acZOHBgmjZtmpVWWmmOkfHMM89k6623TuPGjTNw4MCsscYaee211/KnP/0pp512WpLPLpqy+eabVy/O0aZNm9x1110ZMGBAJk2aNF9Po3vooYdy44035ogjjkjTpk3zq1/9Kn369MkTTzxRvQjDiBEj8uijj2bPPffMaqutljfeeCOXXnpptttuu7zwwgtZbrnlknwWN2eccUb1ZzJp0qQ8+eSTeeqpp7Ljjjsm+Syyttxyy6y66qo57rjj0rx58/z+97/P7rvvnj/84Q/5zne+kyQZPXp0tt9++8yYMaO67vLLL0+zZs3m6/t/3333pW/fvvna176Wk046KZ988kkuvvjibLnllnnqqadmC6c99tgjnTt3zhlnnJGnnnoqV155Zdq2bZszzzzzCx/jpz/9aSZOnJh//etfOf/885Nkttdp/eIXv0iDBg1yzDHHZOLEiTnrrLPSv3//PP7449U1DzzwQPr27Zvu3bvnxBNPTIMGDXL11Vfnm9/8Zv76179m0003na9j3muvvfK73/0uv/jFL1JTU5P3338/9957b6699trcfffds60/6aSTcvLJJ6dXr1459NBD8/LLL+fSSy/NiBEj8sgjj9R7Cu2HH36YPn365Lvf/W722GOP3Hzzzfnxj3+cbt26pW/fvunSpUtOOeWUnHDCCRk4cGC23nrrJMkWW2wx3/cBLIMqAHyhq6++upJkjh9Nmzatt7ZTp06VXXbZZbb7SFIZNGhQvW0///nPK82bN6/84x//qLf9uOOOqzRs2LDy1ltvVSqVSuWBBx6oJKkcccQRs91vXV1d9fPmzZtX9t9///k6pgsuuKCSpPK73/2uum3atGmVnj17VpZffvnKpEmT5nlMc9KpU6fKTjvtVBk3blxl3Lhxlaeffrqy5557VpJUDj/88EqlUqm8/vrrlSSVFi1aVMaOHVvv9rP2XX311dVt22yzTWWFFVaovPnmm1947AMGDKisssoqlffff7/emj333LPSsmXLyscffzzXuWf9PJ988snqtjfffLNSW1tb+c53vlPdNqf7GT58eCVJ5be//W1124YbbjjP79kOO+xQ6datW+XTTz+td0xbbLFFZe21165uGzx4cCVJ5fHHH69uGzt2bKVly5aVJJXXX399ro+z0UYbVdq2bVv54IMPqtuefvrpSoMGDSr77bdfdduJJ55YSVI56KCD6t3+O9/5TqV169ZzfYxKpVLZZZddKp06dZpt+1/+8pdKkkqXLl0qU6dOrW6/8MILK0kqzz77bPXY11577Urv3r3r/Ww//vjjSufOnSs77rjjXB9/1p+ds88+u/Lcc89VklT++te/ViqVSuWSSy6pLL/88pUpU6ZU9t9//0rz5s2rtxs7dmylSZMmlZ122qkyc+bM6vZf/vKXlSSVq666qrpt2223ne1nPXXq1Er79u0r/fr1q24bMWLEbH+OF/Q+gGWLpywCzIdLLrkkw4YNq/dx1113fen7u+mmm7L11ltnxRVXzPvvv1/96NWrV2bOnFl9utwf/vCH1NTUzPGiGp9/+uOC+POf/5z27dtnr732qm5r3LhxjjjiiEyePDkPPfTQlzuoJPfee2/atGmTNm3aZMMNN8xNN92Ufffdd7YzLP369Zvn2bZx48bl4YcfzkEHHZTVV1+93r5Zx16pVPKHP/whu+66ayqVSr3vZe/evTNx4sQ89dRT85y7Z8+e6d69e/Xr1VdfPbvttlvuueeezJw5M0nqnZWaPn16Pvjgg6y11lpp1apVvcdo1apVnn/++bzyyitzfKzx48fngQceyB577JGPPvqoOu8HH3yQ3r1755VXXsk777yT5LOf1eabb17v7FCbNm3Sv3//eR7Te++9l1GjRuWAAw6o91S9DTbYIDvuuGP+/Oc/z3abf3+d39Zbb50PPvggkyZNmufjzc2BBx6YJk2a1LvfJPnnP/+ZJBk1alReeeWV7L333vnggw+q35MpU6Zkhx12yMMPPzzfT9Ncb731ssEGG+R///d/k3x2wZHddtutegbz8+67775MmzYtgwcPToMG//+vRIccckhatGiRO++8s9765Zdfvt5rJJs0aZJNN920ehzzY2HcB7B08ZRFgPmw6aabzvOiHgvilVdeyTPPPPOFUTJ27NgkyWuvvZYOHTp84Wtfvow333wza6+9dr2/gCZJly5dqvu/rM022yynnnpqampqstxyy6VLly5zvKDJnK5Y+e9m/QV1bu/bNG7cuEyYMCGXX355Lr/88jmumfW9nJu11157tm1f//rX8/HHH2fcuHFp3759Pvnkk5xxxhm5+uqr884776RSqVTXTpw4sfr5Kaeckt122y1f//rXs/7666dPnz7Zd999s8EGGyRJXn311VQqlRx//PE5/vjjv3DmVVddNW+++WY222yz2favs8468zymWT/HOa3t0qVL7rnnnkyZMiXNmzevbv/38F1xxRWTfPY0uxYtWszzMb/I3O43STVe999//y+8j4kTJ1ZvNy977713zj333Bx11FF59NFH85Of/GSO677oe9SkSZN87Wtfm+13YbXVVpvtH0JWXHHFPPPMM/M118K6D2DpIsgACqirq8uOO+6YY489do77v/71ry/miRaOlVdeOb169Zrnuvl9DdS8zDprss8++3zhX+ZnhdB/6vDDD8/VV1+dwYMHp2fPnmnZsmVqamqy55571jt7s8022+S1117LbbfdlnvvvTdXXnllzj///Fx22WU5+OCDq2uPOeaY9O7de46P9fm3U1icGjZsOMftn4/PRXG/s74nZ5999hdeKn5B3j9sr732ypAhQ3LIIYekdevW2WmnnRZs4C+wML4/i+p7DHx1CTKAAtZcc81Mnjx5nvGy5ppr5p577sn48ePnepZsQZ6+2KlTpzzzzDOpq6urd5bspZdequ5fEnzta19Lkjz33HNfuKZNmzZZYYUVMnPmzPkKwS8yp6cX/uMf/8hyyy1XPYt58803Z//998+5555bXfPpp5/OdjW+JFlppZVy4IEH5sADD8zkyZOzzTbb5KSTTsrBBx9cPa7GjRvPc+ZOnTrNcbaXX355nsc06+c4p7UvvfRSVl555Xpnx/4TX/bps7PMughNixYt/qOf4yyrr756ttxyyzz44IM59NBD06jRnP+68/nv0ayfS5JMmzYtr7/++pea5T/9XgDLHq8hAyhgjz32yPDhw3PPPffMtm/ChAmZMWNGks9ea1WpVHLyySfPtu7z/6LevHnzOYbBnOy8884ZPXp0brzxxuq2GTNm5OKLL87yyy+fbbfddgGPZtFo06ZNttlmm1x11VV566236u2bdewNGzZMv3798oc//GGO4TZu3Lj5eqzhw4fXex3Y22+/ndtuuy077bRT9YxGw4YNZzuLcfHFF1dfYzbLBx98UO/r5ZdfPmuttVamTp2aJGnbtm222267/PrXv857770315l33nnnPPbYY3niiSfq7b/uuuvmeUyrrLJKNtpoo1xzzTX1/mw899xzuffee7PzzjvP8z7mV/Pmzes9bXNBde/ePWuuuWbOOeecTJ48ebb98/tz/LxTTz01J554Yg4//PAvXNOrV680adIkF110Ub2f7W9+85tMnDgxu+yyywI/7qzInd/fRwBnyADmw1133VU9g/R5W2yxRb1/WZ9fP/rRj3L77bfnW9/6Vg444IB07949U6ZMybPPPpubb745b7zxRlZeeeVsv/322XfffXPRRRfllVdeSZ8+fVJXV5e//vWv2X777XPYYYcl+ewvtPfdd1/OO++8dOjQIZ07d57ja4+SZODAgfn1r3+dAw44ICNHjswaa6yRm2++OY888kguuOCCrLDCCgt8PIvKRRddlK222irf+MY3MnDgwHTu3DlvvPFG7rzzzowaNSrJZ5dU/8tf/pLNNtsshxxySLp27Zrx48fnqaeeyn333Zfx48fP83HWX3/99O7du95l75PUC+Fvfetbufbaa9OyZct07do1w4cPz3333TfbJf27du2a7bbbLt27d89KK62UJ598MjfffHP1Z5V8dpGYrbbaKt26dcshhxySr33taxkzZkyGDx+ef/3rX3n66aeTJMcee2yuvfba9OnTJ0ceeWT1svezznLOy9lnn52+ffumZ8+eGTBgQPWy9y1btsxJJ500z9vPr+7du+fGG2/M0UcfnU022STLL798dt111/m+fYMGDXLllVemb9++WW+99XLggQdm1VVXzTvvvJO//OUvadGiRf70pz8t0EzbbrvtPP9xoU2bNhkyZEhOPvnk9OnTJ9/+9rfz8ssv51e/+lU22WSTehffmF9rrrlmWrVqlcsuuywrrLBCmjdvns0222y+XjcJLKOKXNsR4Ctibpe9z79d2npBLntfqVQqH330UWXIkCGVtdZaq9KkSZPKyiuvXNliiy0q55xzTmXatGnVdTNmzKicffbZlXXXXbfSpEmTSps2bSp9+/atjBw5srrmpZdeqmyzzTaVZs2aVZLM8xL4Y8aMqRx44IGVlVdeudKkSZNKt27d5niZ7gW97P281n7+8uRftO/f53juuecq3/nOdyqtWrWq1NbWVtZZZ53K8ccfP9vxDBo0qNKxY8dK48aNK+3bt6/ssMMOlcsvv3yec8/6+fzud7+rrL322pWmTZtWNt5448pf/vKXeus+/PDD6vds+eWXr/Tu3bvy0ksvVTp16lTv+33qqadWNt1000qrVq0qzZo1q6y77rqV0047rd7PtFKpVF577bXKfvvtV2nfvn2lcePGlVVXXbXyrW99q3LzzTfXW/fMM89Utt1220ptbW1l1VVXrfz85z+v/OY3v5mvy95XKpXKfffdV9lyyy0rzZo1q7Ro0aKy6667Vl544YV6a2Zd9n7cuHH1ts/68z+vx5k8eXJl7733rrRq1aqSpHoJ/FmXvb/pppvqrf+in/Xf//73yne/+91K69atK02bNq106tSpsscee1Tuv//+uT7+3P5cfd6/X/Z+ll/+8peVddddt9K4ceNKu3btKoceemjlww8/rLdm2223ray33npzvM9/v+T/bbfdVunatWulUaNG9Y5zQe4DWHbUVCpeRQoAAFCC15ABAAAUIsgAAAAKEWQAAACFCDIAAIBCBBkAAEAhggwAAKAQbwy9kNTV1eXdd9/NCiuskJqamtLjAAAAhVQqlXz00Ufp0KFDGjSY+zkwQbaQvPvuu+nYsWPpMQAAgCXE22+/ndVWW22uawTZQrLCCisk+eyb3qJFi8LTAAAApUyaNCkdO3asNsLcCLKFZNbTFFu0aCHIAACA+Xopk4t6AAAAFCLIAAAAChFkAAAAhQgyAACAQgQZAABAIYIMAACgEEEGAABQiCADAAAoRJABAAAUIsgAAAAKEWQAAACFCDIAAIBCBBkAAEAhggwAAKAQQQYAAFCIIAMAAChEkAEAABQiyAAAAAoRZAAAAIUIMgAAgEIEGQAAQCGCDAAAoBBBBgAAUIggAwAAKKRR6QFgYTjyyCMzbty4JEmbNm1y4YUXFp4IAADmTZCxVBg3blzGjBlTegwAAFggnrIIAABQiCADAAAoRJABAAAUIsgAAAAKEWQAAACFCDIAAIBCBBkAAEAhggwAAKAQQQYAAFCIIAMAAChEkAEAABQiyAAAAAppVHoAvlj3H/229AhfGS0+nFz914X3Ppzse7eARp69X+kRAACWSc6QAQAAFCLIAAAAChFkAAAAhQgyAACAQgQZAABAIYIMAACgEEEGAABQiCADAAAoRJABAAAUIsgAAAAKEWQAAACFCDIAAIBCBBkAAEAhjUoPAAtDXePmc/wcAACWZIKMpcLkdfqWHgEAABaYpywCAAAUIsgAAAAKEWQAAACFCDIAAIBCBBkAAEAhggwAAKAQQQYAAFCIIAMAAChEkAEAABQiyAAAAAoRZAAAAIUIMgAAgEIEGQAAQCGCDAAAoBBBBgAAUIggAwAAKKRokD388MPZdddd06FDh9TU1OTWW2+tt79SqeSEE07IKquskmbNmqVXr1555ZVX6q0ZP358+vfvnxYtWqRVq1YZMGBAJk+eXG/NM888k6233jq1tbXp2LFjzjrrrNlmuemmm7LuuuumtrY23bp1y5///OeFfrwAAACfVzTIpkyZkg033DCXXHLJHPefddZZueiii3LZZZfl8ccfT/PmzdO7d+98+umn1TX9+/fP888/n2HDhuWOO+7Iww8/nIEDB1b3T5o0KTvttFM6deqUkSNH5uyzz85JJ52Uyy+/vLrm0UcfzV577ZUBAwbk73//e3bffffsvvvuee655xbdwQMAAMu8mkqlUik9RJLU1NTklltuye67757ks7NjHTp0yA9/+MMcc8wxSZKJEyemXbt2GTp0aPbcc8+8+OKL6dq1a0aMGJEePXokSe6+++7svPPO+de//pUOHTrk0ksvzU9/+tOMHj06TZo0SZIcd9xxufXWW/PSSy8lSb7//e9nypQpueOOO6rzbL755tloo41y2WWXzdf8kyZNSsuWLTNx4sS0aNFioXxPuv/otwvlfmBeRp69X+kRAACWGgvSBkvsa8hef/31jB49Or169apua9myZTbbbLMMHz48STJ8+PC0atWqGmNJ0qtXrzRo0CCPP/54dc0222xTjbEk6d27d15++eV8+OGH1TWff5xZa2Y9zpxMnTo1kyZNqvcBAACwIJbYIBs9enSSpF27dvW2t2vXrrpv9OjRadu2bb39jRo1ykorrVRvzZzu4/OP8UVrZu2fkzPOOCMtW7asfnTs2HFBDxEAAFjGLbFBtqQbMmRIJk6cWP14++23S48EAAB8xSyxQda+ffskyZgxY+ptHzNmTHVf+/btM3bs2Hr7Z8yYkfHjx9dbM6f7+PxjfNGaWfvnpGnTpmnRokW9DwAAgAWxxAZZ586d0759+9x///3VbZMmTcrjjz+enj17Jkl69uyZCRMmZOTIkdU1DzzwQOrq6rLZZptV1zz88MOZPn16dc2wYcOyzjrrZMUVV6yu+fzjzFoz63EAAAAWhaJBNnny5IwaNSqjRo1K8tmFPEaNGpW33norNTU1GTx4cE499dTcfvvtefbZZ7PffvulQ4cO1SsxdunSJX369MkhhxySJ554Io888kgOO+yw7LnnnunQoUOSZO+9906TJk0yYMCAPP/887nxxhtz4YUX5uijj67OceSRR+buu+/Oueeem5deeiknnXRSnnzyyRx22GGL+1sCAAAsQxqVfPAnn3wy22+/ffXrWZG0//77Z+jQoTn22GMzZcqUDBw4MBMmTMhWW22Vu+++O7W1tdXbXHfddTnssMOyww47pEGDBunXr18uuuii6v6WLVvm3nvvzaBBg9K9e/esvPLKOeGEE+q9V9kWW2yR66+/Pj/72c/yk5/8JGuvvXZuvfXWrL/++ovhuwAAACyrlpj3Ifuq8z5kfJV5HzIAgIVnqXgfMgAAgKWdIAMAAChEkAEAABQiyAAAAAoRZAAAAIUIMgAAgEIEGQAAQCGCDAAAoBBBBgAAUIggAwAAKESQAQAAFCLIAAAAChFkAAAAhQgyAACAQgQZAABAIYIMAACgEEEGAABQiCADAAAoRJABAAAUIsgAAAAKEWQAAACFCDIAAIBCBBkAAEAhggwAAKAQQQYAAFCIIAMAAChEkAEAABQiyAAAAAoRZAAAAIUIMgAAgEIEGQAAQCGNSg8AALCwHHnkkRk3blySpE2bNrnwwgsLTwQwd4IMAFhqjBs3LmPGjCk9BsB885RFAACAQgQZAABAIYIMAACgEEEGAABQiCADAAAoRJABAAAUIsgAAAAK8T5kALAE2/LiLUuP8JXSdFLT1KQmSTJ60mjfvwXwyOGPlB4BlknOkAEAABQiyAAAAAoRZAAAAIUIMgAAgEIEGQAAQCGCDAAAoBBBBgAAUIj3IQMAlhqVZpU5fg7LiiOPPDLjxo1LkrRp0yYXXnhh4YmYF0EGACw1pm0zrfQIUNS4ceMyZsyY0mOwADxlEQAAoBBBBgAAUIggAwAAKESQAQAAFCLIAAAAChFkAAAAhbjsPQAAS7SHttm29AhfGZ82apjU1Hz2+ejRvncLaNuHH1rsj+kMGQAAQCGCDAAAoBBBBgAAUIggAwAAKESQAQAAFCLIAAAAChFkAAAAhXgfMgAAWEq0qCRJ5XOfs6QTZAAAsJQ4cObM0iOwgDxlEQAAoBBBBgAAUIggAwAAKESQAQAAFCLIAAAAChFkAAAAhQgyAACAQgQZAABAIYIMAACgEEEGAABQiCADAAAoRJABAAAUIsgAAAAKEWQAAACFCDIAAIBCBBkAAEAhggwAAKAQQQYAAFCIIAMAAChEkAEAABQiyAAAAAoRZAAAAIUIMgAAgEIEGQAAQCGCDAAAoBBBBgAAUIggAwAAKESQAQAAFCLIAAAAChFkAAAAhQgyAACAQpboIJs5c2aOP/74dO7cOc2aNcuaa66Zn//856lUKtU1lUolJ5xwQlZZZZU0a9YsvXr1yiuvvFLvfsaPH5/+/funRYsWadWqVQYMGJDJkyfXW/PMM89k6623Tm1tbTp27JizzjprsRwjAACw7Fqig+zMM8/MpZdeml/+8pd58cUXc+aZZ+ass87KxRdfXF1z1lln5aKLLspll12Wxx9/PM2bN0/v3r3z6aefVtf0798/zz//fIYNG5Y77rgjDz/8cAYOHFjdP2nSpOy0007p1KlTRo4cmbPPPjsnnXRSLr/88sV6vAAAwLKlUekB5ubRRx/Nbrvtll122SVJssYaa+R///d/88QTTyT57OzYBRdckJ/97GfZbbfdkiS//e1v065du9x6663Zc8898+KLL+buu+/OiBEj0qNHjyTJxRdfnJ133jnnnHNOOnTokOuuuy7Tpk3LVVddlSZNmmS99dbLqFGjct5559ULNwAAgIVpiT5DtsUWW+T+++/PP/7xjyTJ008/nb/97W/p27dvkuT111/P6NGj06tXr+ptWrZsmc022yzDhw9PkgwfPjytWrWqxliS9OrVKw0aNMjjjz9eXbPNNtukSZMm1TW9e/fOyy+/nA8//HCOs02dOjWTJk2q9wEAALAglugzZMcdd1wmTZqUddddNw0bNszMmTNz2mmnpX///kmS0aNHJ0natWtX73bt2rWr7hs9enTatm1bb3+jRo2y0kor1VvTuXPn2e5j1r4VV1xxttnOOOOMnHzyyQvhKAEAgGXVEn2G7Pe//32uu+66XH/99XnqqadyzTXX5Jxzzsk111xTerQMGTIkEydOrH68/fbbpUcCAAC+YpboM2Q/+tGPctxxx2XPPfdMknTr1i1vvvlmzjjjjOy///5p3759kmTMmDFZZZVVqrcbM2ZMNtpooyRJ+/btM3bs2Hr3O2PGjIwfP756+/bt22fMmDH11sz6etaaf9e0adM0bdr0Pz9IAABgmbVEnyH7+OOP06BB/REbNmyYurq6JEnnzp3Tvn373H///dX9kyZNyuOPP56ePXsmSXr27JkJEyZk5MiR1TUPPPBA6urqstlmm1XXPPzww5k+fXp1zbBhw7LOOuvM8emKAAAAC8MSHWS77rprTjvttNx555154403csstt+S8887Ld77znSRJTU1NBg8enFNPPTW33357nn322ey3337p0KFDdt999yRJly5d0qdPnxxyyCF54okn8sgjj+Swww7LnnvumQ4dOiRJ9t577zRp0iQDBgzI888/nxtvvDEXXnhhjj766FKHDgAALAOW6KcsXnzxxTn++OPzP//zPxk7dmw6dOiQ//7v/84JJ5xQXXPsscdmypQpGThwYCZMmJCtttoqd999d2pra6trrrvuuhx22GHZYYcd0qBBg/Tr1y8XXXRRdX/Lli1z7733ZtCgQenevXtWXnnlnHDCCS55DwAALFI1lUqlUnqIpcGkSZPSsmXLTJw4MS1atFgo99n9R79dKPcD8zLy7P1KjwB8gS0v3rL0CCwjHjn8kdIjfKGHttm29AgsI7Z9+KGFcj8L0gZL9FMWAQAAlmaCDAAAoBBBBgAAUIggAwAAKESQAQAAFCLIAAAAChFkAAAAhQgyAACAQgQZAABAIYIMAACgEEEGAABQiCADAAAoRJABAAAUIsgAAAAKEWQAAACFCDIAAIBCBBkAAEAhggwAAKAQQQYAAFCIIAMAAChEkAEAABQiyAAAAAoRZAAAAIUIMgAAgEIEGQAAQCGCDAAAoBBBBgAAUIggAwAAKESQAQAAFCLIAAAAChFkAAAAhQgyAACAQgQZAABAIYIMAACgEEEGAABQiCADAAAoRJABAAAUIsgAAAAKEWQAAACFCDIAAIBCBBkAAEAhggwAAKAQQQYAAFCIIAMAAChEkAEAABQiyAAAAAoRZAAAAIUIMgAAgEIEGQAAQCGCDAAAoBBBBgAAUIggAwAAKESQAQAAFCLIAAAAChFkAAAAhQgyAACAQgQZAABAIYIMAACgEEEGAABQiCADAAAoRJABAAAUIsgAAAAKEWQAAACFCDIAAIBCBBkAAEAhggwAAKAQQQYAAFCIIAMAAChEkAEAABQiyAAAAAoRZAAAAIUIMgAAgEIEGQAAQCGCDAAAoBBBBgAAUIggAwAAKESQAQAAFCLIAAAAChFkAAAAhQgyAACAQgQZAABAIY0WZHFdXV0eeuih/PWvf82bb76Zjz/+OG3atMnGG2+cXr16pWPHjotqTgAAgKXOfJ0h++STT3LqqaemY8eO2XnnnXPXXXdlwoQJadiwYV599dWceOKJ6dy5c3beeec89thji3pmAACApcJ8nSH7+te/np49e+aKK67IjjvumMaNG8+25s0338z111+fPffcMz/96U9zyCGHLPRhAQAAlibzFWT33ntvunTpMtc1nTp1ypAhQ3LMMcfkrbfeWijDAQAALM3m6ymL84qxz2vcuHHWXHPNLz0QAADAsmK+r7L405/+tN5/v0hdXd1/NhEAAMAyYr6D7JZbbqn333/3zjvvZPDgwRk4cODCmQwAAGApN99BVldXl3PPPTdvv/12vve97+X3v/99kuSDDz7I//zP/2TNNdfMbbfdlp133nmRDQsAALA0me/3Ifvggw9y/PHHp2HDhnn33Xez995759lnn81vf/vb1NbW5oorrsjee++dhg0bLsp5AQAAlhrzfYYs+exqix07dsyjjz6aoUOH5rTTTsuWW26Z559/Pvvuu68YAwAAWADzHWQtWrTIVlttlUqlkiT5/ve/n5qamvzwhz9Mo0bzfaINAACA/zPfQdakSZN6Xzdu3DgNGjTICiussNCHAgAAWBbMd5Cdeuqp9f6bJFdddVVWWWWVhT8VAADAMmC+n2vYr1+/ev9Nkn333XfhTwQAALCMWKCLegAAALDwCDIAAIBClvgge+edd7LPPvukdevWadasWbp165Ynn3yyur9SqeSEE07IKquskmbNmqVXr1555ZVX6t3H+PHj079//7Ro0SKtWrXKgAEDMnny5HprnnnmmWy99dapra1Nx44dc9ZZZy2W4wMAAJZdS3SQffjhh9lyyy3TuHHj3HXXXXnhhRdy7rnnZsUVV6yuOeuss3LRRRflsssuy+OPP57mzZund+/e+fTTT6tr+vfvn+effz7Dhg3LHXfckYcffjgDBw6s7p80aVJ22mmndOrUKSNHjszZZ5+dk046KZdffvliPV4AAGDZ8qXeQKyuri6vvvpqxo4dm7q6unr7ttlmm4UyWJKceeaZ6dixY66++urqts6dO1c/r1QqueCCC/Kzn/0su+22W5Lkt7/9bdq1a5dbb701e+65Z1588cXcfffdGTFiRHr06JEkufjii7PzzjvnnHPOSYcOHXLddddl2rRpueqqq9KkSZOst956GTVqVM4777x64QYAALAwLfAZssceeyxrrbVWunTpkm222Sbbbbdd9WP77bdfqMPdfvvt6dGjR/7rv/4rbdu2zcYbb5wrrriiuv/111/P6NGj06tXr+q2li1bZrPNNsvw4cOTJMOHD0+rVq2qMZYkvXr1SoMGDfL4449X12yzzTb13mutd+/eefnll/Phhx/OcbapU6dm0qRJ9T4AAAAWxAIH2Q9+8IP06NEjzz33XMaPH58PP/yw+jF+/PiFOtw///nPXHrppVl77bVzzz335NBDD80RRxyRa665JkkyevToJEm7du3q3a5du3bVfaNHj07btm3r7W/UqFFWWmmlemvmdB+ff4x/d8YZZ6Rly5bVj44dO/6HRwsAACxrFvgpi6+88kpuvvnmrLXWWotinnrq6urSo0ePnH766UmSjTfeOM8991wuu+yy7L///ov88edmyJAhOfroo6tfT5o0SZQBAAALZIHPkG222WZ59dVXF8Uss1lllVXStWvXetu6dOmSt956K0nSvn37JMmYMWPqrRkzZkx1X/v27TN27Nh6+2fMmJHx48fXWzOn+/j8Y/y7pk2bpkWLFvU+AAAAFsQCnyE7/PDD88Mf/jCjR49Ot27d0rhx43r7N9hgg4U23JZbbpmXX3653rZ//OMf6dSpU5LPLvDRvn373H///dloo42SfHam6vHHH8+hhx6aJOnZs2cmTJiQkSNHpnv37kmSBx54IHV1ddlss82qa376059m+vTp1eMZNmxY1llnnXpXdARYkh155JEZN25ckqRNmza58MILC08EAMzLAgdZv379kiQHHXRQdVtNTU0qlUpqamoyc+bMhTbcUUcdlS222CKnn3569thjjzzxxBO5/PLLq5ejr6mpyeDBg3Pqqadm7bXXTufOnXP88cenQ4cO2X333ZN8dkatT58+OeSQQ3LZZZdl+vTpOeyww7LnnnumQ4cOSZK99947J598cgYMGJAf//jHee6553LhhRfm/PPPX2jHArCojRs3braz/QDAkm2Bg+z1119fFHPM0SabbJJbbrklQ4YMySmnnJLOnTvnggsuSP/+/atrjj322EyZMiUDBw7MhAkTstVWW+Xuu+9ObW1tdc11112Xww47LDvssEMaNGiQfv365aKLLqrub9myZe69994MGjQo3bt3z8orr5wTTjjBJe8BAIBFaoGDbNbTBReXb33rW/nWt771hftrampyyimn5JRTTvnCNSuttFKuv/76uT7OBhtskL/+9a9fek4AAIAFNV9Bdvvtt6dv375p3Lhxbr/99rmu/fa3v71QBgMAAFjazVeQ7b777tX385r12qw5WdivIQMAAFiazVeQ1dXVzfFzAAAAvrwFfh8yAAAAFo75CrIbbrhhvu/w7bffziOPPPKlBwIAAFhWzNdTFi+99NKcfPLJOfDAA7PrrrumS5cu9fZPnDgxjzzySH73u99l2LBh+c1vfrNIhgWWLW+d0q30CF8pMya0TtLw/z5/1/dvAax+wrOlRwBgGTVfQfbQQw/l9ttvz8UXX5whQ4akefPmadeuXWpra/Phhx9m9OjRWXnllXPAAQfkueeeS7t27Rb13AAAAF958/0+ZN/+9rfz7W9/O++//37+9re/5c0338wnn3ySlVdeORtvvHE23njjNGjgJWkAAADza4HfGHrllVee66XvAQAAmD9OaQEAABQiyAAAAAoRZAAAAIUIMgAAgEK+dJBNmzYtL7/8cmbMmLEw5wHgS1qp6cy0/r+PlZrOLD0OADAfFvgqix9//HEOP/zwXHPNNUmSf/zjH/na176Www8/PKuuumqOO+64hT4kAPP2k40nlB4BAFhAC3yGbMiQIXn66afz4IMPpra2trq9V69eufHGGxfqcAAAAEuzBT5Dduutt+bGG2/M5ptvnpqamur29dZbL6+99tpCHQ4AAGBptsBnyMaNG5e2bdvOtn3KlCn1Ag0AAIC5W+Ag69GjR+68887q17Mi7Morr0zPnj0X3mQAAABLuQV+yuLpp5+evn375oUXXsiMGTNy4YUX5oUXXsijjz6ahx56aFHMCAAAsFRa4DNkW221VUaNGpUZM2akW7duuffee9O2bdsMHz483bt3XxQzAgAALJUW+AxZkqy55pq54oorFvYsAAAAy5QFPkP25z//Offcc89s2++5557cddddC2UoAACAZcECB9lxxx2XmTNnzra9Uql4U2gAAIAFsMBB9sorr6Rr166zbV933XXz6quvLpShAAAAlgULHGQtW7bMP//5z9m2v/rqq2nevPlCGQoAAGBZsMBBtttuu2Xw4MF57bXXqtteffXV/PCHP8y3v/3thTocAADA0myBg+yss85K8+bNs+6666Zz587p3LlzunTpktatW+ecc85ZFDMCAAAslRb4svctW7bMo48+mmHDhuXpp59Os2bNssEGG2SbbbZZFPMBAAAstb7U+5DV1NRkp512yk477bSw5wEAAFhmzFeQXXTRRRk4cGBqa2tz0UUXzXXtEUccsVAGAwAAWNrNV5Cdf/756d+/f2pra3P++ed/4bqamhpBBgAAMJ/mK8hef/31OX4OAADAl7dAV1mcPn161lxzzbz44ouLah4AAIBlxgIFWePGjfPpp58uqlkAAACWKQv8PmSDBg3KmWeemRkzZiyKeQAAAJYZC3zZ+xEjRuT+++/Pvffem27duqV58+b19v/xj39caMMBAAAszRY4yFq1apV+/fotilkAAACWKQscZFdfffWimAMAAGCZM9+vIaurq8uZZ56ZLbfcMptsskmOO+64fPLJJ4tyNgAAgKXafAfZaaedlp/85CdZfvnls+qqq+bCCy/MoEGDFuVsAAAAS7X5DrLf/va3+dWvfpV77rknt956a/70pz/luuuuS11d3aKcDwAAYKk130H21ltvZeedd65+3atXr9TU1OTdd99dJIMBAAAs7eY7yGbMmJHa2tp62xo3bpzp06cv9KEAAACWBfN9lcVKpZIDDjggTZs2rW779NNP84Mf/KDee5F5HzIAAID5M99Btv/++8+2bZ999lmowwAAACxL5jvIvP8YAADAwjXfryEDAABg4RJkAAAAhQgyAACAQgQZAABAIYIMAACgEEEGAABQiCADAAAoRJABAAAUIsgAAAAKEWQAAACFCDIAAIBCBBkAAEAhggwAAKAQQQYAAFCIIAMAAChEkAEAABQiyAAAAAoRZAAAAIUIMgAAgEIEGQAAQCGCDAAAoBBBBgAAUIggAwAAKESQAQAAFCLIAAAAChFkAAAAhQgyAACAQgQZAABAIYIMAACgEEEGAABQiCADAAAoRJABAAAUIsgAAAAKEWQAAACFCDIAAIBCBBkAAEAhggwAAKAQQQYAAFCIIAMAAChEkAEAABQiyAAAAAoRZAAAAIUIMgAAgEIEGQAAQCGCDAAAoBBBBgAAUIggAwAAKESQAQAAFCLIAAAACvlKBdkvfvGL1NTUZPDgwdVtn376aQYNGpTWrVtn+eWXT79+/TJmzJh6t3vrrbeyyy67ZLnllkvbtm3zox/9KDNmzKi35sEHH8w3vvGNNG3aNGuttVaGDh26GI4IAABYln1lgmzEiBH59a9/nQ022KDe9qOOOip/+tOfctNNN+Whhx7Ku+++m+9+97vV/TNnzswuu+ySadOm5dFHH80111yToUOH5oQTTqiuef3117PLLrtk++23z6hRozJ48OAcfPDBueeeexbb8QEAAMuer0SQTZ48Of37988VV1yRFVdcsbp94sSJ+c1vfpPzzjsv3/zmN9O9e/dcffXVefTRR/PYY48lSe6999688MIL+d3vfpeNNtooffv2zc9//vNccsklmTZtWpLksssuS+fOnXPuueemS5cuOeyww/K9730v559/fpHjBQAAlg1fiSAbNGhQdtlll/Tq1ave9pEjR2b69On1tq+77rpZffXVM3z48CTJ8OHD061bt7Rr1666pnfv3pk0aVKef/756pp/v+/evXtX72NOpk6dmkmTJtX7AAAAWBCNSg8wLzfccEOeeuqpjBgxYrZ9o0ePTpMmTdKqVat629u1a5fRo0dX13w+xmbtn7VvbmsmTZqUTz75JM2aNZvtsc8444ycfPLJX/q4AAAAlugzZG+//XaOPPLIXHfddamtrS09Tj1DhgzJxIkTqx9vv/126ZEAAICvmCU6yEaOHJmxY8fmG9/4Rho1apRGjRrloYceykUXXZRGjRqlXbt2mTZtWiZMmFDvdmPGjEn79u2TJO3bt5/tqouzvp7XmhYtWszx7FiSNG3aNC1atKj3AQAAsCCW6CDbYYcd8uyzz2bUqFHVjx49eqR///7Vzxs3bpz777+/epuXX345b731Vnr27Jkk6dmzZ5599tmMHTu2umbYsGFp0aJFunbtWl3z+fuYtWbWfQAAACwKS/RryFZYYYWsv/769bY1b948rVu3rm4fMGBAjj766Ky00kpp0aJFDj/88PTs2TObb755kmSnnXZK165ds+++++ass87K6NGj87Of/SyDBg1K06ZNkyQ/+MEP8stf/jLHHntsDjrooDzwwAP5/e9/nzvvvHPxHjAAALBMWaKDbH6cf/75adCgQfr165epU6emd+/e+dWvflXd37Bhw9xxxx059NBD07NnzzRv3jz7779/TjnllOqazp07584778xRRx2VCy+8MKuttlquvPLK9O7du8QhAQAAy4ivXJA9+OCD9b6ura3NJZdckksuueQLb9OpU6f8+c9/nuv9brfddvn73/++MEYEAACYL0v0a8gAAACWZoIMAACgEEEGAABQiCADAAAoRJABAAAUIsgAAAAKEWQAAACFCDIAAIBCBBkAAEAhggwAAKAQQQYAAFCIIAMAAChEkAEAABQiyAAAAAoRZAAAAIUIMgAAgEIEGQAAQCGCDAAAoBBBBgAAUIggAwAAKESQAQAAFCLIAAAAChFkAAAAhQgyAACAQgQZAABAIYIMAACgEEEGAABQiCADAAAoRJABAAAUIsgAAAAKEWQAAACFCDIAAIBCBBkAAEAhggwAAKAQQQYAAFCIIAMAAChEkAEAABQiyAAAAAoRZAAAAIUIMgAAgEIEGQAAQCGCDAAAoBBBBgAAUIggAwAAKESQAQAAFCLIAAAAChFkAAAAhQgyAACAQgQZAABAIYIMAACgEEEGAABQiCADAAAoRJABAAAUIsgAAAAKEWQAAACFCDIAAIBCBBkAAEAhggwAAKAQQQYAAFCIIAMAAChEkAEAABQiyAAAAAoRZAAAAIUIMgAAgEIEGQAAQCGCDAAAoBBBBgAAUIggAwAAKESQAQAAFCLIAAAAChFkAAAAhQgyAACAQgQZAABAIYIMAACgEEEGAABQiCADAAAoRJABAAAUIsgAAAAKEWQAAACFCDIAAIBCBBkAAEAhggwAAKAQQQYAAFCIIAMAAChEkAEAABQiyAAAAAoRZAAAAIUIMgAAgEIEGQAAQCGCDAAAoBBBBgAAUIggAwAAKESQAQAAFCLIAAAAChFkAAAAhQgyAACAQgQZAABAIUt0kJ1xxhnZZJNNssIKK6Rt27bZfffd8/LLL9db8+mnn2bQoEFp3bp1ll9++fTr1y9jxoypt+att97KLrvskuWWWy5t27bNj370o8yYMaPemgcffDDf+MY30rRp06y11loZOnTooj48AABgGbdEB9lDDz2UQYMG5bHHHsuwYcMyffr07LTTTpkyZUp1zVFHHZU//elPuemmm/LQQw/l3XffzXe/+93q/pkzZ2aXXXbJtGnT8uijj+aaa67J0KFDc8IJJ1TXvP7669lll12y/fbbZ9SoURk8eHAOPvjg3HPPPYv1eAEAgGVLo9IDzM3dd99d7+uhQ4embdu2GTlyZLbZZptMnDgxv/nNb3L99dfnm9/8ZpLk6quvTpcuXfLYY49l8803z7333psXXngh9913X9q1a5eNNtooP//5z/PjH/84J510Upo0aZLLLrssnTt3zrnnnpsk6dKlS/72t7/l/PPPT+/evRf7cQMAAMuGJfoM2b+bOHFikmSllVZKkowcOTLTp09Pr169qmvWXXfdrL766hk+fHiSZPjw4enWrVvatWtXXdO7d+9MmjQpzz//fHXN5+9j1ppZ9zEnU6dOzaRJk+p9AAAALIivTJDV1dVl8ODB2XLLLbP++usnSUaPHp0mTZqkVatW9da2a9cuo0ePrq75fIzN2j9r39zWTJo0KZ988skc5znjjDPSsmXL6kfHjh3/42MEAACWLV+ZIBs0aFCee+653HDDDaVHSZIMGTIkEydOrH68/fbbpUcCAAC+Ypbo15DNcthhh+WOO+7Iww8/nNVWW626vX379pk2bVomTJhQ7yzZmDFj0r59++qaJ554ot79zboK4+fX/PuVGceMGZMWLVqkWbNmc5ypadOmadq06X98bAAAwLJriT5DVqlUcthhh+WWW27JAw88kM6dO9fb37179zRu3Dj3339/ddvLL7+ct956Kz179kyS9OzZM88++2zGjh1bXTNs2LC0aNEiXbt2ra75/H3MWjPrPgAAABaFJfoM2aBBg3L99dfntttuyworrFB9zVfLli3TrFmztGzZMgMGDMjRRx+dlVZaKS1atMjhhx+enj17ZvPNN0+S7LTTTunatWv23XffnHXWWRk9enR+9rOfZdCgQdUzXD/4wQ/yy1/+Mscee2wOOuigPPDAA/n973+fO++8s9ixAwAAS78l+gzZpZdemokTJ2a77bbLKqusUv248cYbq2vOP//8fOtb30q/fv2yzTbbpH379vnjH/9Y3d+wYcPccccdadiwYXr27Jl99tkn++23X0455ZTqms6dO+fOO+/MsGHDsuGGG+bcc8/NlVde6ZL3AADAIrVEnyGrVCrzXFNbW5tLLrkkl1xyyReu6dSpU/785z/P9X622267/P3vf1/gGQEAAL6sJfoMGQAAwNJMkAEAABQiyAAAAAoRZAAAAIUIMgAAgEIEGQAAQCGCDAAAoBBBBgAAUIggAwAAKESQAQAAFCLIAAAAChFkAAAAhQgyAACAQgQZAABAIYIMAACgEEEGAABQiCADAAAoRJABAAAUIsgAAAAKEWQAAACFCDIAAIBCBBkAAEAhggwAAKAQQQYAAFCIIAMAAChEkAEAABQiyAAAAAoRZAAAAIUIMgAAgEIEGQAAQCGCDAAAoBBBBgAAUIggAwAAKESQAQAAFCLIAAAAChFkAAAAhQgyAACAQgQZAABAIYIMAACgEEEGAABQiCADAAAoRJABAAAUIsgAAAAKEWQAAACFCDIAAIBCBBkAAEAhggwAAKAQQQYAAFCIIAMAAChEkAEAABQiyAAAAAoRZAAAAIUIMgAAgEIEGQAAQCGCDAAAoBBBBgAAUIggAwAAKESQAQAAFCLIAAAAChFkAAAAhQgyAACAQgQZAABAIYIMAACgEEEGAABQiCADAAAoRJABAAAUIsgAAAAKEWQAAACFCDIAAIBCBBkAAEAhggwAAKAQQQYAAFCIIAMAAChEkAEAABQiyAAAAAoRZAAAAIUIMgAAgEIEGQAAQCGCDAAAoBBBBgAAUIggAwAAKESQAQAAFCLIAAAAChFkAAAAhQgyAACAQgQZAABAIYIMAACgEEEGAABQiCADAAAoRJABAAAUIsgAAAAKEWQAAACFCDIAAIBCBBkAAEAhggwAAKAQQQYAAFCIIAMAAChEkP2bSy65JGussUZqa2uz2Wab5Yknnig9EgAAsJQSZJ9z44035uijj86JJ56Yp556KhtuuGF69+6dsWPHlh4NAABYCgmyzznvvPNyyCGH5MADD0zXrl1z2WWXZbnllstVV11VejQAAGAp1Kj0AEuKadOmZeTIkRkyZEh1W4MGDdKrV68MHz58tvVTp07N1KlTq19PnDgxSTJp0qSFNtPMqZ8stPuCuVmYf24Xpo8+nVl6BJYRS+rvQJLM+GRG6RFYRizJvwdTZvg9YPFYWL8Hs+6nUqnMc60g+z/vv/9+Zs6cmXbt2tXb3q5du7z00kuzrT/jjDNy8sknz7a9Y8eOi2xGWFRaXvyD0iNAWWe0LD0BFNfyx34PIC0X7u/BRx99lJbzuE9B9iUNGTIkRx99dPXrurq6jB8/Pq1bt05NTU3ByZZdkyZNSseOHfP222+nRYsWpceBIvwegN8D8DtQXqVSyUcffZQOHTrMc60g+z8rr7xyGjZsmDFjxtTbPmbMmLRv33629U2bNk3Tpk3rbWvVqtWiHJH51KJFC//zYZnn9wD8HoDfgbLmdWZsFhf1+D9NmjRJ9+7dc//991e31dXV5f7770/Pnj0LTgYAACytnCH7nKOPPjr7779/evTokU033TQXXHBBpkyZkgMPPLD0aAAAwFJIkH3O97///YwbNy4nnHBCRo8enY022ih33333bBf6YMnUtGnTnHjiibM9lRSWJX4PwO8B+B34aqmpzM+1GAEAAFjovIYMAACgEEEGAABQiCADAAAoRJABAAAUIsj4yrv00kuzwQYbVN/8sGfPnrnrrrtKjwXF/OIXv0hNTU0GDx5cehRYbE466aTU1NTU+1h33XVLjwWL3TvvvJN99tknrVu3TrNmzdKtW7c8+eSTpcdiLlz2nq+81VZbLb/4xS+y9tprp1Kp5Jprrsluu+2Wv//971lvvfVKjweL1YgRI/LrX/86G2ywQelRYLFbb731ct9991W/btTIX3NYtnz44YfZcssts/322+euu+5KmzZt8sorr2TFFVcsPRpz4f9UfOXtuuuu9b4+7bTTcumll+axxx4TZCxTJk+enP79++eKK67IqaeeWnocWOwaNWqU9u3blx4DijnzzDPTsWPHXH311dVtnTt3LjgR88NTFlmqzJw5MzfccEOmTJmSnj17lh4HFqtBgwZll112Sa9evUqPAkW88sor6dChQ772ta+lf//+eeutt0qPBIvV7bffnh49euS//uu/0rZt22y88ca54oorSo/FPDhDxlLh2WefTc+ePfPpp59m+eWXzy233JKuXbuWHgsWmxtuuCFPPfVURowYUXoUKGKzzTbL0KFDs8466+S9997LySefnK233jrPPfdcVlhhhdLjwWLxz3/+M5deemmOPvro/OQnP8mIESNyxBFHpEmTJtl///1Lj8cXqKlUKpXSQ8B/atq0aXnrrbcyceLE3Hzzzbnyyivz0EMPiTKWCW+//XZ69OiRYcOGVV87tt1222WjjTbKBRdcUHY4KGTChAnp1KlTzjvvvAwYMKD0OLBYNGnSJD169Mijjz5a3XbEEUdkxIgRGT58eMHJmBtPWWSp0KRJk6y11lrp3r17zjjjjGy44Ya58MILS48Fi8XIkSMzduzYfOMb30ijRo3SqFGjPPTQQ7nooovSqFGjzJw5s/SIsNi1atUqX//61/Pqq6+WHgUWm1VWWWW2f4zu0qWLp+8u4TxlkaVSXV1dpk6dWnoMWCx22GGHPPvss/W2HXjggVl33XXz4x//OA0bNiw0GZQzefLkvPbaa9l3331LjwKLzZZbbpmXX3653rZ//OMf6dSpU6GJmB+CjK+8IUOGpG/fvll99dXz0Ucf5frrr8+DDz6Ye+65p/RosFissMIKWX/99etta968eVq3bj3bdlhaHXPMMdl1113TqVOnvPvuuznxxBPTsGHD7LXXXqVHg8XmqKOOyhZbbJHTTz89e+yxR5544olcfvnlufzyy0uPxlwIMr7yxo4dm/322y/vvfdeWrZsmQ022CD33HNPdtxxx9KjAbCY/Otf/8pee+2VDz74IG3atMlWW22Vxx57LG3atCk9Giw2m2yySW655ZYMGTIkp5xySjp37pwLLrgg/fv3Lz0ac+GiHgAAAIW4qAcAAEAhggwAAKAQQQYAAFCIIAMAAChEkAEAABQiyAAAAAoRZAAAAIUIMgAAgEIEGQAUUlNTk1tvvbX0GAAUJMgAWOYccMABqampyQ9+8IPZ9g0aNCg1NTU54IADFtrjnXTSSdloo40W2v0BsPQQZAAskzp27Jgbbrghn3zySXXbp59+muuvvz6rr756wckAWJYIMgCWSd/4xjfSsWPH/PGPf6xu++Mf/5jVV189G2+8cXXb1KlTc8QRR6Rt27apra3NVlttlREjRlT3P/jgg6mpqcn999+fHj16ZLnllssWW2yRl19+OUkydOjQnHzyyXn66adTU1OTmpqaDB06tHr7999/P9/5zney3HLLZe21187tt99e3ffhhx+mf//+adOmTZo1a5a11147V1999SL8rgCwuAkyAJZZBx10UL3Aueqqq3LggQfWW3PsscfmD3/4Q6655po89dRTWWuttdK7d++MHz++3rqf/vSnOffcc/Pkk0+mUaNGOeigg5Ik3//+9/PDH/4w6623Xt5777289957+f73v1+93cknn5w99tgjzzzzTHbeeef079+/et/HH398Xnjhhdx111158cUXc+mll2bllVdeVN8OAAoQZAAss/bZZ5/87W9/y5tvvpk333wzjzzySPbZZ5/q/ilTpuTSSy/N2Wefnb59+6Zr16654oor0qxZs/zmN7+pd1+nnXZatt1223Tt2jXHHXdcHn300Xz66adp1qxZll9++TRq1Cjt27dP+/bt06xZs+rtDjjggOy1115Za621cvrpp2fy5Ml54oknkiRvvfVWNt544/To0SNrrLFGevXqlV133XXxfHMAWCwalR4AAEpp06ZNdtlllwwdOjSVSiW77LJLvTNQr732WqZPn54tt9yyuq1x48bZdNNN8+KLL9a7rw022KD6+SqrrJIkGTt27Dxfj/b52zVv3jwtWrTI2LFjkySHHnpo+vXrl6eeeio77bRTdt9992yxxRZf/oABWOI4QwbAMu2ggw7K0KFDc80111SfZvhlNG7cuPp5TU1NkqSurm6BbjfrtrNu17dv37z55ps56qij8u6772aHHXbIMccc86VnBGDJI8gAWKb16dMn06ZNy/Tp09O7d+96+9Zcc800adIkjzzySHXb9OnTM2LEiHTt2nW+H6NJkyaZOXPml5qvTZs22X///fO73/0uF1xwQS6//PIvdT8ALJk8ZRGAZVrDhg2rTz9s2LBhvX3NmzfPoYcemh/96EdZaaWVsvrqq+ess87Kxx9/nAEDBsz3Y6yxxhp5/fXXM2rUqKy22mpZYYUV0rRp03ne7oQTTkj37t2z3nrrZerUqbnjjjvSpUuXBTtAAJZoggyAZV6LFi2+cN8vfvGL1NXVZd99981HH32UHj165J577smKK6443/ffr1+//PGPf8z222+fCRMm5Oqrr56vN55u0qRJhgwZkjfeeCPNmjXL1ltvnRtuuGG+HxeAJV9NpVKplB4CAABgWeQ1ZAAAAIUIMgAAgEIEGQAAQCGCDAAAoBBBBgAAUIggAwAAKESQAQAAFCLIAAAAChFkAAAAhQgyAACAQgQZAABAIf8PUigfUGhBiEsAAAAASUVORK5CYII=\n",
      "text/plain": [
       "<Figure size 1000x800 with 1 Axes>"
      ]
     },
     "metadata": {},
     "output_type": "display_data"
    }
   ],
   "source": [
    "plt.figure(figsize=(10,8))\n",
    "sns.barplot(data=df,x=\"Month\",y='Price')\n",
    "\n",
    "plt.xlabel('Months')\n",
    "plt.ylabel(\"Price (in ₹)\")\n",
    "plt.title(\"Effect of Price based on the Month\")\n",
    "#plt.xticks(rotation=\"vertical\")\n",
    "plt.show()"
   ]
  },
  {
   "cell_type": "markdown",
   "id": "d9d6dd06",
   "metadata": {},
   "source": [
    "#### Flights of March seem to be more expensive compared to other months."
   ]
  },
  {
   "cell_type": "markdown",
   "id": "8a7b7f93",
   "metadata": {},
   "source": [
    "## Distribution of the flight prices"
   ]
  },
  {
   "cell_type": "code",
   "execution_count": 89,
   "id": "1da66bbb",
   "metadata": {
    "scrolled": false
   },
   "outputs": [
    {
     "data": {
      "text/plain": [
       "Text(0.5, 1.0, 'Distribution of Flight Prices')"
      ]
     },
     "execution_count": 89,
     "metadata": {},
     "output_type": "execute_result"
    },
    {
     "data": {
      "image/png": "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\n",
      "text/plain": [
       "<Figure size 900x600 with 1 Axes>"
      ]
     },
     "metadata": {},
     "output_type": "display_data"
    }
   ],
   "source": [
    "plt.figure(figsize=(9,6))\n",
    "sns.histplot(data=df,x='Price',kde=True)\n",
    "\n",
    "plt.title(\"Distribution of Flight Prices\")"
   ]
  },
  {
   "cell_type": "markdown",
   "id": "33a27572",
   "metadata": {},
   "source": [
    "#### The distribution of flight prices is right skewed, which means that the majority of the flight prices lie in the left side of the graph, i.e. they majorly range from ₹2000 to ₹16000"
   ]
  },
  {
   "cell_type": "markdown",
   "id": "c0752441",
   "metadata": {},
   "source": [
    "# Conclusion"
   ]
  },
  {
   "cell_type": "markdown",
   "id": "0eda60db",
   "metadata": {},
   "source": [
    "#### 1. Price of Jet Airways Business is significantly higher compared to other airlines. Since this is a Business Class airline, we can say that Price significatly depends on the type of Airline (Business or Economy).\n",
    "#### 2. The flight prices from Delhi are significantly higher compared to other cities. This may happen because Delhi is the capital of India. So flight prices depend on the source of flight.\n",
    "#### 3. Flight prices are highly correlated to the number of stops in the route of journey. More the number of stops, higher is the price.\n",
    "#### 4. Flight price of Business Class is the highest.\n",
    "#### 5. Flights arriving at 5AM have the highest prices compared to other hours of the day.\n",
    "#### 6. Flights of depature at 3AM have the highest price compared to other hours of the day.\n",
    "#### 7. Flights of depature at 1AM have a significantly low price compared to other hours of the day.\n",
    "#### 8. Flight prices highly depend on the duration of the flight. More the duration, higher is the flight price.\n",
    "#### 9. Flights of March seem to be more expensive compared to other months.\n",
    "#### 10. The distribution of flight prices is right skewed, which means that the majority of the flight prices lie in the left side of the graph, i.e. they majorly range from ₹2000 to ₹16000"
   ]
  }
 ],
 "metadata": {
  "kernelspec": {
   "display_name": "Python 3 (ipykernel)",
   "language": "python",
   "name": "python3"
  },
  "language_info": {
   "codemirror_mode": {
    "name": "ipython",
    "version": 3
   },
   "file_extension": ".py",
   "mimetype": "text/x-python",
   "name": "python",
   "nbconvert_exporter": "python",
   "pygments_lexer": "ipython3",
   "version": "3.10.5"
  }
 },
 "nbformat": 4,
 "nbformat_minor": 5
}
